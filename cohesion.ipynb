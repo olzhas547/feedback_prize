{
 "cells": [
  {
   "cell_type": "code",
   "execution_count": 1,
   "id": "aecca58a",
   "metadata": {
    "execution": {
     "iopub.execute_input": "2022-11-29T08:51:10.847455Z",
     "iopub.status.busy": "2022-11-29T08:51:10.846875Z",
     "iopub.status.idle": "2022-11-29T08:51:16.273050Z",
     "shell.execute_reply": "2022-11-29T08:51:16.272078Z"
    },
    "papermill": {
     "duration": 5.43465,
     "end_time": "2022-11-29T08:51:16.275527",
     "exception": false,
     "start_time": "2022-11-29T08:51:10.840877",
     "status": "completed"
    },
    "tags": []
   },
   "outputs": [],
   "source": [
    "import numpy as np\n",
    "import pandas as pd\n",
    "import matplotlib.pyplot as plt\n",
    "import seaborn as sns\n",
    "import tensorflow as tf\n",
    "import transformers\n",
    "from sklearn.model_selection import KFold\n",
    "from sklearn.metrics import mean_squared_error\n",
    "import json\n",
    "from math import log10, floor"
   ]
  },
  {
   "cell_type": "code",
   "execution_count": 2,
   "id": "f88aad84",
   "metadata": {
    "execution": {
     "iopub.execute_input": "2022-11-29T08:51:16.283544Z",
     "iopub.status.busy": "2022-11-29T08:51:16.282747Z",
     "iopub.status.idle": "2022-11-29T08:51:16.501752Z",
     "shell.execute_reply": "2022-11-29T08:51:16.500857Z"
    },
    "papermill": {
     "duration": 0.225118,
     "end_time": "2022-11-29T08:51:16.503816",
     "exception": false,
     "start_time": "2022-11-29T08:51:16.278698",
     "status": "completed"
    },
    "tags": []
   },
   "outputs": [
    {
     "data": {
      "text/html": [
       "<div>\n",
       "<style scoped>\n",
       "    .dataframe tbody tr th:only-of-type {\n",
       "        vertical-align: middle;\n",
       "    }\n",
       "\n",
       "    .dataframe tbody tr th {\n",
       "        vertical-align: top;\n",
       "    }\n",
       "\n",
       "    .dataframe thead th {\n",
       "        text-align: right;\n",
       "    }\n",
       "</style>\n",
       "<table border=\"1\" class=\"dataframe\">\n",
       "  <thead>\n",
       "    <tr style=\"text-align: right;\">\n",
       "      <th></th>\n",
       "      <th>full_text</th>\n",
       "      <th>cohesion</th>\n",
       "    </tr>\n",
       "  </thead>\n",
       "  <tbody>\n",
       "    <tr>\n",
       "      <th>0</th>\n",
       "      <td>I think that students would benefit from learn...</td>\n",
       "      <td>3.5</td>\n",
       "    </tr>\n",
       "    <tr>\n",
       "      <th>1</th>\n",
       "      <td>When a problem is a change you have to let it ...</td>\n",
       "      <td>2.5</td>\n",
       "    </tr>\n",
       "    <tr>\n",
       "      <th>2</th>\n",
       "      <td>Dear, Principal If u change the school policy ...</td>\n",
       "      <td>3.0</td>\n",
       "    </tr>\n",
       "    <tr>\n",
       "      <th>3</th>\n",
       "      <td>The best time in life is when you become yours...</td>\n",
       "      <td>4.5</td>\n",
       "    </tr>\n",
       "    <tr>\n",
       "      <th>4</th>\n",
       "      <td>Small act of kindness can impact in other peop...</td>\n",
       "      <td>2.5</td>\n",
       "    </tr>\n",
       "  </tbody>\n",
       "</table>\n",
       "</div>"
      ],
      "text/plain": [
       "                                           full_text  cohesion\n",
       "0  I think that students would benefit from learn...       3.5\n",
       "1  When a problem is a change you have to let it ...       2.5\n",
       "2  Dear, Principal If u change the school policy ...       3.0\n",
       "3  The best time in life is when you become yours...       4.5\n",
       "4  Small act of kindness can impact in other peop...       2.5"
      ]
     },
     "execution_count": 2,
     "metadata": {},
     "output_type": "execute_result"
    }
   ],
   "source": [
    "df_train = pd.read_csv('/kaggle/input/data-cleaning/cohesion.csv')\n",
    "df_test = pd.read_csv('../input/feedback-prize-english-language-learning/test.csv')\n",
    "df_train.head()"
   ]
  },
  {
   "cell_type": "code",
   "execution_count": 3,
   "id": "480a97d6",
   "metadata": {
    "execution": {
     "iopub.execute_input": "2022-11-29T08:51:16.510838Z",
     "iopub.status.busy": "2022-11-29T08:51:16.510558Z",
     "iopub.status.idle": "2022-11-29T08:51:17.054748Z",
     "shell.execute_reply": "2022-11-29T08:51:17.053785Z"
    },
    "papermill": {
     "duration": 0.550186,
     "end_time": "2022-11-29T08:51:17.057125",
     "exception": false,
     "start_time": "2022-11-29T08:51:16.506939",
     "status": "completed"
    },
    "tags": []
   },
   "outputs": [],
   "source": [
    "df_train['full_text'].replace(r'\\s+|\\\\n', ' ', regex=True, inplace=True) \n",
    "df_test['full_text'].replace(r'\\s+|\\\\n', ' ', regex=True, inplace=True)"
   ]
  },
  {
   "cell_type": "code",
   "execution_count": 4,
   "id": "de467e07",
   "metadata": {
    "execution": {
     "iopub.execute_input": "2022-11-29T08:51:17.064262Z",
     "iopub.status.busy": "2022-11-29T08:51:17.063968Z",
     "iopub.status.idle": "2022-11-29T08:51:17.070735Z",
     "shell.execute_reply": "2022-11-29T08:51:17.069878Z"
    },
    "papermill": {
     "duration": 0.012431,
     "end_time": "2022-11-29T08:51:17.072587",
     "exception": false,
     "start_time": "2022-11-29T08:51:17.060156",
     "status": "completed"
    },
    "tags": []
   },
   "outputs": [
    {
     "data": {
      "text/plain": [
       "0    I think that students would benefit from learn...\n",
       "1    When a problem is a change you have to let it ...\n",
       "2    Dear, Principal If u change the school policy ...\n",
       "3    The best time in life is when you become yours...\n",
       "4    Small act of kindness can impact in other peop...\n",
       "Name: full_text, dtype: object"
      ]
     },
     "execution_count": 4,
     "metadata": {},
     "output_type": "execute_result"
    }
   ],
   "source": [
    "df_train['full_text'].head()"
   ]
  },
  {
   "cell_type": "code",
   "execution_count": 5,
   "id": "c34371fe",
   "metadata": {
    "execution": {
     "iopub.execute_input": "2022-11-29T08:51:17.080669Z",
     "iopub.status.busy": "2022-11-29T08:51:17.079123Z",
     "iopub.status.idle": "2022-11-29T08:51:17.447371Z",
     "shell.execute_reply": "2022-11-29T08:51:17.446387Z"
    },
    "papermill": {
     "duration": 0.374479,
     "end_time": "2022-11-29T08:51:17.449859",
     "exception": false,
     "start_time": "2022-11-29T08:51:17.075380",
     "status": "completed"
    },
    "tags": []
   },
   "outputs": [],
   "source": [
    "tokenizer = transformers.DistilBertTokenizerFast.from_pretrained('../input/huggingface-bert-variants/distilbert-base-uncased/distilbert-base-uncased')"
   ]
  },
  {
   "cell_type": "code",
   "execution_count": 6,
   "id": "6c0825ba",
   "metadata": {
    "execution": {
     "iopub.execute_input": "2022-11-29T08:51:17.457353Z",
     "iopub.status.busy": "2022-11-29T08:51:17.457055Z",
     "iopub.status.idle": "2022-11-29T08:51:33.873138Z",
     "shell.execute_reply": "2022-11-29T08:51:33.872182Z"
    },
    "papermill": {
     "duration": 16.422758,
     "end_time": "2022-11-29T08:51:33.875801",
     "exception": false,
     "start_time": "2022-11-29T08:51:17.453043",
     "status": "completed"
    },
    "tags": []
   },
   "outputs": [
    {
     "name": "stderr",
     "output_type": "stream",
     "text": [
      "2022-11-29 08:51:19.974583: I tensorflow/stream_executor/cuda/cuda_gpu_executor.cc:937] successful NUMA node read from SysFS had negative value (-1), but there must be at least one NUMA node, so returning NUMA node zero\n",
      "2022-11-29 08:51:19.975808: I tensorflow/stream_executor/cuda/cuda_gpu_executor.cc:937] successful NUMA node read from SysFS had negative value (-1), but there must be at least one NUMA node, so returning NUMA node zero\n",
      "2022-11-29 08:51:19.976590: I tensorflow/stream_executor/cuda/cuda_gpu_executor.cc:937] successful NUMA node read from SysFS had negative value (-1), but there must be at least one NUMA node, so returning NUMA node zero\n",
      "2022-11-29 08:51:19.977524: I tensorflow/core/platform/cpu_feature_guard.cc:142] This TensorFlow binary is optimized with oneAPI Deep Neural Network Library (oneDNN) to use the following CPU instructions in performance-critical operations:  AVX2 AVX512F FMA\n",
      "To enable them in other operations, rebuild TensorFlow with the appropriate compiler flags.\n",
      "2022-11-29 08:51:19.977843: I tensorflow/stream_executor/cuda/cuda_gpu_executor.cc:937] successful NUMA node read from SysFS had negative value (-1), but there must be at least one NUMA node, so returning NUMA node zero\n",
      "2022-11-29 08:51:19.978611: I tensorflow/stream_executor/cuda/cuda_gpu_executor.cc:937] successful NUMA node read from SysFS had negative value (-1), but there must be at least one NUMA node, so returning NUMA node zero\n",
      "2022-11-29 08:51:19.979305: I tensorflow/stream_executor/cuda/cuda_gpu_executor.cc:937] successful NUMA node read from SysFS had negative value (-1), but there must be at least one NUMA node, so returning NUMA node zero\n",
      "2022-11-29 08:51:24.707951: I tensorflow/stream_executor/cuda/cuda_gpu_executor.cc:937] successful NUMA node read from SysFS had negative value (-1), but there must be at least one NUMA node, so returning NUMA node zero\n",
      "2022-11-29 08:51:24.708820: I tensorflow/stream_executor/cuda/cuda_gpu_executor.cc:937] successful NUMA node read from SysFS had negative value (-1), but there must be at least one NUMA node, so returning NUMA node zero\n",
      "2022-11-29 08:51:24.709520: I tensorflow/stream_executor/cuda/cuda_gpu_executor.cc:937] successful NUMA node read from SysFS had negative value (-1), but there must be at least one NUMA node, so returning NUMA node zero\n",
      "2022-11-29 08:51:24.710117: I tensorflow/core/common_runtime/gpu/gpu_device.cc:1510] Created device /job:localhost/replica:0/task:0/device:GPU:0 with 15043 MB memory:  -> device: 0, name: Tesla P100-PCIE-16GB, pci bus id: 0000:00:04.0, compute capability: 6.0\n",
      "2022-11-29 08:51:25.088652: W tensorflow/python/util/util.cc:348] Sets are not currently considered sequences, but this may change in the future, so consider avoiding using them.\n",
      "Some layers from the model checkpoint at ../input/huggingface-bert-variants/distilbert-base-uncased/distilbert-base-uncased were not used when initializing TFDistilBertModel: ['activation_13', 'vocab_layer_norm', 'vocab_transform', 'vocab_projector']\n",
      "- This IS expected if you are initializing TFDistilBertModel from the checkpoint of a model trained on another task or with another architecture (e.g. initializing a BertForSequenceClassification model from a BertForPreTraining model).\n",
      "- This IS NOT expected if you are initializing TFDistilBertModel from the checkpoint of a model that you expect to be exactly identical (initializing a BertForSequenceClassification model from a BertForSequenceClassification model).\n",
      "All the layers of TFDistilBertModel were initialized from the model checkpoint at ../input/huggingface-bert-variants/distilbert-base-uncased/distilbert-base-uncased.\n",
      "If your task is similar to the task the model of the checkpoint was trained on, you can already use TFDistilBertModel for predictions without further training.\n"
     ]
    }
   ],
   "source": [
    "input_ids_layer = tf.keras.Input(shape=512, dtype=tf.int32)\n",
    "attention_mask_layer = tf.keras.Input(shape=512, dtype=tf.int32)\n",
    "base_model = transformers.TFDistilBertModel.from_pretrained('../input/huggingface-bert-variants/distilbert-base-uncased/distilbert-base-uncased')\n",
    "base_model.trainable = False\n",
    "base_model_output = base_model(input_ids=input_ids_layer, attention_mask = attention_mask_layer)\n",
    "pooling = tf.keras.layers.GlobalAveragePooling1D()(base_model_output.last_hidden_state)\n",
    "output = tf.keras.layers.Dense(1, activation=\"linear\")(pooling)\n",
    "model = tf.keras.Model(inputs=[input_ids_layer, attention_mask_layer], outputs=output)\n",
    "model.compile(\n",
    "    optimizer=tf.keras.optimizers.Adam(learning_rate=0.003), \n",
    "    loss='mse',\n",
    ")"
   ]
  },
  {
   "cell_type": "code",
   "execution_count": 7,
   "id": "c75c6595",
   "metadata": {
    "execution": {
     "iopub.execute_input": "2022-11-29T08:51:33.884068Z",
     "iopub.status.busy": "2022-11-29T08:51:33.883584Z",
     "iopub.status.idle": "2022-11-29T08:51:33.894301Z",
     "shell.execute_reply": "2022-11-29T08:51:33.892941Z"
    },
    "papermill": {
     "duration": 0.016824,
     "end_time": "2022-11-29T08:51:33.896217",
     "exception": false,
     "start_time": "2022-11-29T08:51:33.879393",
     "status": "completed"
    },
    "tags": []
   },
   "outputs": [
    {
     "name": "stdout",
     "output_type": "stream",
     "text": [
      "Model: \"model\"\n",
      "__________________________________________________________________________________________________\n",
      "Layer (type)                    Output Shape         Param #     Connected to                     \n",
      "==================================================================================================\n",
      "input_1 (InputLayer)            [(None, 512)]        0                                            \n",
      "__________________________________________________________________________________________________\n",
      "input_2 (InputLayer)            [(None, 512)]        0                                            \n",
      "__________________________________________________________________________________________________\n",
      "tf_distil_bert_model (TFDistilB TFBaseModelOutput(la 66362880    input_1[0][0]                    \n",
      "                                                                 input_2[0][0]                    \n",
      "__________________________________________________________________________________________________\n",
      "global_average_pooling1d (Globa (None, 768)          0           tf_distil_bert_model[0][0]       \n",
      "__________________________________________________________________________________________________\n",
      "dense (Dense)                   (None, 1)            769         global_average_pooling1d[0][0]   \n",
      "==================================================================================================\n",
      "Total params: 66,363,649\n",
      "Trainable params: 769\n",
      "Non-trainable params: 66,362,880\n",
      "__________________________________________________________________________________________________\n"
     ]
    }
   ],
   "source": [
    "model.summary()"
   ]
  },
  {
   "cell_type": "code",
   "execution_count": 8,
   "id": "72468a80",
   "metadata": {
    "execution": {
     "iopub.execute_input": "2022-11-29T08:51:33.904897Z",
     "iopub.status.busy": "2022-11-29T08:51:33.903502Z",
     "iopub.status.idle": "2022-11-29T08:51:38.153697Z",
     "shell.execute_reply": "2022-11-29T08:51:38.152754Z"
    },
    "papermill": {
     "duration": 4.256597,
     "end_time": "2022-11-29T08:51:38.156087",
     "exception": false,
     "start_time": "2022-11-29T08:51:33.899490",
     "status": "completed"
    },
    "tags": []
   },
   "outputs": [],
   "source": [
    "encoded = tokenizer.batch_encode_plus(\n",
    "    df_train['full_text'].tolist(),\n",
    "    add_special_tokens=False,\n",
    "    max_length=512,\n",
    "    padding='max_length',\n",
    "    truncation=True,\n",
    "    return_attention_mask=True,)\n",
    "\n",
    "encoded_test = tokenizer.batch_encode_plus(\n",
    "    df_test['full_text'].tolist(),\n",
    "    add_special_tokens=False,\n",
    "    max_length=512,\n",
    "    padding='max_length',\n",
    "    truncation=True,\n",
    "    return_attention_mask=True,)\n",
    "\n",
    "input_ids = pd.Series(encoded['input_ids'])\n",
    "attention_mask = pd.Series(encoded['attention_mask'])\n",
    "\n",
    "input_ids_test = tf.convert_to_tensor(encoded_test['input_ids'])\n",
    "attention_mask_test = tf.convert_to_tensor(encoded_test['attention_mask'])\n"
   ]
  },
  {
   "cell_type": "code",
   "execution_count": 9,
   "id": "0a37f0f1",
   "metadata": {
    "execution": {
     "iopub.execute_input": "2022-11-29T08:51:38.163953Z",
     "iopub.status.busy": "2022-11-29T08:51:38.163625Z",
     "iopub.status.idle": "2022-11-29T09:09:05.701449Z",
     "shell.execute_reply": "2022-11-29T09:09:05.700422Z"
    },
    "papermill": {
     "duration": 1047.544184,
     "end_time": "2022-11-29T09:09:05.703651",
     "exception": false,
     "start_time": "2022-11-29T08:51:38.159467",
     "status": "completed"
    },
    "tags": []
   },
   "outputs": [
    {
     "name": "stderr",
     "output_type": "stream",
     "text": [
      "2022-11-29 08:51:39.276675: I tensorflow/compiler/mlir/mlir_graph_optimization_pass.cc:185] None of the MLIR Optimization Passes are enabled (registered 2)\n"
     ]
    },
    {
     "name": "stdout",
     "output_type": "stream",
     "text": [
      "Epoch 1/5\n",
      "195/195 [==============================] - 45s 201ms/step - loss: 0.4546\n",
      "Epoch 2/5\n",
      "195/195 [==============================] - 39s 201ms/step - loss: 0.2818\n",
      "Epoch 3/5\n",
      "195/195 [==============================] - 39s 201ms/step - loss: 0.2754\n",
      "Epoch 4/5\n",
      "195/195 [==============================] - 39s 201ms/step - loss: 0.2639\n",
      "Epoch 5/5\n",
      "195/195 [==============================] - 39s 201ms/step - loss: 0.2619\n",
      "0.5097525802186615\n",
      "Epoch 1/5\n",
      "195/195 [==============================] - 39s 201ms/step - loss: 0.2504\n",
      "Epoch 2/5\n",
      "195/195 [==============================] - 39s 202ms/step - loss: 0.2450\n",
      "Epoch 3/5\n",
      "195/195 [==============================] - 39s 201ms/step - loss: 0.2460\n",
      "Epoch 4/5\n",
      "195/195 [==============================] - 39s 201ms/step - loss: 0.2515\n",
      "Epoch 5/5\n",
      "195/195 [==============================] - 39s 201ms/step - loss: 0.2516\n",
      "0.5096595152334362\n",
      "Epoch 1/5\n",
      "195/195 [==============================] - 39s 201ms/step - loss: 0.2510\n",
      "Epoch 2/5\n",
      "195/195 [==============================] - 39s 201ms/step - loss: 0.2488\n",
      "Epoch 3/5\n",
      "195/195 [==============================] - 39s 201ms/step - loss: 0.2480\n",
      "Epoch 4/5\n",
      "195/195 [==============================] - 39s 202ms/step - loss: 0.2428\n",
      "Epoch 5/5\n",
      "195/195 [==============================] - 39s 201ms/step - loss: 0.2467\n",
      "0.48662416071268166\n",
      "Epoch 1/5\n",
      "195/195 [==============================] - 39s 201ms/step - loss: 0.2423\n",
      "Epoch 2/5\n",
      "195/195 [==============================] - 39s 201ms/step - loss: 0.2393\n",
      "Epoch 3/5\n",
      "195/195 [==============================] - 39s 201ms/step - loss: 0.2387\n",
      "Epoch 4/5\n",
      "195/195 [==============================] - 39s 201ms/step - loss: 0.2392\n",
      "Epoch 5/5\n",
      "195/195 [==============================] - 39s 201ms/step - loss: 0.2406\n",
      "0.5165374586190425\n",
      "Epoch 1/5\n",
      "195/195 [==============================] - 39s 201ms/step - loss: 0.2398\n",
      "Epoch 2/5\n",
      "195/195 [==============================] - 39s 201ms/step - loss: 0.2382\n",
      "Epoch 3/5\n",
      "195/195 [==============================] - 39s 201ms/step - loss: 0.2405\n",
      "Epoch 4/5\n",
      "195/195 [==============================] - 39s 201ms/step - loss: 0.2390\n",
      "Epoch 5/5\n",
      "195/195 [==============================] - 39s 201ms/step - loss: 0.2380\n",
      "0.5076667930867729\n"
     ]
    }
   ],
   "source": [
    "kf = KFold(n_splits=5, shuffle=True)\n",
    "for fold, (train_id, test_id) in enumerate(kf.split(df_train['cohesion'])):\n",
    "    input_ids_train, attention_mask_train = input_ids.iloc[train_id], attention_mask.iloc[train_id]\n",
    "    input_ids_val, attention_mask_val = input_ids.iloc[test_id], attention_mask.iloc[test_id]\n",
    "    y_train, y_test = df_train['cohesion'].iloc[train_id], df_train['cohesion'].iloc[test_id]\n",
    "    \n",
    "    input_ids_train_tensor = tf.convert_to_tensor([x for x in input_ids_train.tolist()])\n",
    "    attention_mask_train_tensor = tf.convert_to_tensor([x for x in attention_mask_train.tolist()])\n",
    "    input_ids_val_tensor = tf.convert_to_tensor([x for x in input_ids_val.tolist()])\n",
    "    attention_mask_val_tensor = tf.convert_to_tensor([x for x in attention_mask_val.tolist()])\n",
    "\n",
    "    if fold == 1:\n",
    "        tf.keras.backend.set_value(model.optimizer.learning_rate, 0.001)\n",
    "    if fold == 3:\n",
    "        tf.keras.backend.set_value(model.optimizer.learning_rate, 0.0001)\n",
    "    model.fit(\n",
    "        x=(input_ids_train_tensor, attention_mask_train_tensor),\n",
    "        y=tf.convert_to_tensor([np.array([x]) for x in y_train.tolist()]),\n",
    "        epochs=5,\n",
    "        shuffle=True,\n",
    "        batch_size=16,)\n",
    "    \n",
    "    pred = model.predict((input_ids_val_tensor, attention_mask_val_tensor))\n",
    "    print(mean_squared_error(y_test, pred, squared=False))\n"
   ]
  },
  {
   "cell_type": "code",
   "execution_count": 10,
   "id": "b95d2eb2",
   "metadata": {
    "execution": {
     "iopub.execute_input": "2022-11-29T09:09:06.233009Z",
     "iopub.status.busy": "2022-11-29T09:09:06.232124Z",
     "iopub.status.idle": "2022-11-29T09:09:06.787120Z",
     "shell.execute_reply": "2022-11-29T09:09:06.786094Z"
    },
    "papermill": {
     "duration": 0.826408,
     "end_time": "2022-11-29T09:09:06.789615",
     "exception": false,
     "start_time": "2022-11-29T09:09:05.963207",
     "status": "completed"
    },
    "tags": []
   },
   "outputs": [],
   "source": [
    "model.save('cohesion.h5')"
   ]
  }
 ],
 "metadata": {
  "kernelspec": {
   "display_name": "Python 3",
   "language": "python",
   "name": "python3"
  },
  "language_info": {
   "codemirror_mode": {
    "name": "ipython",
    "version": 3
   },
   "file_extension": ".py",
   "mimetype": "text/x-python",
   "name": "python",
   "nbconvert_exporter": "python",
   "pygments_lexer": "ipython3",
   "version": "3.7.12"
  },
  "papermill": {
   "default_parameters": {},
   "duration": 1086.851156,
   "end_time": "2022-11-29T09:09:10.046243",
   "environment_variables": {},
   "exception": null,
   "input_path": "__notebook__.ipynb",
   "output_path": "__notebook__.ipynb",
   "parameters": {},
   "start_time": "2022-11-29T08:51:03.195087",
   "version": "2.3.4"
  }
 },
 "nbformat": 4,
 "nbformat_minor": 5
}
