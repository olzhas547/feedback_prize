{
 "cells": [
  {
   "cell_type": "code",
   "execution_count": 1,
   "id": "e4c3eef0",
   "metadata": {
    "execution": {
     "iopub.execute_input": "2022-11-29T09:38:00.744753Z",
     "iopub.status.busy": "2022-11-29T09:38:00.742901Z",
     "iopub.status.idle": "2022-11-29T09:38:05.952958Z",
     "shell.execute_reply": "2022-11-29T09:38:05.951989Z"
    },
    "papermill": {
     "duration": 5.220839,
     "end_time": "2022-11-29T09:38:05.955727",
     "exception": false,
     "start_time": "2022-11-29T09:38:00.734888",
     "status": "completed"
    },
    "tags": []
   },
   "outputs": [],
   "source": [
    "import numpy as np\n",
    "import pandas as pd\n",
    "import matplotlib.pyplot as plt\n",
    "import seaborn as sns\n",
    "import tensorflow as tf\n",
    "import transformers\n",
    "from sklearn.model_selection import KFold\n",
    "from sklearn.metrics import mean_squared_error\n",
    "import json\n",
    "from math import log10, floor"
   ]
  },
  {
   "cell_type": "code",
   "execution_count": 2,
   "id": "d511419f",
   "metadata": {
    "execution": {
     "iopub.execute_input": "2022-11-29T09:38:05.965917Z",
     "iopub.status.busy": "2022-11-29T09:38:05.965303Z",
     "iopub.status.idle": "2022-11-29T09:38:06.216881Z",
     "shell.execute_reply": "2022-11-29T09:38:06.215858Z"
    },
    "papermill": {
     "duration": 0.258341,
     "end_time": "2022-11-29T09:38:06.219434",
     "exception": false,
     "start_time": "2022-11-29T09:38:05.961093",
     "status": "completed"
    },
    "tags": []
   },
   "outputs": [
    {
     "data": {
      "text/html": [
       "<div>\n",
       "<style scoped>\n",
       "    .dataframe tbody tr th:only-of-type {\n",
       "        vertical-align: middle;\n",
       "    }\n",
       "\n",
       "    .dataframe tbody tr th {\n",
       "        vertical-align: top;\n",
       "    }\n",
       "\n",
       "    .dataframe thead th {\n",
       "        text-align: right;\n",
       "    }\n",
       "</style>\n",
       "<table border=\"1\" class=\"dataframe\">\n",
       "  <thead>\n",
       "    <tr style=\"text-align: right;\">\n",
       "      <th></th>\n",
       "      <th>full_text</th>\n",
       "      <th>grammar</th>\n",
       "    </tr>\n",
       "  </thead>\n",
       "  <tbody>\n",
       "    <tr>\n",
       "      <th>0</th>\n",
       "      <td>I think that students would benefit from learn...</td>\n",
       "      <td>4.0</td>\n",
       "    </tr>\n",
       "    <tr>\n",
       "      <th>1</th>\n",
       "      <td>When a problem is a change you have to let it ...</td>\n",
       "      <td>2.0</td>\n",
       "    </tr>\n",
       "    <tr>\n",
       "      <th>2</th>\n",
       "      <td>Dear, Principal If u change the school policy ...</td>\n",
       "      <td>3.0</td>\n",
       "    </tr>\n",
       "    <tr>\n",
       "      <th>3</th>\n",
       "      <td>The best time in life is when you become yours...</td>\n",
       "      <td>4.0</td>\n",
       "    </tr>\n",
       "    <tr>\n",
       "      <th>4</th>\n",
       "      <td>Small act of kindness can impact in other peop...</td>\n",
       "      <td>2.5</td>\n",
       "    </tr>\n",
       "  </tbody>\n",
       "</table>\n",
       "</div>"
      ],
      "text/plain": [
       "                                           full_text  grammar\n",
       "0  I think that students would benefit from learn...      4.0\n",
       "1  When a problem is a change you have to let it ...      2.0\n",
       "2  Dear, Principal If u change the school policy ...      3.0\n",
       "3  The best time in life is when you become yours...      4.0\n",
       "4  Small act of kindness can impact in other peop...      2.5"
      ]
     },
     "execution_count": 2,
     "metadata": {},
     "output_type": "execute_result"
    }
   ],
   "source": [
    "df_train = pd.read_csv('/kaggle/input/data-cleaning/grammar.csv')\n",
    "df_test = pd.read_csv('../input/feedback-prize-english-language-learning/test.csv')\n",
    "df_train.head()"
   ]
  },
  {
   "cell_type": "code",
   "execution_count": 3,
   "id": "de7f7945",
   "metadata": {
    "execution": {
     "iopub.execute_input": "2022-11-29T09:38:06.227296Z",
     "iopub.status.busy": "2022-11-29T09:38:06.226503Z",
     "iopub.status.idle": "2022-11-29T09:38:06.828482Z",
     "shell.execute_reply": "2022-11-29T09:38:06.827492Z"
    },
    "papermill": {
     "duration": 0.608413,
     "end_time": "2022-11-29T09:38:06.830925",
     "exception": false,
     "start_time": "2022-11-29T09:38:06.222512",
     "status": "completed"
    },
    "tags": []
   },
   "outputs": [],
   "source": [
    "df_train['full_text'].replace(r'\\s+|\\\\n', ' ', regex=True, inplace=True) \n",
    "df_test['full_text'].replace(r'\\s+|\\\\n', ' ', regex=True, inplace=True)"
   ]
  },
  {
   "cell_type": "code",
   "execution_count": 4,
   "id": "5d18f994",
   "metadata": {
    "execution": {
     "iopub.execute_input": "2022-11-29T09:38:06.838512Z",
     "iopub.status.busy": "2022-11-29T09:38:06.838202Z",
     "iopub.status.idle": "2022-11-29T09:38:06.845917Z",
     "shell.execute_reply": "2022-11-29T09:38:06.845004Z"
    },
    "papermill": {
     "duration": 0.013852,
     "end_time": "2022-11-29T09:38:06.847923",
     "exception": false,
     "start_time": "2022-11-29T09:38:06.834071",
     "status": "completed"
    },
    "tags": []
   },
   "outputs": [
    {
     "data": {
      "text/plain": [
       "0    I think that students would benefit from learn...\n",
       "1    When a problem is a change you have to let it ...\n",
       "2    Dear, Principal If u change the school policy ...\n",
       "3    The best time in life is when you become yours...\n",
       "4    Small act of kindness can impact in other peop...\n",
       "Name: full_text, dtype: object"
      ]
     },
     "execution_count": 4,
     "metadata": {},
     "output_type": "execute_result"
    }
   ],
   "source": [
    "df_train['full_text'].head()"
   ]
  },
  {
   "cell_type": "code",
   "execution_count": 5,
   "id": "a61f4d5e",
   "metadata": {
    "execution": {
     "iopub.execute_input": "2022-11-29T09:38:06.854817Z",
     "iopub.status.busy": "2022-11-29T09:38:06.854551Z",
     "iopub.status.idle": "2022-11-29T09:38:07.210573Z",
     "shell.execute_reply": "2022-11-29T09:38:07.209613Z"
    },
    "papermill": {
     "duration": 0.362467,
     "end_time": "2022-11-29T09:38:07.213243",
     "exception": false,
     "start_time": "2022-11-29T09:38:06.850776",
     "status": "completed"
    },
    "tags": []
   },
   "outputs": [],
   "source": [
    "tokenizer = transformers.DistilBertTokenizerFast.from_pretrained('../input/huggingface-bert-variants/distilbert-base-uncased/distilbert-base-uncased')"
   ]
  },
  {
   "cell_type": "code",
   "execution_count": 6,
   "id": "929d1efe",
   "metadata": {
    "execution": {
     "iopub.execute_input": "2022-11-29T09:38:07.220840Z",
     "iopub.status.busy": "2022-11-29T09:38:07.220546Z",
     "iopub.status.idle": "2022-11-29T09:38:24.165371Z",
     "shell.execute_reply": "2022-11-29T09:38:24.164362Z"
    },
    "papermill": {
     "duration": 16.951426,
     "end_time": "2022-11-29T09:38:24.167907",
     "exception": false,
     "start_time": "2022-11-29T09:38:07.216481",
     "status": "completed"
    },
    "tags": []
   },
   "outputs": [
    {
     "name": "stderr",
     "output_type": "stream",
     "text": [
      "2022-11-29 09:38:09.539027: I tensorflow/stream_executor/cuda/cuda_gpu_executor.cc:937] successful NUMA node read from SysFS had negative value (-1), but there must be at least one NUMA node, so returning NUMA node zero\n",
      "2022-11-29 09:38:09.540103: I tensorflow/stream_executor/cuda/cuda_gpu_executor.cc:937] successful NUMA node read from SysFS had negative value (-1), but there must be at least one NUMA node, so returning NUMA node zero\n",
      "2022-11-29 09:38:09.540773: I tensorflow/stream_executor/cuda/cuda_gpu_executor.cc:937] successful NUMA node read from SysFS had negative value (-1), but there must be at least one NUMA node, so returning NUMA node zero\n",
      "2022-11-29 09:38:09.541641: I tensorflow/core/platform/cpu_feature_guard.cc:142] This TensorFlow binary is optimized with oneAPI Deep Neural Network Library (oneDNN) to use the following CPU instructions in performance-critical operations:  AVX2 AVX512F FMA\n",
      "To enable them in other operations, rebuild TensorFlow with the appropriate compiler flags.\n",
      "2022-11-29 09:38:09.541992: I tensorflow/stream_executor/cuda/cuda_gpu_executor.cc:937] successful NUMA node read from SysFS had negative value (-1), but there must be at least one NUMA node, so returning NUMA node zero\n",
      "2022-11-29 09:38:09.542698: I tensorflow/stream_executor/cuda/cuda_gpu_executor.cc:937] successful NUMA node read from SysFS had negative value (-1), but there must be at least one NUMA node, so returning NUMA node zero\n",
      "2022-11-29 09:38:09.543351: I tensorflow/stream_executor/cuda/cuda_gpu_executor.cc:937] successful NUMA node read from SysFS had negative value (-1), but there must be at least one NUMA node, so returning NUMA node zero\n",
      "2022-11-29 09:38:14.429880: I tensorflow/stream_executor/cuda/cuda_gpu_executor.cc:937] successful NUMA node read from SysFS had negative value (-1), but there must be at least one NUMA node, so returning NUMA node zero\n",
      "2022-11-29 09:38:14.431120: I tensorflow/stream_executor/cuda/cuda_gpu_executor.cc:937] successful NUMA node read from SysFS had negative value (-1), but there must be at least one NUMA node, so returning NUMA node zero\n",
      "2022-11-29 09:38:14.432080: I tensorflow/stream_executor/cuda/cuda_gpu_executor.cc:937] successful NUMA node read from SysFS had negative value (-1), but there must be at least one NUMA node, so returning NUMA node zero\n",
      "2022-11-29 09:38:14.432904: I tensorflow/core/common_runtime/gpu/gpu_device.cc:1510] Created device /job:localhost/replica:0/task:0/device:GPU:0 with 15043 MB memory:  -> device: 0, name: Tesla P100-PCIE-16GB, pci bus id: 0000:00:04.0, compute capability: 6.0\n",
      "2022-11-29 09:38:14.937070: W tensorflow/python/util/util.cc:348] Sets are not currently considered sequences, but this may change in the future, so consider avoiding using them.\n",
      "Some layers from the model checkpoint at ../input/huggingface-bert-variants/distilbert-base-uncased/distilbert-base-uncased were not used when initializing TFDistilBertModel: ['vocab_layer_norm', 'activation_13', 'vocab_transform', 'vocab_projector']\n",
      "- This IS expected if you are initializing TFDistilBertModel from the checkpoint of a model trained on another task or with another architecture (e.g. initializing a BertForSequenceClassification model from a BertForPreTraining model).\n",
      "- This IS NOT expected if you are initializing TFDistilBertModel from the checkpoint of a model that you expect to be exactly identical (initializing a BertForSequenceClassification model from a BertForSequenceClassification model).\n",
      "All the layers of TFDistilBertModel were initialized from the model checkpoint at ../input/huggingface-bert-variants/distilbert-base-uncased/distilbert-base-uncased.\n",
      "If your task is similar to the task the model of the checkpoint was trained on, you can already use TFDistilBertModel for predictions without further training.\n"
     ]
    }
   ],
   "source": [
    "input_ids_layer = tf.keras.Input(shape=512, dtype=tf.int32)\n",
    "attention_mask_layer = tf.keras.Input(shape=512, dtype=tf.int32)\n",
    "base_model = transformers.TFDistilBertModel.from_pretrained('../input/huggingface-bert-variants/distilbert-base-uncased/distilbert-base-uncased')\n",
    "base_model.trainable = False\n",
    "base_model_output = base_model(input_ids=input_ids_layer, attention_mask = attention_mask_layer)\n",
    "pooling = tf.keras.layers.GlobalAveragePooling1D()(base_model_output.last_hidden_state)\n",
    "output = tf.keras.layers.Dense(1, activation=\"linear\")(pooling)\n",
    "model = tf.keras.Model(inputs=[input_ids_layer, attention_mask_layer], outputs=output)\n",
    "model.compile(\n",
    "    optimizer=tf.keras.optimizers.Adam(learning_rate=0.003), \n",
    "    loss='mse',\n",
    ")"
   ]
  },
  {
   "cell_type": "code",
   "execution_count": 7,
   "id": "b2e6dac1",
   "metadata": {
    "execution": {
     "iopub.execute_input": "2022-11-29T09:38:24.177261Z",
     "iopub.status.busy": "2022-11-29T09:38:24.175628Z",
     "iopub.status.idle": "2022-11-29T09:38:24.185847Z",
     "shell.execute_reply": "2022-11-29T09:38:24.184837Z"
    },
    "papermill": {
     "duration": 0.016907,
     "end_time": "2022-11-29T09:38:24.188318",
     "exception": false,
     "start_time": "2022-11-29T09:38:24.171411",
     "status": "completed"
    },
    "tags": []
   },
   "outputs": [
    {
     "name": "stdout",
     "output_type": "stream",
     "text": [
      "Model: \"model\"\n",
      "__________________________________________________________________________________________________\n",
      "Layer (type)                    Output Shape         Param #     Connected to                     \n",
      "==================================================================================================\n",
      "input_1 (InputLayer)            [(None, 512)]        0                                            \n",
      "__________________________________________________________________________________________________\n",
      "input_2 (InputLayer)            [(None, 512)]        0                                            \n",
      "__________________________________________________________________________________________________\n",
      "tf_distil_bert_model (TFDistilB TFBaseModelOutput(la 66362880    input_1[0][0]                    \n",
      "                                                                 input_2[0][0]                    \n",
      "__________________________________________________________________________________________________\n",
      "global_average_pooling1d (Globa (None, 768)          0           tf_distil_bert_model[0][0]       \n",
      "__________________________________________________________________________________________________\n",
      "dense (Dense)                   (None, 1)            769         global_average_pooling1d[0][0]   \n",
      "==================================================================================================\n",
      "Total params: 66,363,649\n",
      "Trainable params: 769\n",
      "Non-trainable params: 66,362,880\n",
      "__________________________________________________________________________________________________\n"
     ]
    }
   ],
   "source": [
    "model.summary()"
   ]
  },
  {
   "cell_type": "code",
   "execution_count": 8,
   "id": "96e6b0a8",
   "metadata": {
    "execution": {
     "iopub.execute_input": "2022-11-29T09:38:24.197091Z",
     "iopub.status.busy": "2022-11-29T09:38:24.196162Z",
     "iopub.status.idle": "2022-11-29T09:38:28.402260Z",
     "shell.execute_reply": "2022-11-29T09:38:28.401297Z"
    },
    "papermill": {
     "duration": 4.212402,
     "end_time": "2022-11-29T09:38:28.404612",
     "exception": false,
     "start_time": "2022-11-29T09:38:24.192210",
     "status": "completed"
    },
    "tags": []
   },
   "outputs": [],
   "source": [
    "encoded = tokenizer.batch_encode_plus(\n",
    "    df_train['full_text'].tolist(),\n",
    "    add_special_tokens=False,\n",
    "    max_length=512,\n",
    "    padding='max_length',\n",
    "    truncation=True,\n",
    "    return_attention_mask=True,)\n",
    "\n",
    "encoded_test = tokenizer.batch_encode_plus(\n",
    "    df_test['full_text'].tolist(),\n",
    "    add_special_tokens=False,\n",
    "    max_length=512,\n",
    "    padding='max_length',\n",
    "    truncation=True,\n",
    "    return_attention_mask=True,)\n",
    "\n",
    "input_ids = pd.Series(encoded['input_ids'])\n",
    "attention_mask = pd.Series(encoded['attention_mask'])\n",
    "\n",
    "input_ids_test = tf.convert_to_tensor(encoded_test['input_ids'])\n",
    "attention_mask_test = tf.convert_to_tensor(encoded_test['attention_mask'])"
   ]
  },
  {
   "cell_type": "code",
   "execution_count": 9,
   "id": "49cae39d",
   "metadata": {
    "execution": {
     "iopub.execute_input": "2022-11-29T09:38:28.412666Z",
     "iopub.status.busy": "2022-11-29T09:38:28.412359Z",
     "iopub.status.idle": "2022-11-29T09:55:42.595888Z",
     "shell.execute_reply": "2022-11-29T09:55:42.594802Z"
    },
    "papermill": {
     "duration": 1034.437692,
     "end_time": "2022-11-29T09:55:42.845826",
     "exception": false,
     "start_time": "2022-11-29T09:38:28.408134",
     "status": "completed"
    },
    "tags": []
   },
   "outputs": [
    {
     "name": "stderr",
     "output_type": "stream",
     "text": [
      "2022-11-29 09:38:29.617019: I tensorflow/compiler/mlir/mlir_graph_optimization_pass.cc:185] None of the MLIR Optimization Passes are enabled (registered 2)\n"
     ]
    },
    {
     "name": "stdout",
     "output_type": "stream",
     "text": [
      "Epoch 1/5\n",
      "195/195 [==============================] - 44s 200ms/step - loss: 0.8375\n",
      "Epoch 2/5\n",
      "195/195 [==============================] - 39s 200ms/step - loss: 0.3274\n",
      "Epoch 3/5\n",
      "195/195 [==============================] - 39s 199ms/step - loss: 0.3017\n",
      "Epoch 4/5\n",
      "195/195 [==============================] - 39s 200ms/step - loss: 0.2930\n",
      "Epoch 5/5\n",
      "195/195 [==============================] - 39s 200ms/step - loss: 0.2922\n",
      "0.5475817310061916\n",
      "Epoch 1/5\n",
      "195/195 [==============================] - 39s 200ms/step - loss: 0.2666\n",
      "Epoch 2/5\n",
      "195/195 [==============================] - 39s 200ms/step - loss: 0.2684\n",
      "Epoch 3/5\n",
      "195/195 [==============================] - 39s 200ms/step - loss: 0.2691\n",
      "Epoch 4/5\n",
      "195/195 [==============================] - 39s 200ms/step - loss: 0.2596\n",
      "Epoch 5/5\n",
      "195/195 [==============================] - 39s 199ms/step - loss: 0.2595\n",
      "0.5719828892451484\n",
      "Epoch 1/5\n",
      "195/195 [==============================] - 39s 200ms/step - loss: 0.2708\n",
      "Epoch 2/5\n",
      "195/195 [==============================] - 39s 200ms/step - loss: 0.2727\n",
      "Epoch 3/5\n",
      "195/195 [==============================] - 39s 200ms/step - loss: 0.2687\n",
      "Epoch 4/5\n",
      "195/195 [==============================] - 39s 200ms/step - loss: 0.2664\n",
      "Epoch 5/5\n",
      "195/195 [==============================] - 39s 200ms/step - loss: 0.2642\n",
      "0.5687367815851662\n",
      "Epoch 1/5\n",
      "195/195 [==============================] - 39s 200ms/step - loss: 0.2601\n",
      "Epoch 2/5\n",
      "195/195 [==============================] - 39s 200ms/step - loss: 0.2608\n",
      "Epoch 3/5\n",
      "195/195 [==============================] - 39s 200ms/step - loss: 0.2590\n",
      "Epoch 4/5\n",
      "195/195 [==============================] - 39s 200ms/step - loss: 0.2600\n",
      "Epoch 5/5\n",
      "195/195 [==============================] - 39s 200ms/step - loss: 0.2593\n",
      "0.4926696942271917\n",
      "Epoch 1/5\n",
      "195/195 [==============================] - 39s 200ms/step - loss: 0.2561\n",
      "Epoch 2/5\n",
      "195/195 [==============================] - 39s 200ms/step - loss: 0.2554\n",
      "Epoch 3/5\n",
      "195/195 [==============================] - 39s 200ms/step - loss: 0.2565\n",
      "Epoch 4/5\n",
      "195/195 [==============================] - 39s 200ms/step - loss: 0.2559\n",
      "Epoch 5/5\n",
      "195/195 [==============================] - 39s 200ms/step - loss: 0.2560\n",
      "0.5351614084997173\n"
     ]
    }
   ],
   "source": [
    "kf = KFold(n_splits=5, shuffle=True)\n",
    "for fold, (train_id, test_id) in enumerate(kf.split(df_train['grammar'])):\n",
    "    input_ids_train, attention_mask_train = input_ids.iloc[train_id], attention_mask.iloc[train_id]\n",
    "    input_ids_val, attention_mask_val = input_ids.iloc[test_id], attention_mask.iloc[test_id]\n",
    "    y_train, y_test = df_train['grammar'].iloc[train_id], df_train['grammar'].iloc[test_id]\n",
    "    \n",
    "    input_ids_train_tensor = tf.convert_to_tensor([x for x in input_ids_train.tolist()])\n",
    "    attention_mask_train_tensor = tf.convert_to_tensor([x for x in attention_mask_train.tolist()])\n",
    "    input_ids_val_tensor = tf.convert_to_tensor([x for x in input_ids_val.tolist()])\n",
    "    attention_mask_val_tensor = tf.convert_to_tensor([x for x in attention_mask_val.tolist()])\n",
    "    \n",
    "    if fold == 1:\n",
    "        tf.keras.backend.set_value(model.optimizer.learning_rate, 0.001)\n",
    "    if fold == 3:\n",
    "        tf.keras.backend.set_value(model.optimizer.learning_rate, 0.0001)\n",
    "    model.fit(\n",
    "        x=(input_ids_train_tensor, attention_mask_train_tensor),\n",
    "        y=tf.convert_to_tensor([np.array([x]) for x in y_train.tolist()]),\n",
    "        epochs=5,\n",
    "        shuffle=True,\n",
    "        batch_size=16,)\n",
    "    \n",
    "    pred = model.predict((input_ids_val_tensor, attention_mask_val_tensor))\n",
    "    print(mean_squared_error(y_test, pred, squared=False))"
   ]
  },
  {
   "cell_type": "code",
   "execution_count": 10,
   "id": "3381b800",
   "metadata": {
    "execution": {
     "iopub.execute_input": "2022-11-29T09:55:43.373690Z",
     "iopub.status.busy": "2022-11-29T09:55:43.373325Z",
     "iopub.status.idle": "2022-11-29T09:55:43.909550Z",
     "shell.execute_reply": "2022-11-29T09:55:43.908579Z"
    },
    "papermill": {
     "duration": 0.814574,
     "end_time": "2022-11-29T09:55:43.911979",
     "exception": false,
     "start_time": "2022-11-29T09:55:43.097405",
     "status": "completed"
    },
    "tags": []
   },
   "outputs": [],
   "source": [
    "model.save('grammar.h5')"
   ]
  }
 ],
 "metadata": {
  "kernelspec": {
   "display_name": "Python 3",
   "language": "python",
   "name": "python3"
  },
  "language_info": {
   "codemirror_mode": {
    "name": "ipython",
    "version": 3
   },
   "file_extension": ".py",
   "mimetype": "text/x-python",
   "name": "python",
   "nbconvert_exporter": "python",
   "pygments_lexer": "ipython3",
   "version": "3.7.12"
  },
  "papermill": {
   "default_parameters": {},
   "duration": 1074.702069,
   "end_time": "2022-11-29T09:55:47.807386",
   "environment_variables": {},
   "exception": null,
   "input_path": "__notebook__.ipynb",
   "output_path": "__notebook__.ipynb",
   "parameters": {},
   "start_time": "2022-11-29T09:37:53.105317",
   "version": "2.3.4"
  }
 },
 "nbformat": 4,
 "nbformat_minor": 5
}
