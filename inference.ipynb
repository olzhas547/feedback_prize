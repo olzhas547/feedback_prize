{
 "cells": [
  {
   "cell_type": "code",
   "execution_count": 1,
   "id": "576b7410",
   "metadata": {
    "execution": {
     "iopub.execute_input": "2022-11-29T12:19:57.288779Z",
     "iopub.status.busy": "2022-11-29T12:19:57.288267Z",
     "iopub.status.idle": "2022-11-29T12:20:23.901610Z",
     "shell.execute_reply": "2022-11-29T12:20:23.900633Z"
    },
    "papermill": {
     "duration": 26.620726,
     "end_time": "2022-11-29T12:20:23.904441",
     "exception": false,
     "start_time": "2022-11-29T12:19:57.283715",
     "status": "completed"
    },
    "tags": []
   },
   "outputs": [
    {
     "name": "stderr",
     "output_type": "stream",
     "text": [
      "2022-11-29 12:20:08.019435: I tensorflow/core/common_runtime/process_util.cc:146] Creating new thread pool with default inter op setting: 2. Tune using inter_op_parallelism_threads for best performance.\n",
      "2022-11-29 12:20:08.146302: W tensorflow/python/util/util.cc:348] Sets are not currently considered sequences, but this may change in the future, so consider avoiding using them.\n",
      "2022-11-29 12:20:19.445663: I tensorflow/compiler/mlir/mlir_graph_optimization_pass.cc:185] None of the MLIR Optimization Passes are enabled (registered 2)\n"
     ]
    }
   ],
   "source": [
    "import pandas as pd\n",
    "from tensorflow.keras.models import load_model\n",
    "from tensorflow.keras.backend import set_floatx\n",
    "from transformers import DistilBertTokenizerFast, TFDistilBertModel\n",
    "\n",
    "df_test = pd.read_csv('../input/feedback-prize-english-language-learning/test.csv')\n",
    "df_test['full_text'].replace(r'\\s+|\\\\n', ' ', regex=True, inplace=True)\n",
    "\n",
    "model = load_model('/kaggle/input/k/nikto547/model-building/model.h5', custom_objects={'TFDistilBertModel': TFDistilBertModel})\n",
    "tokenizer = DistilBertTokenizerFast.from_pretrained('/kaggle/input/k/nikto547/model-building/')\n",
    "\n",
    "encoded = tokenizer.batch_encode_plus(\n",
    "    df_test['full_text'].tolist(),\n",
    "    add_special_tokens=False,\n",
    "    max_length=512,\n",
    "    padding='max_length',\n",
    "    truncation=True,\n",
    "    return_attention_mask=True,\n",
    "    return_tensors='tf',)\n",
    "\n",
    "result = model.predict((encoded['input_ids'], encoded['attention_mask']))\n",
    "\n",
    "submission = pd.read_csv('../input/feedback-prize-english-language-learning/sample_submission.csv')\n",
    "\n",
    "submission['cohesion'] = result[0]\n",
    "submission['syntax'] = result[1]\n",
    "submission['vocabulary'] = result[2]\n",
    "submission['phraseology'] = result[3]\n",
    "submission['grammar'] = result[4]\n",
    "submission['conventions'] = result[5]\n",
    "\n",
    "submission.to_csv('submission.csv', index=None)"
   ]
  }
 ],
 "metadata": {
  "kernelspec": {
   "display_name": "Python 3",
   "language": "python",
   "name": "python3"
  },
  "language_info": {
   "codemirror_mode": {
    "name": "ipython",
    "version": 3
   },
   "file_extension": ".py",
   "mimetype": "text/x-python",
   "name": "python",
   "nbconvert_exporter": "python",
   "pygments_lexer": "ipython3",
   "version": "3.7.12"
  },
  "papermill": {
   "default_parameters": {},
   "duration": 38.232366,
   "end_time": "2022-11-29T12:20:26.540467",
   "environment_variables": {},
   "exception": null,
   "input_path": "__notebook__.ipynb",
   "output_path": "__notebook__.ipynb",
   "parameters": {},
   "start_time": "2022-11-29T12:19:48.308101",
   "version": "2.3.4"
  }
 },
 "nbformat": 4,
 "nbformat_minor": 5
}
