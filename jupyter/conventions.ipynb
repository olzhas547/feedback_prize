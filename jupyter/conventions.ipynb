{
 "cells": [
  {
   "cell_type": "code",
   "execution_count": 1,
   "id": "cdfa630e",
   "metadata": {
    "execution": {
     "iopub.execute_input": "2022-11-29T09:59:01.606951Z",
     "iopub.status.busy": "2022-11-29T09:59:01.606460Z",
     "iopub.status.idle": "2022-11-29T09:59:07.110377Z",
     "shell.execute_reply": "2022-11-29T09:59:07.109433Z"
    },
    "papermill": {
     "duration": 5.520173,
     "end_time": "2022-11-29T09:59:07.112990",
     "exception": false,
     "start_time": "2022-11-29T09:59:01.592817",
     "status": "completed"
    },
    "tags": []
   },
   "outputs": [],
   "source": [
    "import numpy as np\n",
    "import pandas as pd\n",
    "import matplotlib.pyplot as plt\n",
    "import seaborn as sns\n",
    "import tensorflow as tf\n",
    "import transformers\n",
    "from sklearn.model_selection import KFold\n",
    "from sklearn.metrics import mean_squared_error\n",
    "import json\n",
    "from math import log10, floor"
   ]
  },
  {
   "cell_type": "code",
   "execution_count": 2,
   "id": "5a8154e7",
   "metadata": {
    "execution": {
     "iopub.execute_input": "2022-11-29T09:59:07.122834Z",
     "iopub.status.busy": "2022-11-29T09:59:07.121486Z",
     "iopub.status.idle": "2022-11-29T09:59:07.343828Z",
     "shell.execute_reply": "2022-11-29T09:59:07.342833Z"
    },
    "papermill": {
     "duration": 0.228953,
     "end_time": "2022-11-29T09:59:07.346188",
     "exception": false,
     "start_time": "2022-11-29T09:59:07.117235",
     "status": "completed"
    },
    "tags": []
   },
   "outputs": [
    {
     "data": {
      "text/html": [
       "<div>\n",
       "<style scoped>\n",
       "    .dataframe tbody tr th:only-of-type {\n",
       "        vertical-align: middle;\n",
       "    }\n",
       "\n",
       "    .dataframe tbody tr th {\n",
       "        vertical-align: top;\n",
       "    }\n",
       "\n",
       "    .dataframe thead th {\n",
       "        text-align: right;\n",
       "    }\n",
       "</style>\n",
       "<table border=\"1\" class=\"dataframe\">\n",
       "  <thead>\n",
       "    <tr style=\"text-align: right;\">\n",
       "      <th></th>\n",
       "      <th>full_text</th>\n",
       "      <th>conventions</th>\n",
       "    </tr>\n",
       "  </thead>\n",
       "  <tbody>\n",
       "    <tr>\n",
       "      <th>0</th>\n",
       "      <td>I think that students would benefit from learn...</td>\n",
       "      <td>3.0</td>\n",
       "    </tr>\n",
       "    <tr>\n",
       "      <th>1</th>\n",
       "      <td>When a problem is a change you have to let it ...</td>\n",
       "      <td>2.5</td>\n",
       "    </tr>\n",
       "    <tr>\n",
       "      <th>2</th>\n",
       "      <td>Dear, Principal If u change the school policy ...</td>\n",
       "      <td>2.5</td>\n",
       "    </tr>\n",
       "    <tr>\n",
       "      <th>3</th>\n",
       "      <td>The best time in life is when you become yours...</td>\n",
       "      <td>5.0</td>\n",
       "    </tr>\n",
       "    <tr>\n",
       "      <th>4</th>\n",
       "      <td>Small act of kindness can impact in other peop...</td>\n",
       "      <td>2.5</td>\n",
       "    </tr>\n",
       "  </tbody>\n",
       "</table>\n",
       "</div>"
      ],
      "text/plain": [
       "                                           full_text  conventions\n",
       "0  I think that students would benefit from learn...          3.0\n",
       "1  When a problem is a change you have to let it ...          2.5\n",
       "2  Dear, Principal If u change the school policy ...          2.5\n",
       "3  The best time in life is when you become yours...          5.0\n",
       "4  Small act of kindness can impact in other peop...          2.5"
      ]
     },
     "execution_count": 2,
     "metadata": {},
     "output_type": "execute_result"
    }
   ],
   "source": [
    "df_train = pd.read_csv('/kaggle/input/data-cleaning/conventions.csv')\n",
    "df_test = pd.read_csv('../input/feedback-prize-english-language-learning/test.csv')\n",
    "df_train.head()"
   ]
  },
  {
   "cell_type": "code",
   "execution_count": 3,
   "id": "2292dab0",
   "metadata": {
    "execution": {
     "iopub.execute_input": "2022-11-29T09:59:07.354457Z",
     "iopub.status.busy": "2022-11-29T09:59:07.353530Z",
     "iopub.status.idle": "2022-11-29T09:59:07.959344Z",
     "shell.execute_reply": "2022-11-29T09:59:07.958269Z"
    },
    "papermill": {
     "duration": 0.612296,
     "end_time": "2022-11-29T09:59:07.961861",
     "exception": false,
     "start_time": "2022-11-29T09:59:07.349565",
     "status": "completed"
    },
    "tags": []
   },
   "outputs": [],
   "source": [
    "df_train['full_text'].replace(r'\\s+|\\\\n', ' ', regex=True, inplace=True) \n",
    "df_test['full_text'].replace(r'\\s+|\\\\n', ' ', regex=True, inplace=True)"
   ]
  },
  {
   "cell_type": "code",
   "execution_count": 4,
   "id": "887fba86",
   "metadata": {
    "execution": {
     "iopub.execute_input": "2022-11-29T09:59:07.969400Z",
     "iopub.status.busy": "2022-11-29T09:59:07.969106Z",
     "iopub.status.idle": "2022-11-29T09:59:07.977065Z",
     "shell.execute_reply": "2022-11-29T09:59:07.976043Z"
    },
    "papermill": {
     "duration": 0.014463,
     "end_time": "2022-11-29T09:59:07.979434",
     "exception": false,
     "start_time": "2022-11-29T09:59:07.964971",
     "status": "completed"
    },
    "tags": []
   },
   "outputs": [
    {
     "data": {
      "text/plain": [
       "0    I think that students would benefit from learn...\n",
       "1    When a problem is a change you have to let it ...\n",
       "2    Dear, Principal If u change the school policy ...\n",
       "3    The best time in life is when you become yours...\n",
       "4    Small act of kindness can impact in other peop...\n",
       "Name: full_text, dtype: object"
      ]
     },
     "execution_count": 4,
     "metadata": {},
     "output_type": "execute_result"
    }
   ],
   "source": [
    "df_train['full_text'].head()"
   ]
  },
  {
   "cell_type": "code",
   "execution_count": 5,
   "id": "059c1fc0",
   "metadata": {
    "execution": {
     "iopub.execute_input": "2022-11-29T09:59:07.986258Z",
     "iopub.status.busy": "2022-11-29T09:59:07.985987Z",
     "iopub.status.idle": "2022-11-29T09:59:08.371856Z",
     "shell.execute_reply": "2022-11-29T09:59:08.371005Z"
    },
    "papermill": {
     "duration": 0.391797,
     "end_time": "2022-11-29T09:59:08.374109",
     "exception": false,
     "start_time": "2022-11-29T09:59:07.982312",
     "status": "completed"
    },
    "tags": []
   },
   "outputs": [],
   "source": [
    "tokenizer = transformers.DistilBertTokenizerFast.from_pretrained('../input/huggingface-bert-variants/distilbert-base-uncased/distilbert-base-uncased')"
   ]
  },
  {
   "cell_type": "code",
   "execution_count": 6,
   "id": "15ade09c",
   "metadata": {
    "execution": {
     "iopub.execute_input": "2022-11-29T09:59:08.382109Z",
     "iopub.status.busy": "2022-11-29T09:59:08.381456Z",
     "iopub.status.idle": "2022-11-29T09:59:25.219302Z",
     "shell.execute_reply": "2022-11-29T09:59:25.218304Z"
    },
    "papermill": {
     "duration": 16.844844,
     "end_time": "2022-11-29T09:59:25.222251",
     "exception": false,
     "start_time": "2022-11-29T09:59:08.377407",
     "status": "completed"
    },
    "tags": []
   },
   "outputs": [
    {
     "name": "stderr",
     "output_type": "stream",
     "text": [
      "2022-11-29 09:59:10.737358: I tensorflow/stream_executor/cuda/cuda_gpu_executor.cc:937] successful NUMA node read from SysFS had negative value (-1), but there must be at least one NUMA node, so returning NUMA node zero\n",
      "2022-11-29 09:59:10.738488: I tensorflow/stream_executor/cuda/cuda_gpu_executor.cc:937] successful NUMA node read from SysFS had negative value (-1), but there must be at least one NUMA node, so returning NUMA node zero\n",
      "2022-11-29 09:59:10.739287: I tensorflow/stream_executor/cuda/cuda_gpu_executor.cc:937] successful NUMA node read from SysFS had negative value (-1), but there must be at least one NUMA node, so returning NUMA node zero\n",
      "2022-11-29 09:59:10.740132: I tensorflow/core/platform/cpu_feature_guard.cc:142] This TensorFlow binary is optimized with oneAPI Deep Neural Network Library (oneDNN) to use the following CPU instructions in performance-critical operations:  AVX2 AVX512F FMA\n",
      "To enable them in other operations, rebuild TensorFlow with the appropriate compiler flags.\n",
      "2022-11-29 09:59:10.740458: I tensorflow/stream_executor/cuda/cuda_gpu_executor.cc:937] successful NUMA node read from SysFS had negative value (-1), but there must be at least one NUMA node, so returning NUMA node zero\n",
      "2022-11-29 09:59:10.741147: I tensorflow/stream_executor/cuda/cuda_gpu_executor.cc:937] successful NUMA node read from SysFS had negative value (-1), but there must be at least one NUMA node, so returning NUMA node zero\n",
      "2022-11-29 09:59:10.741780: I tensorflow/stream_executor/cuda/cuda_gpu_executor.cc:937] successful NUMA node read from SysFS had negative value (-1), but there must be at least one NUMA node, so returning NUMA node zero\n",
      "2022-11-29 09:59:15.520110: I tensorflow/stream_executor/cuda/cuda_gpu_executor.cc:937] successful NUMA node read from SysFS had negative value (-1), but there must be at least one NUMA node, so returning NUMA node zero\n",
      "2022-11-29 09:59:15.520962: I tensorflow/stream_executor/cuda/cuda_gpu_executor.cc:937] successful NUMA node read from SysFS had negative value (-1), but there must be at least one NUMA node, so returning NUMA node zero\n",
      "2022-11-29 09:59:15.521628: I tensorflow/stream_executor/cuda/cuda_gpu_executor.cc:937] successful NUMA node read from SysFS had negative value (-1), but there must be at least one NUMA node, so returning NUMA node zero\n",
      "2022-11-29 09:59:15.522238: I tensorflow/core/common_runtime/gpu/gpu_device.cc:1510] Created device /job:localhost/replica:0/task:0/device:GPU:0 with 15043 MB memory:  -> device: 0, name: Tesla P100-PCIE-16GB, pci bus id: 0000:00:04.0, compute capability: 6.0\n",
      "2022-11-29 09:59:15.903795: W tensorflow/python/util/util.cc:348] Sets are not currently considered sequences, but this may change in the future, so consider avoiding using them.\n",
      "Some layers from the model checkpoint at ../input/huggingface-bert-variants/distilbert-base-uncased/distilbert-base-uncased were not used when initializing TFDistilBertModel: ['vocab_layer_norm', 'vocab_projector', 'vocab_transform', 'activation_13']\n",
      "- This IS expected if you are initializing TFDistilBertModel from the checkpoint of a model trained on another task or with another architecture (e.g. initializing a BertForSequenceClassification model from a BertForPreTraining model).\n",
      "- This IS NOT expected if you are initializing TFDistilBertModel from the checkpoint of a model that you expect to be exactly identical (initializing a BertForSequenceClassification model from a BertForSequenceClassification model).\n",
      "All the layers of TFDistilBertModel were initialized from the model checkpoint at ../input/huggingface-bert-variants/distilbert-base-uncased/distilbert-base-uncased.\n",
      "If your task is similar to the task the model of the checkpoint was trained on, you can already use TFDistilBertModel for predictions without further training.\n"
     ]
    }
   ],
   "source": [
    "input_ids_layer = tf.keras.Input(shape=512, dtype=tf.int32)\n",
    "attention_mask_layer = tf.keras.Input(shape=512, dtype=tf.int32)\n",
    "base_model = transformers.TFDistilBertModel.from_pretrained('../input/huggingface-bert-variants/distilbert-base-uncased/distilbert-base-uncased')\n",
    "base_model.trainable = False\n",
    "base_model_output = base_model(input_ids=input_ids_layer, attention_mask = attention_mask_layer)\n",
    "pooling = tf.keras.layers.GlobalAveragePooling1D()(base_model_output.last_hidden_state)\n",
    "output = tf.keras.layers.Dense(1, activation=\"linear\")(pooling)\n",
    "model = tf.keras.Model(inputs=[input_ids_layer, attention_mask_layer], outputs=output)\n",
    "model.compile(\n",
    "    optimizer=tf.keras.optimizers.Adam(learning_rate=0.003), \n",
    "    loss='mse',\n",
    ")"
   ]
  },
  {
   "cell_type": "code",
   "execution_count": 7,
   "id": "9e7d7fc8",
   "metadata": {
    "execution": {
     "iopub.execute_input": "2022-11-29T09:59:25.230956Z",
     "iopub.status.busy": "2022-11-29T09:59:25.230484Z",
     "iopub.status.idle": "2022-11-29T09:59:25.240279Z",
     "shell.execute_reply": "2022-11-29T09:59:25.239083Z"
    },
    "papermill": {
     "duration": 0.01845,
     "end_time": "2022-11-29T09:59:25.244309",
     "exception": false,
     "start_time": "2022-11-29T09:59:25.225859",
     "status": "completed"
    },
    "tags": []
   },
   "outputs": [
    {
     "name": "stdout",
     "output_type": "stream",
     "text": [
      "Model: \"model\"\n",
      "__________________________________________________________________________________________________\n",
      "Layer (type)                    Output Shape         Param #     Connected to                     \n",
      "==================================================================================================\n",
      "input_1 (InputLayer)            [(None, 512)]        0                                            \n",
      "__________________________________________________________________________________________________\n",
      "input_2 (InputLayer)            [(None, 512)]        0                                            \n",
      "__________________________________________________________________________________________________\n",
      "tf_distil_bert_model (TFDistilB TFBaseModelOutput(la 66362880    input_1[0][0]                    \n",
      "                                                                 input_2[0][0]                    \n",
      "__________________________________________________________________________________________________\n",
      "global_average_pooling1d (Globa (None, 768)          0           tf_distil_bert_model[0][0]       \n",
      "__________________________________________________________________________________________________\n",
      "dense (Dense)                   (None, 1)            769         global_average_pooling1d[0][0]   \n",
      "==================================================================================================\n",
      "Total params: 66,363,649\n",
      "Trainable params: 769\n",
      "Non-trainable params: 66,362,880\n",
      "__________________________________________________________________________________________________\n"
     ]
    }
   ],
   "source": [
    "model.summary()"
   ]
  },
  {
   "cell_type": "code",
   "execution_count": 8,
   "id": "f95e8fbe",
   "metadata": {
    "execution": {
     "iopub.execute_input": "2022-11-29T09:59:25.262744Z",
     "iopub.status.busy": "2022-11-29T09:59:25.262399Z",
     "iopub.status.idle": "2022-11-29T09:59:29.614499Z",
     "shell.execute_reply": "2022-11-29T09:59:29.613465Z"
    },
    "papermill": {
     "duration": 4.369405,
     "end_time": "2022-11-29T09:59:29.616983",
     "exception": false,
     "start_time": "2022-11-29T09:59:25.247578",
     "status": "completed"
    },
    "tags": []
   },
   "outputs": [],
   "source": [
    "encoded = tokenizer.batch_encode_plus(\n",
    "    df_train['full_text'].tolist(),\n",
    "    add_special_tokens=False,\n",
    "    max_length=512,\n",
    "    padding='max_length',\n",
    "    truncation=True,\n",
    "    return_attention_mask=True,)\n",
    "\n",
    "encoded_test = tokenizer.batch_encode_plus(\n",
    "    df_test['full_text'].tolist(),\n",
    "    add_special_tokens=False,\n",
    "    max_length=512,\n",
    "    padding='max_length',\n",
    "    truncation=True,\n",
    "    return_attention_mask=True,)\n",
    "\n",
    "input_ids = pd.Series(encoded['input_ids'])\n",
    "attention_mask = pd.Series(encoded['attention_mask'])\n",
    "\n",
    "input_ids_test = tf.convert_to_tensor(encoded_test['input_ids'])\n",
    "attention_mask_test = tf.convert_to_tensor(encoded_test['attention_mask'])"
   ]
  },
  {
   "cell_type": "code",
   "execution_count": 9,
   "id": "a934d4b8",
   "metadata": {
    "execution": {
     "iopub.execute_input": "2022-11-29T09:59:29.627377Z",
     "iopub.status.busy": "2022-11-29T09:59:29.625629Z",
     "iopub.status.idle": "2022-11-29T10:16:47.527581Z",
     "shell.execute_reply": "2022-11-29T10:16:47.526465Z"
    },
    "papermill": {
     "duration": 1037.90918,
     "end_time": "2022-11-29T10:16:47.530127",
     "exception": false,
     "start_time": "2022-11-29T09:59:29.620947",
     "status": "completed"
    },
    "tags": []
   },
   "outputs": [
    {
     "name": "stderr",
     "output_type": "stream",
     "text": [
      "2022-11-29 09:59:30.749423: I tensorflow/compiler/mlir/mlir_graph_optimization_pass.cc:185] None of the MLIR Optimization Passes are enabled (registered 2)\n"
     ]
    },
    {
     "name": "stdout",
     "output_type": "stream",
     "text": [
      "Epoch 1/5\n",
      "195/195 [==============================] - 40s 188ms/step - loss: 0.6136\n",
      "Epoch 2/5\n",
      "195/195 [==============================] - 37s 188ms/step - loss: 0.2579\n",
      "Epoch 3/5\n",
      "195/195 [==============================] - 37s 188ms/step - loss: 0.2430\n",
      "Epoch 4/5\n",
      "195/195 [==============================] - 37s 188ms/step - loss: 0.2341\n",
      "Epoch 5/5\n",
      "195/195 [==============================] - 37s 188ms/step - loss: 0.2355\n",
      "0.4973247331234736\n",
      "Epoch 1/5\n",
      "196/196 [==============================] - 42s 200ms/step - loss: 0.2322\n",
      "Epoch 2/5\n",
      "196/196 [==============================] - 39s 201ms/step - loss: 0.2316\n",
      "Epoch 3/5\n",
      "196/196 [==============================] - 39s 200ms/step - loss: 0.2254\n",
      "Epoch 4/5\n",
      "196/196 [==============================] - 39s 200ms/step - loss: 0.2272\n",
      "Epoch 5/5\n",
      "196/196 [==============================] - 39s 200ms/step - loss: 0.2236\n",
      "0.5107523055853496\n",
      "Epoch 1/5\n",
      "196/196 [==============================] - 39s 200ms/step - loss: 0.2299\n",
      "Epoch 2/5\n",
      "196/196 [==============================] - 39s 201ms/step - loss: 0.2294\n",
      "Epoch 3/5\n",
      "196/196 [==============================] - 39s 200ms/step - loss: 0.2231\n",
      "Epoch 4/5\n",
      "196/196 [==============================] - 39s 200ms/step - loss: 0.2240\n",
      "Epoch 5/5\n",
      "196/196 [==============================] - 39s 200ms/step - loss: 0.2238\n",
      "0.5514689264535629\n",
      "Epoch 1/5\n",
      "196/196 [==============================] - 39s 200ms/step - loss: 0.2158\n",
      "Epoch 2/5\n",
      "196/196 [==============================] - 39s 200ms/step - loss: 0.2124\n",
      "Epoch 3/5\n",
      "196/196 [==============================] - 39s 200ms/step - loss: 0.2123\n",
      "Epoch 4/5\n",
      "196/196 [==============================] - 39s 201ms/step - loss: 0.2113\n",
      "Epoch 5/5\n",
      "196/196 [==============================] - 39s 200ms/step - loss: 0.2127\n",
      "0.49726245152944304\n",
      "Epoch 1/5\n",
      "196/196 [==============================] - 39s 200ms/step - loss: 0.2136\n",
      "Epoch 2/5\n",
      "196/196 [==============================] - 39s 200ms/step - loss: 0.2131\n",
      "Epoch 3/5\n",
      "196/196 [==============================] - 39s 200ms/step - loss: 0.2134\n",
      "Epoch 4/5\n",
      "196/196 [==============================] - 39s 200ms/step - loss: 0.2132\n",
      "Epoch 5/5\n",
      "196/196 [==============================] - 39s 200ms/step - loss: 0.2129\n",
      "0.4843224036187934\n"
     ]
    }
   ],
   "source": [
    "kf = KFold(n_splits=5, shuffle=True)\n",
    "for fold, (train_id, test_id) in enumerate(kf.split(df_train['conventions'])):\n",
    "    input_ids_train, attention_mask_train = input_ids.iloc[train_id], attention_mask.iloc[train_id]\n",
    "    input_ids_val, attention_mask_val = input_ids.iloc[test_id], attention_mask.iloc[test_id]\n",
    "    y_train, y_test = df_train['conventions'].iloc[train_id], df_train['conventions'].iloc[test_id]\n",
    "    \n",
    "    input_ids_train_tensor = tf.convert_to_tensor([x for x in input_ids_train.tolist()])\n",
    "    attention_mask_train_tensor = tf.convert_to_tensor([x for x in attention_mask_train.tolist()])\n",
    "    input_ids_val_tensor = tf.convert_to_tensor([x for x in input_ids_val.tolist()])\n",
    "    attention_mask_val_tensor = tf.convert_to_tensor([x for x in attention_mask_val.tolist()])\n",
    "    if fold == 1:\n",
    "        tf.keras.backend.set_value(model.optimizer.learning_rate, 0.001)\n",
    "    if fold == 3:\n",
    "        tf.keras.backend.set_value(model.optimizer.learning_rate, 0.0001)\n",
    "    model.fit(\n",
    "        x=(input_ids_train_tensor, attention_mask_train_tensor),\n",
    "        y=tf.convert_to_tensor([np.array([x]) for x in y_train.tolist()]),\n",
    "        epochs=5,\n",
    "        shuffle=True,\n",
    "        batch_size=16,)\n",
    "    \n",
    "    pred = model.predict((input_ids_val_tensor, attention_mask_val_tensor))\n",
    "    print(mean_squared_error(y_test, pred, squared=False))"
   ]
  },
  {
   "cell_type": "code",
   "execution_count": 10,
   "id": "ea3b2f1a",
   "metadata": {
    "execution": {
     "iopub.execute_input": "2022-11-29T10:16:48.096690Z",
     "iopub.status.busy": "2022-11-29T10:16:48.096334Z",
     "iopub.status.idle": "2022-11-29T10:16:48.657445Z",
     "shell.execute_reply": "2022-11-29T10:16:48.656470Z"
    },
    "papermill": {
     "duration": 0.835502,
     "end_time": "2022-11-29T10:16:48.659802",
     "exception": false,
     "start_time": "2022-11-29T10:16:47.824300",
     "status": "completed"
    },
    "tags": []
   },
   "outputs": [],
   "source": [
    "model.save('conventions.h5')"
   ]
  }
 ],
 "metadata": {
  "kernelspec": {
   "display_name": "Python 3",
   "language": "python",
   "name": "python3"
  },
  "language_info": {
   "codemirror_mode": {
    "name": "ipython",
    "version": 3
   },
   "file_extension": ".py",
   "mimetype": "text/x-python",
   "name": "python",
   "nbconvert_exporter": "python",
   "pygments_lexer": "ipython3",
   "version": "3.7.12"
  },
  "papermill": {
   "default_parameters": {},
   "duration": 1078.76857,
   "end_time": "2022-11-29T10:16:52.633578",
   "environment_variables": {},
   "exception": null,
   "input_path": "__notebook__.ipynb",
   "output_path": "__notebook__.ipynb",
   "parameters": {},
   "start_time": "2022-11-29T09:58:53.865008",
   "version": "2.3.4"
  }
 },
 "nbformat": 4,
 "nbformat_minor": 5
}
