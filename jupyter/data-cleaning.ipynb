{
 "cells": [
  {
   "cell_type": "code",
   "execution_count": 1,
   "id": "15aea9b2",
   "metadata": {
    "execution": {
     "iopub.execute_input": "2022-11-29T07:29:02.234040Z",
     "iopub.status.busy": "2022-11-29T07:29:02.233270Z",
     "iopub.status.idle": "2022-11-29T07:29:03.058926Z",
     "shell.execute_reply": "2022-11-29T07:29:03.057948Z"
    },
    "papermill": {
     "duration": 0.844949,
     "end_time": "2022-11-29T07:29:03.061445",
     "exception": false,
     "start_time": "2022-11-29T07:29:02.216496",
     "status": "completed"
    },
    "tags": []
   },
   "outputs": [],
   "source": [
    "import numpy as np\n",
    "import pandas as pd\n",
    "import matplotlib.pyplot as plt\n",
    "import seaborn as sns"
   ]
  },
  {
   "cell_type": "code",
   "execution_count": 2,
   "id": "071cb363",
   "metadata": {
    "execution": {
     "iopub.execute_input": "2022-11-29T07:29:03.092370Z",
     "iopub.status.busy": "2022-11-29T07:29:03.091423Z",
     "iopub.status.idle": "2022-11-29T07:29:03.313903Z",
     "shell.execute_reply": "2022-11-29T07:29:03.312974Z"
    },
    "papermill": {
     "duration": 0.240473,
     "end_time": "2022-11-29T07:29:03.316090",
     "exception": false,
     "start_time": "2022-11-29T07:29:03.075617",
     "status": "completed"
    },
    "tags": []
   },
   "outputs": [
    {
     "data": {
      "text/html": [
       "<div>\n",
       "<style scoped>\n",
       "    .dataframe tbody tr th:only-of-type {\n",
       "        vertical-align: middle;\n",
       "    }\n",
       "\n",
       "    .dataframe tbody tr th {\n",
       "        vertical-align: top;\n",
       "    }\n",
       "\n",
       "    .dataframe thead th {\n",
       "        text-align: right;\n",
       "    }\n",
       "</style>\n",
       "<table border=\"1\" class=\"dataframe\">\n",
       "  <thead>\n",
       "    <tr style=\"text-align: right;\">\n",
       "      <th></th>\n",
       "      <th>text_id</th>\n",
       "      <th>full_text</th>\n",
       "      <th>cohesion</th>\n",
       "      <th>syntax</th>\n",
       "      <th>vocabulary</th>\n",
       "      <th>phraseology</th>\n",
       "      <th>grammar</th>\n",
       "      <th>conventions</th>\n",
       "    </tr>\n",
       "  </thead>\n",
       "  <tbody>\n",
       "    <tr>\n",
       "      <th>0</th>\n",
       "      <td>0016926B079C</td>\n",
       "      <td>I think that students would benefit from learn...</td>\n",
       "      <td>3.5</td>\n",
       "      <td>3.5</td>\n",
       "      <td>3.0</td>\n",
       "      <td>3.0</td>\n",
       "      <td>4.0</td>\n",
       "      <td>3.0</td>\n",
       "    </tr>\n",
       "    <tr>\n",
       "      <th>1</th>\n",
       "      <td>0022683E9EA5</td>\n",
       "      <td>When a problem is a change you have to let it ...</td>\n",
       "      <td>2.5</td>\n",
       "      <td>2.5</td>\n",
       "      <td>3.0</td>\n",
       "      <td>2.0</td>\n",
       "      <td>2.0</td>\n",
       "      <td>2.5</td>\n",
       "    </tr>\n",
       "    <tr>\n",
       "      <th>2</th>\n",
       "      <td>00299B378633</td>\n",
       "      <td>Dear, Principal\\n\\nIf u change the school poli...</td>\n",
       "      <td>3.0</td>\n",
       "      <td>3.5</td>\n",
       "      <td>3.0</td>\n",
       "      <td>3.0</td>\n",
       "      <td>3.0</td>\n",
       "      <td>2.5</td>\n",
       "    </tr>\n",
       "    <tr>\n",
       "      <th>3</th>\n",
       "      <td>003885A45F42</td>\n",
       "      <td>The best time in life is when you become yours...</td>\n",
       "      <td>4.5</td>\n",
       "      <td>4.5</td>\n",
       "      <td>4.5</td>\n",
       "      <td>4.5</td>\n",
       "      <td>4.0</td>\n",
       "      <td>5.0</td>\n",
       "    </tr>\n",
       "    <tr>\n",
       "      <th>4</th>\n",
       "      <td>0049B1DF5CCC</td>\n",
       "      <td>Small act of kindness can impact in other peop...</td>\n",
       "      <td>2.5</td>\n",
       "      <td>3.0</td>\n",
       "      <td>3.0</td>\n",
       "      <td>3.0</td>\n",
       "      <td>2.5</td>\n",
       "      <td>2.5</td>\n",
       "    </tr>\n",
       "  </tbody>\n",
       "</table>\n",
       "</div>"
      ],
      "text/plain": [
       "        text_id                                          full_text  cohesion  \\\n",
       "0  0016926B079C  I think that students would benefit from learn...       3.5   \n",
       "1  0022683E9EA5  When a problem is a change you have to let it ...       2.5   \n",
       "2  00299B378633  Dear, Principal\\n\\nIf u change the school poli...       3.0   \n",
       "3  003885A45F42  The best time in life is when you become yours...       4.5   \n",
       "4  0049B1DF5CCC  Small act of kindness can impact in other peop...       2.5   \n",
       "\n",
       "   syntax  vocabulary  phraseology  grammar  conventions  \n",
       "0     3.5         3.0          3.0      4.0          3.0  \n",
       "1     2.5         3.0          2.0      2.0          2.5  \n",
       "2     3.5         3.0          3.0      3.0          2.5  \n",
       "3     4.5         4.5          4.5      4.0          5.0  \n",
       "4     3.0         3.0          3.0      2.5          2.5  "
      ]
     },
     "execution_count": 2,
     "metadata": {},
     "output_type": "execute_result"
    }
   ],
   "source": [
    "df_train = pd.read_csv('../input/feedback-prize-english-language-learning/train.csv')\n",
    "df_test = pd.read_csv('../input/feedback-prize-english-language-learning/test.csv')\n",
    "df_train.head()"
   ]
  },
  {
   "cell_type": "code",
   "execution_count": 3,
   "id": "a76bd70b",
   "metadata": {
    "execution": {
     "iopub.execute_input": "2022-11-29T07:29:03.345280Z",
     "iopub.status.busy": "2022-11-29T07:29:03.344778Z",
     "iopub.status.idle": "2022-11-29T07:29:03.377459Z",
     "shell.execute_reply": "2022-11-29T07:29:03.376295Z"
    },
    "papermill": {
     "duration": 0.04956,
     "end_time": "2022-11-29T07:29:03.380040",
     "exception": false,
     "start_time": "2022-11-29T07:29:03.330480",
     "status": "completed"
    },
    "tags": []
   },
   "outputs": [
    {
     "data": {
      "text/html": [
       "<div>\n",
       "<style scoped>\n",
       "    .dataframe tbody tr th:only-of-type {\n",
       "        vertical-align: middle;\n",
       "    }\n",
       "\n",
       "    .dataframe tbody tr th {\n",
       "        vertical-align: top;\n",
       "    }\n",
       "\n",
       "    .dataframe thead th {\n",
       "        text-align: right;\n",
       "    }\n",
       "</style>\n",
       "<table border=\"1\" class=\"dataframe\">\n",
       "  <thead>\n",
       "    <tr style=\"text-align: right;\">\n",
       "      <th></th>\n",
       "      <th>cohesion</th>\n",
       "      <th>syntax</th>\n",
       "      <th>vocabulary</th>\n",
       "      <th>phraseology</th>\n",
       "      <th>grammar</th>\n",
       "      <th>conventions</th>\n",
       "    </tr>\n",
       "  </thead>\n",
       "  <tbody>\n",
       "    <tr>\n",
       "      <th>count</th>\n",
       "      <td>3911.000000</td>\n",
       "      <td>3911.000000</td>\n",
       "      <td>3911.000000</td>\n",
       "      <td>3911.000000</td>\n",
       "      <td>3911.000000</td>\n",
       "      <td>3911.000000</td>\n",
       "    </tr>\n",
       "    <tr>\n",
       "      <th>mean</th>\n",
       "      <td>3.127077</td>\n",
       "      <td>3.028254</td>\n",
       "      <td>3.235745</td>\n",
       "      <td>3.116850</td>\n",
       "      <td>3.032856</td>\n",
       "      <td>3.081053</td>\n",
       "    </tr>\n",
       "    <tr>\n",
       "      <th>std</th>\n",
       "      <td>0.662542</td>\n",
       "      <td>0.644399</td>\n",
       "      <td>0.583148</td>\n",
       "      <td>0.655997</td>\n",
       "      <td>0.699841</td>\n",
       "      <td>0.671450</td>\n",
       "    </tr>\n",
       "    <tr>\n",
       "      <th>min</th>\n",
       "      <td>1.000000</td>\n",
       "      <td>1.000000</td>\n",
       "      <td>1.000000</td>\n",
       "      <td>1.000000</td>\n",
       "      <td>1.000000</td>\n",
       "      <td>1.000000</td>\n",
       "    </tr>\n",
       "    <tr>\n",
       "      <th>25%</th>\n",
       "      <td>2.500000</td>\n",
       "      <td>2.500000</td>\n",
       "      <td>3.000000</td>\n",
       "      <td>2.500000</td>\n",
       "      <td>2.500000</td>\n",
       "      <td>2.500000</td>\n",
       "    </tr>\n",
       "    <tr>\n",
       "      <th>50%</th>\n",
       "      <td>3.000000</td>\n",
       "      <td>3.000000</td>\n",
       "      <td>3.000000</td>\n",
       "      <td>3.000000</td>\n",
       "      <td>3.000000</td>\n",
       "      <td>3.000000</td>\n",
       "    </tr>\n",
       "    <tr>\n",
       "      <th>75%</th>\n",
       "      <td>3.500000</td>\n",
       "      <td>3.500000</td>\n",
       "      <td>3.500000</td>\n",
       "      <td>3.500000</td>\n",
       "      <td>3.500000</td>\n",
       "      <td>3.500000</td>\n",
       "    </tr>\n",
       "    <tr>\n",
       "      <th>max</th>\n",
       "      <td>5.000000</td>\n",
       "      <td>5.000000</td>\n",
       "      <td>5.000000</td>\n",
       "      <td>5.000000</td>\n",
       "      <td>5.000000</td>\n",
       "      <td>5.000000</td>\n",
       "    </tr>\n",
       "  </tbody>\n",
       "</table>\n",
       "</div>"
      ],
      "text/plain": [
       "          cohesion       syntax   vocabulary  phraseology      grammar  \\\n",
       "count  3911.000000  3911.000000  3911.000000  3911.000000  3911.000000   \n",
       "mean      3.127077     3.028254     3.235745     3.116850     3.032856   \n",
       "std       0.662542     0.644399     0.583148     0.655997     0.699841   \n",
       "min       1.000000     1.000000     1.000000     1.000000     1.000000   \n",
       "25%       2.500000     2.500000     3.000000     2.500000     2.500000   \n",
       "50%       3.000000     3.000000     3.000000     3.000000     3.000000   \n",
       "75%       3.500000     3.500000     3.500000     3.500000     3.500000   \n",
       "max       5.000000     5.000000     5.000000     5.000000     5.000000   \n",
       "\n",
       "       conventions  \n",
       "count  3911.000000  \n",
       "mean      3.081053  \n",
       "std       0.671450  \n",
       "min       1.000000  \n",
       "25%       2.500000  \n",
       "50%       3.000000  \n",
       "75%       3.500000  \n",
       "max       5.000000  "
      ]
     },
     "execution_count": 3,
     "metadata": {},
     "output_type": "execute_result"
    }
   ],
   "source": [
    "df_train.describe()"
   ]
  },
  {
   "cell_type": "code",
   "execution_count": 4,
   "id": "4f501d96",
   "metadata": {
    "execution": {
     "iopub.execute_input": "2022-11-29T07:29:03.410267Z",
     "iopub.status.busy": "2022-11-29T07:29:03.409903Z",
     "iopub.status.idle": "2022-11-29T07:29:03.435064Z",
     "shell.execute_reply": "2022-11-29T07:29:03.434174Z"
    },
    "papermill": {
     "duration": 0.042641,
     "end_time": "2022-11-29T07:29:03.437240",
     "exception": false,
     "start_time": "2022-11-29T07:29:03.394599",
     "status": "completed"
    },
    "tags": []
   },
   "outputs": [
    {
     "data": {
      "text/html": [
       "<div>\n",
       "<style scoped>\n",
       "    .dataframe tbody tr th:only-of-type {\n",
       "        vertical-align: middle;\n",
       "    }\n",
       "\n",
       "    .dataframe tbody tr th {\n",
       "        vertical-align: top;\n",
       "    }\n",
       "\n",
       "    .dataframe thead th {\n",
       "        text-align: right;\n",
       "    }\n",
       "</style>\n",
       "<table border=\"1\" class=\"dataframe\">\n",
       "  <thead>\n",
       "    <tr style=\"text-align: right;\">\n",
       "      <th></th>\n",
       "      <th>text_id</th>\n",
       "      <th>full_text</th>\n",
       "      <th>cohesion</th>\n",
       "      <th>syntax</th>\n",
       "      <th>vocabulary</th>\n",
       "      <th>phraseology</th>\n",
       "      <th>grammar</th>\n",
       "      <th>conventions</th>\n",
       "    </tr>\n",
       "  </thead>\n",
       "  <tbody>\n",
       "    <tr>\n",
       "      <th>0</th>\n",
       "      <td>0016926B079C</td>\n",
       "      <td>I think that students would benefit from learn...</td>\n",
       "      <td>3.5</td>\n",
       "      <td>3.5</td>\n",
       "      <td>3.0</td>\n",
       "      <td>3.0</td>\n",
       "      <td>4.0</td>\n",
       "      <td>3.0</td>\n",
       "    </tr>\n",
       "    <tr>\n",
       "      <th>1</th>\n",
       "      <td>0022683E9EA5</td>\n",
       "      <td>When a problem is a change you have to let it ...</td>\n",
       "      <td>2.5</td>\n",
       "      <td>2.5</td>\n",
       "      <td>3.0</td>\n",
       "      <td>2.0</td>\n",
       "      <td>2.0</td>\n",
       "      <td>2.5</td>\n",
       "    </tr>\n",
       "    <tr>\n",
       "      <th>2</th>\n",
       "      <td>00299B378633</td>\n",
       "      <td>Dear, Principal\\n\\nIf u change the school poli...</td>\n",
       "      <td>3.0</td>\n",
       "      <td>3.5</td>\n",
       "      <td>3.0</td>\n",
       "      <td>3.0</td>\n",
       "      <td>3.0</td>\n",
       "      <td>2.5</td>\n",
       "    </tr>\n",
       "    <tr>\n",
       "      <th>3</th>\n",
       "      <td>003885A45F42</td>\n",
       "      <td>The best time in life is when you become yours...</td>\n",
       "      <td>4.5</td>\n",
       "      <td>4.5</td>\n",
       "      <td>4.5</td>\n",
       "      <td>4.5</td>\n",
       "      <td>4.0</td>\n",
       "      <td>5.0</td>\n",
       "    </tr>\n",
       "    <tr>\n",
       "      <th>4</th>\n",
       "      <td>0049B1DF5CCC</td>\n",
       "      <td>Small act of kindness can impact in other peop...</td>\n",
       "      <td>2.5</td>\n",
       "      <td>3.0</td>\n",
       "      <td>3.0</td>\n",
       "      <td>3.0</td>\n",
       "      <td>2.5</td>\n",
       "      <td>2.5</td>\n",
       "    </tr>\n",
       "    <tr>\n",
       "      <th>...</th>\n",
       "      <td>...</td>\n",
       "      <td>...</td>\n",
       "      <td>...</td>\n",
       "      <td>...</td>\n",
       "      <td>...</td>\n",
       "      <td>...</td>\n",
       "      <td>...</td>\n",
       "      <td>...</td>\n",
       "    </tr>\n",
       "    <tr>\n",
       "      <th>3905</th>\n",
       "      <td>FFCDB2524616</td>\n",
       "      <td>I agree with Ralph Waldo Emerson's \"\\n\\nTo be ...</td>\n",
       "      <td>2.5</td>\n",
       "      <td>3.0</td>\n",
       "      <td>3.0</td>\n",
       "      <td>4.0</td>\n",
       "      <td>3.5</td>\n",
       "      <td>3.0</td>\n",
       "    </tr>\n",
       "    <tr>\n",
       "      <th>3906</th>\n",
       "      <td>FFD29828A873</td>\n",
       "      <td>I believe using cellphones in class for educat...</td>\n",
       "      <td>2.5</td>\n",
       "      <td>3.0</td>\n",
       "      <td>3.0</td>\n",
       "      <td>3.5</td>\n",
       "      <td>2.5</td>\n",
       "      <td>2.5</td>\n",
       "    </tr>\n",
       "    <tr>\n",
       "      <th>3907</th>\n",
       "      <td>FFD9A83B0849</td>\n",
       "      <td>Working alone, students do not have to argue w...</td>\n",
       "      <td>4.0</td>\n",
       "      <td>4.0</td>\n",
       "      <td>4.0</td>\n",
       "      <td>4.0</td>\n",
       "      <td>3.5</td>\n",
       "      <td>3.0</td>\n",
       "    </tr>\n",
       "    <tr>\n",
       "      <th>3909</th>\n",
       "      <td>FFE16D704B16</td>\n",
       "      <td>Many people disagree with Albert Schweitzer's ...</td>\n",
       "      <td>4.0</td>\n",
       "      <td>4.5</td>\n",
       "      <td>4.5</td>\n",
       "      <td>4.0</td>\n",
       "      <td>4.5</td>\n",
       "      <td>4.5</td>\n",
       "    </tr>\n",
       "    <tr>\n",
       "      <th>3910</th>\n",
       "      <td>FFED00D6E0BD</td>\n",
       "      <td>Do you think that failure is the main thing fo...</td>\n",
       "      <td>3.5</td>\n",
       "      <td>2.5</td>\n",
       "      <td>3.5</td>\n",
       "      <td>3.0</td>\n",
       "      <td>3.0</td>\n",
       "      <td>3.5</td>\n",
       "    </tr>\n",
       "  </tbody>\n",
       "</table>\n",
       "<p>3709 rows × 8 columns</p>\n",
       "</div>"
      ],
      "text/plain": [
       "           text_id                                          full_text  \\\n",
       "0     0016926B079C  I think that students would benefit from learn...   \n",
       "1     0022683E9EA5  When a problem is a change you have to let it ...   \n",
       "2     00299B378633  Dear, Principal\\n\\nIf u change the school poli...   \n",
       "3     003885A45F42  The best time in life is when you become yours...   \n",
       "4     0049B1DF5CCC  Small act of kindness can impact in other peop...   \n",
       "...            ...                                                ...   \n",
       "3905  FFCDB2524616  I agree with Ralph Waldo Emerson's \"\\n\\nTo be ...   \n",
       "3906  FFD29828A873  I believe using cellphones in class for educat...   \n",
       "3907  FFD9A83B0849  Working alone, students do not have to argue w...   \n",
       "3909  FFE16D704B16  Many people disagree with Albert Schweitzer's ...   \n",
       "3910  FFED00D6E0BD  Do you think that failure is the main thing fo...   \n",
       "\n",
       "      cohesion  syntax  vocabulary  phraseology  grammar  conventions  \n",
       "0          3.5     3.5         3.0          3.0      4.0          3.0  \n",
       "1          2.5     2.5         3.0          2.0      2.0          2.5  \n",
       "2          3.0     3.5         3.0          3.0      3.0          2.5  \n",
       "3          4.5     4.5         4.5          4.5      4.0          5.0  \n",
       "4          2.5     3.0         3.0          3.0      2.5          2.5  \n",
       "...        ...     ...         ...          ...      ...          ...  \n",
       "3905       2.5     3.0         3.0          4.0      3.5          3.0  \n",
       "3906       2.5     3.0         3.0          3.5      2.5          2.5  \n",
       "3907       4.0     4.0         4.0          4.0      3.5          3.0  \n",
       "3909       4.0     4.5         4.5          4.0      4.5          4.5  \n",
       "3910       3.5     2.5         3.5          3.0      3.0          3.5  \n",
       "\n",
       "[3709 rows x 8 columns]"
      ]
     },
     "execution_count": 4,
     "metadata": {},
     "output_type": "execute_result"
    }
   ],
   "source": [
    "df_train.loc[df_train['full_text'].str.contains('\\n', case=False)]"
   ]
  },
  {
   "cell_type": "code",
   "execution_count": 5,
   "id": "80b25342",
   "metadata": {
    "execution": {
     "iopub.execute_input": "2022-11-29T07:29:03.467709Z",
     "iopub.status.busy": "2022-11-29T07:29:03.466717Z",
     "iopub.status.idle": "2022-11-29T07:29:03.974584Z",
     "shell.execute_reply": "2022-11-29T07:29:03.973866Z"
    },
    "papermill": {
     "duration": 0.524947,
     "end_time": "2022-11-29T07:29:03.976636",
     "exception": false,
     "start_time": "2022-11-29T07:29:03.451689",
     "status": "completed"
    },
    "tags": []
   },
   "outputs": [],
   "source": [
    "df_train['full_text'].replace(r'\\s+|\\\\n', ' ', regex=True, inplace=True) \n",
    "df_test['full_text'].replace(r'\\s+|\\\\n', ' ', regex=True, inplace=True)\n",
    "df_train['full_text'].replace(r'\\\\', '', regex=True, inplace=True) \n",
    "df_test['full_text'].replace(r'\\\\', '', regex=True, inplace=True)\n"
   ]
  },
  {
   "cell_type": "code",
   "execution_count": 6,
   "id": "8485f94f",
   "metadata": {
    "execution": {
     "iopub.execute_input": "2022-11-29T07:29:04.011242Z",
     "iopub.status.busy": "2022-11-29T07:29:04.010372Z",
     "iopub.status.idle": "2022-11-29T07:29:04.027465Z",
     "shell.execute_reply": "2022-11-29T07:29:04.026577Z"
    },
    "papermill": {
     "duration": 0.036258,
     "end_time": "2022-11-29T07:29:04.029408",
     "exception": false,
     "start_time": "2022-11-29T07:29:03.993150",
     "status": "completed"
    },
    "tags": []
   },
   "outputs": [
    {
     "data": {
      "text/html": [
       "<div>\n",
       "<style scoped>\n",
       "    .dataframe tbody tr th:only-of-type {\n",
       "        vertical-align: middle;\n",
       "    }\n",
       "\n",
       "    .dataframe tbody tr th {\n",
       "        vertical-align: top;\n",
       "    }\n",
       "\n",
       "    .dataframe thead th {\n",
       "        text-align: right;\n",
       "    }\n",
       "</style>\n",
       "<table border=\"1\" class=\"dataframe\">\n",
       "  <thead>\n",
       "    <tr style=\"text-align: right;\">\n",
       "      <th></th>\n",
       "      <th>text_id</th>\n",
       "      <th>full_text</th>\n",
       "      <th>cohesion</th>\n",
       "      <th>syntax</th>\n",
       "      <th>vocabulary</th>\n",
       "      <th>phraseology</th>\n",
       "      <th>grammar</th>\n",
       "      <th>conventions</th>\n",
       "    </tr>\n",
       "  </thead>\n",
       "  <tbody>\n",
       "    <tr>\n",
       "      <th>0</th>\n",
       "      <td>0016926B079C</td>\n",
       "      <td>I think that students would benefit from learn...</td>\n",
       "      <td>3.5</td>\n",
       "      <td>3.5</td>\n",
       "      <td>3.0</td>\n",
       "      <td>3.0</td>\n",
       "      <td>4.0</td>\n",
       "      <td>3.0</td>\n",
       "    </tr>\n",
       "    <tr>\n",
       "      <th>1</th>\n",
       "      <td>0022683E9EA5</td>\n",
       "      <td>When a problem is a change you have to let it ...</td>\n",
       "      <td>2.5</td>\n",
       "      <td>2.5</td>\n",
       "      <td>3.0</td>\n",
       "      <td>2.0</td>\n",
       "      <td>2.0</td>\n",
       "      <td>2.5</td>\n",
       "    </tr>\n",
       "    <tr>\n",
       "      <th>2</th>\n",
       "      <td>00299B378633</td>\n",
       "      <td>Dear, Principal If u change the school policy ...</td>\n",
       "      <td>3.0</td>\n",
       "      <td>3.5</td>\n",
       "      <td>3.0</td>\n",
       "      <td>3.0</td>\n",
       "      <td>3.0</td>\n",
       "      <td>2.5</td>\n",
       "    </tr>\n",
       "    <tr>\n",
       "      <th>3</th>\n",
       "      <td>003885A45F42</td>\n",
       "      <td>The best time in life is when you become yours...</td>\n",
       "      <td>4.5</td>\n",
       "      <td>4.5</td>\n",
       "      <td>4.5</td>\n",
       "      <td>4.5</td>\n",
       "      <td>4.0</td>\n",
       "      <td>5.0</td>\n",
       "    </tr>\n",
       "    <tr>\n",
       "      <th>4</th>\n",
       "      <td>0049B1DF5CCC</td>\n",
       "      <td>Small act of kindness can impact in other peop...</td>\n",
       "      <td>2.5</td>\n",
       "      <td>3.0</td>\n",
       "      <td>3.0</td>\n",
       "      <td>3.0</td>\n",
       "      <td>2.5</td>\n",
       "      <td>2.5</td>\n",
       "    </tr>\n",
       "  </tbody>\n",
       "</table>\n",
       "</div>"
      ],
      "text/plain": [
       "        text_id                                          full_text  cohesion  \\\n",
       "0  0016926B079C  I think that students would benefit from learn...       3.5   \n",
       "1  0022683E9EA5  When a problem is a change you have to let it ...       2.5   \n",
       "2  00299B378633  Dear, Principal If u change the school policy ...       3.0   \n",
       "3  003885A45F42  The best time in life is when you become yours...       4.5   \n",
       "4  0049B1DF5CCC  Small act of kindness can impact in other peop...       2.5   \n",
       "\n",
       "   syntax  vocabulary  phraseology  grammar  conventions  \n",
       "0     3.5         3.0          3.0      4.0          3.0  \n",
       "1     2.5         3.0          2.0      2.0          2.5  \n",
       "2     3.5         3.0          3.0      3.0          2.5  \n",
       "3     4.5         4.5          4.5      4.0          5.0  \n",
       "4     3.0         3.0          3.0      2.5          2.5  "
      ]
     },
     "execution_count": 6,
     "metadata": {},
     "output_type": "execute_result"
    }
   ],
   "source": [
    "df_train.head()"
   ]
  },
  {
   "cell_type": "code",
   "execution_count": 7,
   "id": "62562b89",
   "metadata": {
    "execution": {
     "iopub.execute_input": "2022-11-29T07:29:04.060055Z",
     "iopub.status.busy": "2022-11-29T07:29:04.059727Z",
     "iopub.status.idle": "2022-11-29T07:29:04.085611Z",
     "shell.execute_reply": "2022-11-29T07:29:04.084434Z"
    },
    "papermill": {
     "duration": 0.044038,
     "end_time": "2022-11-29T07:29:04.088014",
     "exception": false,
     "start_time": "2022-11-29T07:29:04.043976",
     "status": "completed"
    },
    "tags": []
   },
   "outputs": [
    {
     "data": {
      "text/html": [
       "<div>\n",
       "<style scoped>\n",
       "    .dataframe tbody tr th:only-of-type {\n",
       "        vertical-align: middle;\n",
       "    }\n",
       "\n",
       "    .dataframe tbody tr th {\n",
       "        vertical-align: top;\n",
       "    }\n",
       "\n",
       "    .dataframe thead th {\n",
       "        text-align: right;\n",
       "    }\n",
       "</style>\n",
       "<table border=\"1\" class=\"dataframe\">\n",
       "  <thead>\n",
       "    <tr style=\"text-align: right;\">\n",
       "      <th></th>\n",
       "      <th>text_id</th>\n",
       "      <th>full_text</th>\n",
       "      <th>cohesion</th>\n",
       "      <th>syntax</th>\n",
       "      <th>vocabulary</th>\n",
       "      <th>phraseology</th>\n",
       "      <th>grammar</th>\n",
       "      <th>conventions</th>\n",
       "    </tr>\n",
       "  </thead>\n",
       "  <tbody>\n",
       "    <tr>\n",
       "      <th>0</th>\n",
       "      <td>0016926B079C</td>\n",
       "      <td>I think that students would benefit from learn...</td>\n",
       "      <td>3.5</td>\n",
       "      <td>3.5</td>\n",
       "      <td>3.0</td>\n",
       "      <td>3.0</td>\n",
       "      <td>4.0</td>\n",
       "      <td>3.0</td>\n",
       "    </tr>\n",
       "    <tr>\n",
       "      <th>1</th>\n",
       "      <td>0022683E9EA5</td>\n",
       "      <td>When a problem is a change you have to let it ...</td>\n",
       "      <td>2.5</td>\n",
       "      <td>2.5</td>\n",
       "      <td>3.0</td>\n",
       "      <td>2.0</td>\n",
       "      <td>2.0</td>\n",
       "      <td>2.5</td>\n",
       "    </tr>\n",
       "    <tr>\n",
       "      <th>2</th>\n",
       "      <td>00299B378633</td>\n",
       "      <td>Dear, Principal If u change the school policy ...</td>\n",
       "      <td>3.0</td>\n",
       "      <td>3.5</td>\n",
       "      <td>3.0</td>\n",
       "      <td>3.0</td>\n",
       "      <td>3.0</td>\n",
       "      <td>2.5</td>\n",
       "    </tr>\n",
       "    <tr>\n",
       "      <th>3</th>\n",
       "      <td>003885A45F42</td>\n",
       "      <td>The best time in life is when you become yours...</td>\n",
       "      <td>4.5</td>\n",
       "      <td>4.5</td>\n",
       "      <td>4.5</td>\n",
       "      <td>4.5</td>\n",
       "      <td>4.0</td>\n",
       "      <td>5.0</td>\n",
       "    </tr>\n",
       "    <tr>\n",
       "      <th>4</th>\n",
       "      <td>0049B1DF5CCC</td>\n",
       "      <td>Small act of kindness can impact in other peop...</td>\n",
       "      <td>2.5</td>\n",
       "      <td>3.0</td>\n",
       "      <td>3.0</td>\n",
       "      <td>3.0</td>\n",
       "      <td>2.5</td>\n",
       "      <td>2.5</td>\n",
       "    </tr>\n",
       "    <tr>\n",
       "      <th>...</th>\n",
       "      <td>...</td>\n",
       "      <td>...</td>\n",
       "      <td>...</td>\n",
       "      <td>...</td>\n",
       "      <td>...</td>\n",
       "      <td>...</td>\n",
       "      <td>...</td>\n",
       "      <td>...</td>\n",
       "    </tr>\n",
       "    <tr>\n",
       "      <th>3906</th>\n",
       "      <td>FFD29828A873</td>\n",
       "      <td>I believe using cellphones in class for educat...</td>\n",
       "      <td>2.5</td>\n",
       "      <td>3.0</td>\n",
       "      <td>3.0</td>\n",
       "      <td>3.5</td>\n",
       "      <td>2.5</td>\n",
       "      <td>2.5</td>\n",
       "    </tr>\n",
       "    <tr>\n",
       "      <th>3907</th>\n",
       "      <td>FFD9A83B0849</td>\n",
       "      <td>Working alone, students do not have to argue w...</td>\n",
       "      <td>4.0</td>\n",
       "      <td>4.0</td>\n",
       "      <td>4.0</td>\n",
       "      <td>4.0</td>\n",
       "      <td>3.5</td>\n",
       "      <td>3.0</td>\n",
       "    </tr>\n",
       "    <tr>\n",
       "      <th>3908</th>\n",
       "      <td>FFDC4011AC9C</td>\n",
       "      <td>\"A problem is a chance for you to do your best...</td>\n",
       "      <td>2.5</td>\n",
       "      <td>3.0</td>\n",
       "      <td>3.0</td>\n",
       "      <td>3.0</td>\n",
       "      <td>3.5</td>\n",
       "      <td>3.0</td>\n",
       "    </tr>\n",
       "    <tr>\n",
       "      <th>3909</th>\n",
       "      <td>FFE16D704B16</td>\n",
       "      <td>Many people disagree with Albert Schweitzer's ...</td>\n",
       "      <td>4.0</td>\n",
       "      <td>4.5</td>\n",
       "      <td>4.5</td>\n",
       "      <td>4.0</td>\n",
       "      <td>4.5</td>\n",
       "      <td>4.5</td>\n",
       "    </tr>\n",
       "    <tr>\n",
       "      <th>3910</th>\n",
       "      <td>FFED00D6E0BD</td>\n",
       "      <td>Do you think that failure is the main thing fo...</td>\n",
       "      <td>3.5</td>\n",
       "      <td>2.5</td>\n",
       "      <td>3.5</td>\n",
       "      <td>3.0</td>\n",
       "      <td>3.0</td>\n",
       "      <td>3.5</td>\n",
       "    </tr>\n",
       "  </tbody>\n",
       "</table>\n",
       "<p>3911 rows × 8 columns</p>\n",
       "</div>"
      ],
      "text/plain": [
       "           text_id                                          full_text  \\\n",
       "0     0016926B079C  I think that students would benefit from learn...   \n",
       "1     0022683E9EA5  When a problem is a change you have to let it ...   \n",
       "2     00299B378633  Dear, Principal If u change the school policy ...   \n",
       "3     003885A45F42  The best time in life is when you become yours...   \n",
       "4     0049B1DF5CCC  Small act of kindness can impact in other peop...   \n",
       "...            ...                                                ...   \n",
       "3906  FFD29828A873  I believe using cellphones in class for educat...   \n",
       "3907  FFD9A83B0849  Working alone, students do not have to argue w...   \n",
       "3908  FFDC4011AC9C  \"A problem is a chance for you to do your best...   \n",
       "3909  FFE16D704B16  Many people disagree with Albert Schweitzer's ...   \n",
       "3910  FFED00D6E0BD  Do you think that failure is the main thing fo...   \n",
       "\n",
       "      cohesion  syntax  vocabulary  phraseology  grammar  conventions  \n",
       "0          3.5     3.5         3.0          3.0      4.0          3.0  \n",
       "1          2.5     2.5         3.0          2.0      2.0          2.5  \n",
       "2          3.0     3.5         3.0          3.0      3.0          2.5  \n",
       "3          4.5     4.5         4.5          4.5      4.0          5.0  \n",
       "4          2.5     3.0         3.0          3.0      2.5          2.5  \n",
       "...        ...     ...         ...          ...      ...          ...  \n",
       "3906       2.5     3.0         3.0          3.5      2.5          2.5  \n",
       "3907       4.0     4.0         4.0          4.0      3.5          3.0  \n",
       "3908       2.5     3.0         3.0          3.0      3.5          3.0  \n",
       "3909       4.0     4.5         4.5          4.0      4.5          4.5  \n",
       "3910       3.5     2.5         3.5          3.0      3.0          3.5  \n",
       "\n",
       "[3911 rows x 8 columns]"
      ]
     },
     "execution_count": 7,
     "metadata": {},
     "output_type": "execute_result"
    }
   ],
   "source": [
    "df_train.loc[df_train['full_text'].str.contains(\"\", case=False)]"
   ]
  },
  {
   "cell_type": "code",
   "execution_count": 8,
   "id": "d09e93b2",
   "metadata": {
    "execution": {
     "iopub.execute_input": "2022-11-29T07:29:04.119033Z",
     "iopub.status.busy": "2022-11-29T07:29:04.118713Z",
     "iopub.status.idle": "2022-11-29T07:29:04.124908Z",
     "shell.execute_reply": "2022-11-29T07:29:04.124064Z"
    },
    "papermill": {
     "duration": 0.023411,
     "end_time": "2022-11-29T07:29:04.126628",
     "exception": false,
     "start_time": "2022-11-29T07:29:04.103217",
     "status": "completed"
    },
    "tags": []
   },
   "outputs": [
    {
     "data": {
      "text/plain": [
       "'The best time in life is when you become yourself. I agree that the greatest accomplishment, is when you be yourself in a world that constantly trying to make you something else. Because you make your own choices, you become more happy, and you respect others. First, you make your own choices by being yourself. Becoming yourself means that you should be able to make your own choices and not be shy or afraid of what you\\'re doing. Because you\\'re defining yourself by doing those things that you want. Some people follow others, therefore, they don\\'t make their own choices. People are afraid to make their own choice because they don\\'t want to get rejected or be wrong. In this world, most of the teenagers act and follow the people who are strong and bullies. The reason they follow them and make the same choices they make, is because they\\'re afraid that they will get beaten up and be left out. Personally when I came to the United States I used to follow other, because I thought they were amazing. But one day, I knew I was walking in the wrong path and I left them. Making your own choices makes you happy because you get to do what you like and what you want to do. It\\'s hard to make your own choices, but one day you\\'re going to have to make your own choices. The more you mature the more it will become easier for you to not be afraid of what you\\'re doing and how other people are looking at it, because at the end of the day It\\'s your life and you do what you think is right. Second, You become more happy by being yourself because you make your own choices, You take responsibilities and you do whatever makes you happy. Also, some people act like they\\'re happy while not being themselves, but matter of fact, they\\'re depressed from the inside. Being yourself makes you more happy because you feel like you achieved something big. Also, Some religious kids who become themselves love everyone. In the bible it says \"Those who know God should love others, because God is love.\" Not being yourself will get you depressed because you don\\'t do everything you want to do, but you do what others wanna do because you want to fit in. Some kids who come from a different country will do stuff they don\\'t want to do just to fit in, because they don\\'t want to be lonely. Some people are afraid they won\\'t be happy because they would lose a lot of friends for being themselves, but they have to know that those people should be there for them and support them for what he\\'s doing since it\\'s his friends. Lastly, Respecting others will gain them to respect you. Some teenagers like to make fun of others, not listen to what they have to say, and they like to beat kids up. Also some kids don\\'t like to not listen to their parents, and that is also disrespectful. The bible says \" Honor your father and mother.\" If you respect your parents and listen to them, then they would trust you and not ask you lots of questions. Respecting other should be really important, because you don\\'t want others to not respect you. Also, Some people are disrespectful because they were never respected. Important things to do to be respectful is, Listen to what the other person has to say, Stand up for them, Being friends with them Doing all of that will gain you respect and you would have good friends. Also, if you see someone bullying a kid don\\'t watch, and stand up for them, don\\'t be afraid to stand up for someone because you\\'re doing the right thing. Some may disagree with me and say that it\\'s not that big of a deal, and it doesn\\'t feel like a big accomplishment. But with all do respect, I agree that it\\'s a big accomplishment because nowadays it\\'s really hard to become yourself. In conclusion, It\\'s hard to become yourself in this world, because others are holding that opportunity back from you and you\\'re afraid to fight it back. That\\'s why I agree that to be yourself in a world that is constantly trying to make you something else is the greatest accomplishment. '"
      ]
     },
     "execution_count": 8,
     "metadata": {},
     "output_type": "execute_result"
    }
   ],
   "source": [
    "df_train['full_text'][3]"
   ]
  },
  {
   "cell_type": "code",
   "execution_count": 9,
   "id": "b2df79d7",
   "metadata": {
    "execution": {
     "iopub.execute_input": "2022-11-29T07:29:04.158802Z",
     "iopub.status.busy": "2022-11-29T07:29:04.157866Z",
     "iopub.status.idle": "2022-11-29T07:29:04.168360Z",
     "shell.execute_reply": "2022-11-29T07:29:04.167303Z"
    },
    "papermill": {
     "duration": 0.030422,
     "end_time": "2022-11-29T07:29:04.171915",
     "exception": false,
     "start_time": "2022-11-29T07:29:04.141493",
     "status": "completed"
    },
    "tags": []
   },
   "outputs": [
    {
     "data": {
      "text/plain": [
       "text_id        0\n",
       "full_text      0\n",
       "cohesion       0\n",
       "syntax         0\n",
       "vocabulary     0\n",
       "phraseology    0\n",
       "grammar        0\n",
       "conventions    0\n",
       "dtype: int64"
      ]
     },
     "execution_count": 9,
     "metadata": {},
     "output_type": "execute_result"
    }
   ],
   "source": [
    "df_train.isnull().sum()"
   ]
  },
  {
   "cell_type": "code",
   "execution_count": 10,
   "id": "92319c86",
   "metadata": {
    "execution": {
     "iopub.execute_input": "2022-11-29T07:29:04.206194Z",
     "iopub.status.busy": "2022-11-29T07:29:04.205743Z",
     "iopub.status.idle": "2022-11-29T07:29:04.304089Z",
     "shell.execute_reply": "2022-11-29T07:29:04.303412Z"
    },
    "papermill": {
     "duration": 0.116722,
     "end_time": "2022-11-29T07:29:04.306173",
     "exception": false,
     "start_time": "2022-11-29T07:29:04.189451",
     "status": "completed"
    },
    "tags": []
   },
   "outputs": [],
   "source": [
    "df_train['avg_word_length'] = df_train['full_text'].str.len()/df_train['full_text'].str.count(' ')\n",
    "df_test['avg_word_length'] = df_train['full_text'].str.len()/df_test['full_text'].str.count(' ')"
   ]
  },
  {
   "cell_type": "code",
   "execution_count": 11,
   "id": "89252e68",
   "metadata": {
    "execution": {
     "iopub.execute_input": "2022-11-29T07:29:04.337995Z",
     "iopub.status.busy": "2022-11-29T07:29:04.337634Z",
     "iopub.status.idle": "2022-11-29T07:29:04.347763Z",
     "shell.execute_reply": "2022-11-29T07:29:04.346866Z"
    },
    "papermill": {
     "duration": 0.028395,
     "end_time": "2022-11-29T07:29:04.349648",
     "exception": false,
     "start_time": "2022-11-29T07:29:04.321253",
     "status": "completed"
    },
    "tags": []
   },
   "outputs": [
    {
     "data": {
      "text/plain": [
       "count    3911.000000\n",
       "mean        5.348991\n",
       "std         0.293743\n",
       "min         4.336538\n",
       "25%         5.148543\n",
       "50%         5.340081\n",
       "75%         5.530401\n",
       "max         6.714961\n",
       "Name: avg_word_length, dtype: float64"
      ]
     },
     "execution_count": 11,
     "metadata": {},
     "output_type": "execute_result"
    }
   ],
   "source": [
    "df_train['avg_word_length'].describe()"
   ]
  },
  {
   "cell_type": "code",
   "execution_count": 12,
   "id": "91a56efa",
   "metadata": {
    "execution": {
     "iopub.execute_input": "2022-11-29T07:29:04.381126Z",
     "iopub.status.busy": "2022-11-29T07:29:04.380253Z",
     "iopub.status.idle": "2022-11-29T07:29:04.968071Z",
     "shell.execute_reply": "2022-11-29T07:29:04.967186Z"
    },
    "papermill": {
     "duration": 0.605253,
     "end_time": "2022-11-29T07:29:04.969921",
     "exception": false,
     "start_time": "2022-11-29T07:29:04.364668",
     "status": "completed"
    },
    "tags": []
   },
   "outputs": [
    {
     "data": {
      "image/png": "[encoded data removed]",
      "text/plain": [
       "<Figure size 720x720 with 6 Axes>"
      ]
     },
     "metadata": {
      "needs_background": "light"
     },
     "output_type": "display_data"
    }
   ],
   "source": [
    "df_train_res = df_train[['cohesion', 'syntax', 'vocabulary', 'phraseology', 'grammar', 'conventions']]\n",
    "plt.figure(figsize=(10, 10))\n",
    "for i, column in enumerate(df_train_res):\n",
    "    plt.subplot(3, 2, i + 1)\n",
    "    plt.scatter(df_train_res[column], df_train['avg_word_length'])\n",
    "    plt.xlabel(column)\n",
    "plt.show()"
   ]
  },
  {
   "cell_type": "code",
   "execution_count": 13,
   "id": "7e90e794",
   "metadata": {
    "execution": {
     "iopub.execute_input": "2022-11-29T07:29:05.006037Z",
     "iopub.status.busy": "2022-11-29T07:29:05.004948Z",
     "iopub.status.idle": "2022-11-29T07:29:05.170072Z",
     "shell.execute_reply": "2022-11-29T07:29:05.169207Z"
    },
    "papermill": {
     "duration": 0.185819,
     "end_time": "2022-11-29T07:29:05.171975",
     "exception": false,
     "start_time": "2022-11-29T07:29:04.986156",
     "status": "completed"
    },
    "tags": []
   },
   "outputs": [
    {
     "data": {
      "text/plain": [
       "<AxesSubplot:>"
      ]
     },
     "execution_count": 13,
     "metadata": {},
     "output_type": "execute_result"
    },
    {
     "data": {
      "image/png": "[encoded data removed]",
      "text/plain": [
       "<Figure size 432x288 with 1 Axes>"
      ]
     },
     "metadata": {
      "needs_background": "light"
     },
     "output_type": "display_data"
    }
   ],
   "source": [
    "df_train['avg_word_length'].hist()"
   ]
  },
  {
   "cell_type": "code",
   "execution_count": 14,
   "id": "54f63520",
   "metadata": {
    "execution": {
     "iopub.execute_input": "2022-11-29T07:29:05.204810Z",
     "iopub.status.busy": "2022-11-29T07:29:05.204468Z",
     "iopub.status.idle": "2022-11-29T07:29:05.444259Z",
     "shell.execute_reply": "2022-11-29T07:29:05.442952Z"
    },
    "papermill": {
     "duration": 0.258894,
     "end_time": "2022-11-29T07:29:05.446609",
     "exception": false,
     "start_time": "2022-11-29T07:29:05.187715",
     "status": "completed"
    },
    "tags": []
   },
   "outputs": [],
   "source": [
    "article_sum = df_train['full_text'].str.count(' a ') + df_train['full_text'].str.count(' an ') + df_train['full_text'].str.count(' the ')\n",
    "article_sum += df_train['full_text'].str.count(' A ') + df_train['full_text'].str.count(' An ') + df_train['full_text'].str.count(' The ')\n",
    "df_train['avg_article'] = article_sum/df_train['full_text'].str.count(' ')"
   ]
  },
  {
   "cell_type": "code",
   "execution_count": 15,
   "id": "619ef835",
   "metadata": {
    "execution": {
     "iopub.execute_input": "2022-11-29T07:29:05.478851Z",
     "iopub.status.busy": "2022-11-29T07:29:05.478486Z",
     "iopub.status.idle": "2022-11-29T07:29:06.056033Z",
     "shell.execute_reply": "2022-11-29T07:29:06.054661Z"
    },
    "papermill": {
     "duration": 0.595913,
     "end_time": "2022-11-29T07:29:06.058117",
     "exception": false,
     "start_time": "2022-11-29T07:29:05.462204",
     "status": "completed"
    },
    "tags": []
   },
   "outputs": [
    {
     "data": {
      "image/png": "[encoded data removed]",
      "text/plain": [
       "<Figure size 720x720 with 6 Axes>"
      ]
     },
     "metadata": {
      "needs_background": "light"
     },
     "output_type": "display_data"
    }
   ],
   "source": [
    "df_train_res = df_train[['cohesion', 'syntax', 'vocabulary', 'phraseology', 'grammar', 'conventions']]\n",
    "plt.figure(figsize=(10, 10))\n",
    "for i, column in enumerate(df_train_res):\n",
    "    plt.subplot(3, 2, i + 1)\n",
    "    plt.scatter(df_train_res[column], df_train['avg_article'])\n",
    "    plt.xlabel(column)\n",
    "plt.show()"
   ]
  },
  {
   "cell_type": "code",
   "execution_count": 16,
   "id": "f0467f4a",
   "metadata": {
    "execution": {
     "iopub.execute_input": "2022-11-29T07:29:06.093239Z",
     "iopub.status.busy": "2022-11-29T07:29:06.092868Z",
     "iopub.status.idle": "2022-11-29T07:29:06.269684Z",
     "shell.execute_reply": "2022-11-29T07:29:06.268363Z"
    },
    "papermill": {
     "duration": 0.196705,
     "end_time": "2022-11-29T07:29:06.271654",
     "exception": false,
     "start_time": "2022-11-29T07:29:06.074949",
     "status": "completed"
    },
    "tags": []
   },
   "outputs": [
    {
     "data": {
      "text/plain": [
       "<AxesSubplot:>"
      ]
     },
     "execution_count": 16,
     "metadata": {},
     "output_type": "execute_result"
    },
    {
     "data": {
      "image/png": "[encoded data removed]",
      "text/plain": [
       "<Figure size 432x288 with 1 Axes>"
      ]
     },
     "metadata": {
      "needs_background": "light"
     },
     "output_type": "display_data"
    }
   ],
   "source": [
    "df_train['avg_article'].hist()"
   ]
  },
  {
   "cell_type": "code",
   "execution_count": 17,
   "id": "0fb2a271",
   "metadata": {
    "execution": {
     "iopub.execute_input": "2022-11-29T07:29:06.305880Z",
     "iopub.status.busy": "2022-11-29T07:29:06.305514Z",
     "iopub.status.idle": "2022-11-29T07:29:06.319906Z",
     "shell.execute_reply": "2022-11-29T07:29:06.319075Z"
    },
    "papermill": {
     "duration": 0.033836,
     "end_time": "2022-11-29T07:29:06.321801",
     "exception": false,
     "start_time": "2022-11-29T07:29:06.287965",
     "status": "completed"
    },
    "tags": []
   },
   "outputs": [
    {
     "data": {
      "text/html": [
       "<div>\n",
       "<style scoped>\n",
       "    .dataframe tbody tr th:only-of-type {\n",
       "        vertical-align: middle;\n",
       "    }\n",
       "\n",
       "    .dataframe tbody tr th {\n",
       "        vertical-align: top;\n",
       "    }\n",
       "\n",
       "    .dataframe thead th {\n",
       "        text-align: right;\n",
       "    }\n",
       "</style>\n",
       "<table border=\"1\" class=\"dataframe\">\n",
       "  <thead>\n",
       "    <tr style=\"text-align: right;\">\n",
       "      <th></th>\n",
       "      <th>text_id</th>\n",
       "      <th>full_text</th>\n",
       "      <th>cohesion</th>\n",
       "      <th>syntax</th>\n",
       "      <th>vocabulary</th>\n",
       "      <th>phraseology</th>\n",
       "      <th>grammar</th>\n",
       "      <th>conventions</th>\n",
       "      <th>avg_word_length</th>\n",
       "      <th>avg_article</th>\n",
       "    </tr>\n",
       "  </thead>\n",
       "  <tbody>\n",
       "    <tr>\n",
       "      <th>376</th>\n",
       "      <td>1CB9668F242D</td>\n",
       "      <td>There are so many enjoyable ways to spend time...</td>\n",
       "      <td>3.0</td>\n",
       "      <td>3.0</td>\n",
       "      <td>3.5</td>\n",
       "      <td>2.5</td>\n",
       "      <td>3.5</td>\n",
       "      <td>2.5</td>\n",
       "      <td>6.560109</td>\n",
       "      <td>0.051913</td>\n",
       "    </tr>\n",
       "    <tr>\n",
       "      <th>1472</th>\n",
       "      <td>71F1B96A18BB</td>\n",
       "      <td>In most student's summer time,they learn diffe...</td>\n",
       "      <td>3.0</td>\n",
       "      <td>2.5</td>\n",
       "      <td>3.0</td>\n",
       "      <td>3.0</td>\n",
       "      <td>2.0</td>\n",
       "      <td>3.0</td>\n",
       "      <td>6.540268</td>\n",
       "      <td>0.057047</td>\n",
       "    </tr>\n",
       "    <tr>\n",
       "      <th>2519</th>\n",
       "      <td>BB240E6FF61F</td>\n",
       "      <td>Since the early societies with important philo...</td>\n",
       "      <td>5.0</td>\n",
       "      <td>4.0</td>\n",
       "      <td>5.0</td>\n",
       "      <td>5.0</td>\n",
       "      <td>4.0</td>\n",
       "      <td>4.5</td>\n",
       "      <td>6.714961</td>\n",
       "      <td>0.108661</td>\n",
       "    </tr>\n",
       "  </tbody>\n",
       "</table>\n",
       "</div>"
      ],
      "text/plain": [
       "           text_id                                          full_text  \\\n",
       "376   1CB9668F242D  There are so many enjoyable ways to spend time...   \n",
       "1472  71F1B96A18BB  In most student's summer time,they learn diffe...   \n",
       "2519  BB240E6FF61F  Since the early societies with important philo...   \n",
       "\n",
       "      cohesion  syntax  vocabulary  phraseology  grammar  conventions  \\\n",
       "376        3.0     3.0         3.5          2.5      3.5          2.5   \n",
       "1472       3.0     2.5         3.0          3.0      2.0          3.0   \n",
       "2519       5.0     4.0         5.0          5.0      4.0          4.5   \n",
       "\n",
       "      avg_word_length  avg_article  \n",
       "376          6.560109     0.051913  \n",
       "1472         6.540268     0.057047  \n",
       "2519         6.714961     0.108661  "
      ]
     },
     "execution_count": 17,
     "metadata": {},
     "output_type": "execute_result"
    }
   ],
   "source": [
    "df_train[df_train.avg_word_length >= 6.5]"
   ]
  },
  {
   "cell_type": "code",
   "execution_count": 18,
   "id": "cd14f722",
   "metadata": {
    "execution": {
     "iopub.execute_input": "2022-11-29T07:29:06.356840Z",
     "iopub.status.busy": "2022-11-29T07:29:06.356249Z",
     "iopub.status.idle": "2022-11-29T07:29:06.362077Z",
     "shell.execute_reply": "2022-11-29T07:29:06.361384Z"
    },
    "papermill": {
     "duration": 0.024965,
     "end_time": "2022-11-29T07:29:06.363651",
     "exception": false,
     "start_time": "2022-11-29T07:29:06.338686",
     "status": "completed"
    },
    "tags": []
   },
   "outputs": [
    {
     "data": {
      "text/plain": [
       "'Since the early societies with important philosophers such as Aristotle and Confucius, the world have been in a complex debate arguing about the best way to influence other people. As result, several ideas about how to influence people emerged, such as an internal agreement through the creation of the early constitution in Athens by Aristotle. Early constitution which tried to combat the earliest authoritarian ways to influence people through force. However, those ways to influence people were not effective because those factors dictate the people\\'s actions and created a hostile environment. Therefore, the best way to influence others is by our own behavior setting a good example because this generates stability, creates higher standards, and effectiveness. Henceforth, setting a good example generates stability because this do not create a patron of dictatorship that generate differences and hostilities between the relationship follower-influencer. As result, this factor create an ideal and healthier relationship, which is reflected in the quality of the relationship environment. As a consequence, the stability created it by our own behavior and example make our message easier to be transmit it and receive it. For example, the relationship parent-son. This particular and common relationship completely reflected the influence of a good example and how the parent behavior dictate the stability in the family, especially in his relationship with the son. As result, if the parent set a good example and behavior the son would be more open to receive the parent\\'s influence. Therefore, a high grade of empathy would be developed. As result, there would not be any differences and hostilities that can damage the stability of the relationship. However, many people still argue that there are different ways to influence others rather than setting a good example, such as internal agreements (e. i., constitution and other behavior codes). However, those ways still fall into the dictatorship and authoritarian scheme that make people disagree and create conflict. In addition, those rudimentary and forcing methods do not help the persons and the influencer-follower environment. In contrast, deteriorate and break any possibility of improvement because this authoritarian limit you, instead develop you. Therefore, by showing a good behavior and setting a good example the influencing process change drastically because this process became more active, inclusive, and dynamic. As result, this influencing way create higher standards because this method of influencing people promote values such as integration and solidarity that reach improvement and cooperation. As result, the higher standards break the authoritarian barrier and open the path for cooperation, participation, and admiration in the follower-influencer relationship. Therefore, a great example led by a good behavior becomes more effective because there is a dynamic cooperation between followers and influencers that boosted their performance and empathy in the relationship. Hence this dynamic cooperation becomes stronger, as result the relationship reach incredible stages of solidarity, which is translated into a better and healthier way to influence people. In contrast, the old \"fashioned\" authoritarian ways to influence people just deteriorate the follower-influencer relationship by dictating and forcing the followers\\' actions. As result, the net influence, effectiveness, and impact by the authoritarian ways become lower than setting a good example and behavior. For example, the actions by the Mohammad Gandhi in India with his pacific civilian disobedience movement; where he led an incredible number of people just by example and a good behavior through the diverse hostilities. This show the huge impact of setting a good example and the effectiveness that this way have on influencing people. Therefore, setting a good example is the best way to influence others because this way is the less damaging and authoritarian, and more inclusive and beneficial method to achieve a greater result. In addition, because this method promotes solidarity and unity, instead of division and competition. Lastly, because this method highlight humanity instead of cruelty. '"
      ]
     },
     "execution_count": 18,
     "metadata": {},
     "output_type": "execute_result"
    }
   ],
   "source": [
    "df_train['full_text'][2519]"
   ]
  },
  {
   "cell_type": "code",
   "execution_count": 19,
   "id": "309291f2",
   "metadata": {
    "execution": {
     "iopub.execute_input": "2022-11-29T07:29:06.398162Z",
     "iopub.status.busy": "2022-11-29T07:29:06.397759Z",
     "iopub.status.idle": "2022-11-29T07:29:06.403147Z",
     "shell.execute_reply": "2022-11-29T07:29:06.402263Z"
    },
    "papermill": {
     "duration": 0.02487,
     "end_time": "2022-11-29T07:29:06.404953",
     "exception": false,
     "start_time": "2022-11-29T07:29:06.380083",
     "status": "completed"
    },
    "tags": []
   },
   "outputs": [],
   "source": [
    "df_train_syntax = df_train.copy(deep=True)"
   ]
  },
  {
   "cell_type": "code",
   "execution_count": 20,
   "id": "2aa227a8",
   "metadata": {
    "execution": {
     "iopub.execute_input": "2022-11-29T07:29:06.439619Z",
     "iopub.status.busy": "2022-11-29T07:29:06.439259Z",
     "iopub.status.idle": "2022-11-29T07:29:06.578801Z",
     "shell.execute_reply": "2022-11-29T07:29:06.578116Z"
    },
    "papermill": {
     "duration": 0.159194,
     "end_time": "2022-11-29T07:29:06.580749",
     "exception": false,
     "start_time": "2022-11-29T07:29:06.421555",
     "status": "completed"
    },
    "tags": []
   },
   "outputs": [
    {
     "data": {
      "image/png": "[encoded data removed]",
      "text/plain": [
       "<Figure size 432x288 with 1 Axes>"
      ]
     },
     "metadata": {
      "needs_background": "light"
     },
     "output_type": "display_data"
    }
   ],
   "source": [
    "plt.scatter(df_train_syntax['syntax'], df_train_syntax['avg_word_length'])\n",
    "plt.show()"
   ]
  },
  {
   "cell_type": "code",
   "execution_count": 21,
   "id": "c106d8a3",
   "metadata": {
    "execution": {
     "iopub.execute_input": "2022-11-29T07:29:06.616421Z",
     "iopub.status.busy": "2022-11-29T07:29:06.615913Z",
     "iopub.status.idle": "2022-11-29T07:29:06.641265Z",
     "shell.execute_reply": "2022-11-29T07:29:06.640683Z"
    },
    "papermill": {
     "duration": 0.04484,
     "end_time": "2022-11-29T07:29:06.642972",
     "exception": false,
     "start_time": "2022-11-29T07:29:06.598132",
     "status": "completed"
    },
    "tags": []
   },
   "outputs": [],
   "source": [
    "df_train_syntax = df_train_syntax[df_train_syntax.avg_word_length <= 6.5]\n",
    "df_train_syntax = df_train_syntax.drop(df_train_syntax[(df_train_syntax.avg_word_length >= 6.0) & (df_train_syntax.syntax == 5.0)].index)\n",
    "df_train_syntax = df_train_syntax.drop(df_train_syntax[(df_train_syntax.avg_word_length <= 5.0) & (df_train_syntax.syntax == 4.5)].index)\n",
    "df_train_syntax = df_train_syntax.drop(df_train_syntax[(df_train_syntax.avg_word_length >= 6.2) & (df_train_syntax.syntax == 4.5)].index)\n",
    "df_train_syntax = df_train_syntax.drop(df_train_syntax[(df_train_syntax.avg_word_length <= 4.5) & (df_train_syntax.syntax == 3.0)].index)\n",
    "df_train_syntax = df_train_syntax.drop(df_train_syntax[(df_train_syntax.avg_word_length <= 4.5) & (df_train_syntax.syntax == 2.5)].index)\n",
    "df_train_syntax = df_train_syntax.drop(df_train_syntax[(df_train_syntax.avg_word_length >= 6.2) & (df_train_syntax.syntax == 2.5)].index)\n",
    "df_train_syntax = df_train_syntax.drop(df_train_syntax[(df_train_syntax.avg_word_length <= 4.5) & (df_train_syntax.syntax == 2.0)].index)\n",
    "df_train_syntax = df_train_syntax.drop(df_train_syntax[(df_train_syntax.avg_word_length >= 6.2) & (df_train_syntax.syntax == 2.0)].index)\n",
    "df_train_syntax = df_train_syntax.drop(df_train_syntax[(df_train_syntax.avg_word_length <= 4.6) & (df_train_syntax.syntax == 1.5)].index)\n",
    "df_train_syntax = df_train_syntax.drop(df_train_syntax[(df_train_syntax.avg_word_length >= 5.5) & (df_train_syntax.syntax == 1.5)].index)\n",
    "df_train_syntax = df_train_syntax.drop(df_train_syntax[(df_train_syntax.avg_word_length <= 4.5) & (df_train_syntax.syntax == 1.0)].index)\n",
    "df_train_syntax = df_train_syntax.drop(df_train_syntax[(df_train_syntax.avg_word_length >= 5.2) & (df_train_syntax.syntax == 1.0)].index)"
   ]
  },
  {
   "cell_type": "code",
   "execution_count": 22,
   "id": "498b82f3",
   "metadata": {
    "execution": {
     "iopub.execute_input": "2022-11-29T07:29:06.678004Z",
     "iopub.status.busy": "2022-11-29T07:29:06.676739Z",
     "iopub.status.idle": "2022-11-29T07:29:06.826512Z",
     "shell.execute_reply": "2022-11-29T07:29:06.825899Z"
    },
    "papermill": {
     "duration": 0.168604,
     "end_time": "2022-11-29T07:29:06.828231",
     "exception": false,
     "start_time": "2022-11-29T07:29:06.659627",
     "status": "completed"
    },
    "tags": []
   },
   "outputs": [
    {
     "data": {
      "image/png": "[encoded data removed]",
      "text/plain": [
       "<Figure size 432x288 with 1 Axes>"
      ]
     },
     "metadata": {
      "needs_background": "light"
     },
     "output_type": "display_data"
    }
   ],
   "source": [
    "plt.scatter(df_train_syntax['syntax'], df_train_syntax['avg_word_length'])\n",
    "plt.show()"
   ]
  },
  {
   "cell_type": "code",
   "execution_count": 23,
   "id": "f75676d5",
   "metadata": {
    "execution": {
     "iopub.execute_input": "2022-11-29T07:29:06.865390Z",
     "iopub.status.busy": "2022-11-29T07:29:06.864486Z",
     "iopub.status.idle": "2022-11-29T07:29:07.021611Z",
     "shell.execute_reply": "2022-11-29T07:29:07.020655Z"
    },
    "papermill": {
     "duration": 0.178027,
     "end_time": "2022-11-29T07:29:07.023415",
     "exception": false,
     "start_time": "2022-11-29T07:29:06.845388",
     "status": "completed"
    },
    "tags": []
   },
   "outputs": [
    {
     "data": {
      "image/png": "[encoded data removed]",
      "text/plain": [
       "<Figure size 432x288 with 1 Axes>"
      ]
     },
     "metadata": {
      "needs_background": "light"
     },
     "output_type": "display_data"
    }
   ],
   "source": [
    "plt.scatter(df_train_syntax['syntax'], df_train_syntax['avg_article'])\n",
    "plt.show()"
   ]
  },
  {
   "cell_type": "code",
   "execution_count": 24,
   "id": "4e486e3e",
   "metadata": {
    "execution": {
     "iopub.execute_input": "2022-11-29T07:29:07.059169Z",
     "iopub.status.busy": "2022-11-29T07:29:07.058641Z",
     "iopub.status.idle": "2022-11-29T07:29:07.071626Z",
     "shell.execute_reply": "2022-11-29T07:29:07.070979Z"
    },
    "papermill": {
     "duration": 0.032678,
     "end_time": "2022-11-29T07:29:07.073484",
     "exception": false,
     "start_time": "2022-11-29T07:29:07.040806",
     "status": "completed"
    },
    "tags": []
   },
   "outputs": [],
   "source": [
    "df_train_syntax = df_train_syntax.drop(df_train_syntax[(df_train_syntax.avg_article >= 0.1) & (df_train_syntax.syntax == 1.0)].index)\n",
    "df_train_syntax = df_train_syntax.drop(df_train_syntax[(df_train_syntax.avg_article <= 0.012) & (df_train_syntax.syntax == 1.5)].index)\n",
    "df_train_syntax = df_train_syntax.drop(df_train_syntax[(df_train_syntax.avg_article >= 0.12) & (df_train_syntax.syntax == 1.5)].index)\n",
    "df_train_syntax = df_train_syntax.drop(df_train_syntax[(df_train_syntax.avg_article >= 0.17) & (df_train_syntax.syntax == 2.5)].index)\n",
    "df_train_syntax = df_train_syntax.drop(df_train_syntax[(df_train_syntax.avg_article >= 0.15) & (df_train_syntax.syntax == 3.5)].index)"
   ]
  },
  {
   "cell_type": "code",
   "execution_count": 25,
   "id": "589d981c",
   "metadata": {
    "execution": {
     "iopub.execute_input": "2022-11-29T07:29:07.108878Z",
     "iopub.status.busy": "2022-11-29T07:29:07.108068Z",
     "iopub.status.idle": "2022-11-29T07:29:07.259341Z",
     "shell.execute_reply": "2022-11-29T07:29:07.258167Z"
    },
    "papermill": {
     "duration": 0.170725,
     "end_time": "2022-11-29T07:29:07.261085",
     "exception": false,
     "start_time": "2022-11-29T07:29:07.090360",
     "status": "completed"
    },
    "tags": []
   },
   "outputs": [
    {
     "data": {
      "image/png": "[encoded data removed]",
      "text/plain": [
       "<Figure size 432x288 with 1 Axes>"
      ]
     },
     "metadata": {
      "needs_background": "light"
     },
     "output_type": "display_data"
    }
   ],
   "source": [
    "plt.scatter(df_train_syntax['syntax'], df_train_syntax['avg_article'])\n",
    "plt.show()"
   ]
  },
  {
   "cell_type": "code",
   "execution_count": 26,
   "id": "60d02e0a",
   "metadata": {
    "execution": {
     "iopub.execute_input": "2022-11-29T07:29:07.299129Z",
     "iopub.status.busy": "2022-11-29T07:29:07.298602Z",
     "iopub.status.idle": "2022-11-29T07:29:07.317501Z",
     "shell.execute_reply": "2022-11-29T07:29:07.316695Z"
    },
    "papermill": {
     "duration": 0.040728,
     "end_time": "2022-11-29T07:29:07.319637",
     "exception": false,
     "start_time": "2022-11-29T07:29:07.278909",
     "status": "completed"
    },
    "tags": []
   },
   "outputs": [
    {
     "data": {
      "text/html": [
       "<div>\n",
       "<style scoped>\n",
       "    .dataframe tbody tr th:only-of-type {\n",
       "        vertical-align: middle;\n",
       "    }\n",
       "\n",
       "    .dataframe tbody tr th {\n",
       "        vertical-align: top;\n",
       "    }\n",
       "\n",
       "    .dataframe thead th {\n",
       "        text-align: right;\n",
       "    }\n",
       "</style>\n",
       "<table border=\"1\" class=\"dataframe\">\n",
       "  <thead>\n",
       "    <tr style=\"text-align: right;\">\n",
       "      <th></th>\n",
       "      <th>text_id</th>\n",
       "      <th>full_text</th>\n",
       "      <th>cohesion</th>\n",
       "      <th>syntax</th>\n",
       "      <th>vocabulary</th>\n",
       "      <th>phraseology</th>\n",
       "      <th>grammar</th>\n",
       "      <th>conventions</th>\n",
       "      <th>avg_word_length</th>\n",
       "      <th>avg_article</th>\n",
       "    </tr>\n",
       "  </thead>\n",
       "  <tbody>\n",
       "    <tr>\n",
       "      <th>0</th>\n",
       "      <td>0016926B079C</td>\n",
       "      <td>I think that students would benefit from learn...</td>\n",
       "      <td>3.5</td>\n",
       "      <td>3.5</td>\n",
       "      <td>3.0</td>\n",
       "      <td>3.0</td>\n",
       "      <td>4.0</td>\n",
       "      <td>3.0</td>\n",
       "      <td>5.252874</td>\n",
       "      <td>0.038314</td>\n",
       "    </tr>\n",
       "    <tr>\n",
       "      <th>1</th>\n",
       "      <td>0022683E9EA5</td>\n",
       "      <td>When a problem is a change you have to let it ...</td>\n",
       "      <td>2.5</td>\n",
       "      <td>2.5</td>\n",
       "      <td>3.0</td>\n",
       "      <td>2.0</td>\n",
       "      <td>2.0</td>\n",
       "      <td>2.5</td>\n",
       "      <td>4.943609</td>\n",
       "      <td>0.054511</td>\n",
       "    </tr>\n",
       "    <tr>\n",
       "      <th>2</th>\n",
       "      <td>00299B378633</td>\n",
       "      <td>Dear, Principal If u change the school policy ...</td>\n",
       "      <td>3.0</td>\n",
       "      <td>3.5</td>\n",
       "      <td>3.0</td>\n",
       "      <td>3.0</td>\n",
       "      <td>3.0</td>\n",
       "      <td>2.5</td>\n",
       "      <td>5.210031</td>\n",
       "      <td>0.056426</td>\n",
       "    </tr>\n",
       "    <tr>\n",
       "      <th>3</th>\n",
       "      <td>003885A45F42</td>\n",
       "      <td>The best time in life is when you become yours...</td>\n",
       "      <td>4.5</td>\n",
       "      <td>4.5</td>\n",
       "      <td>4.5</td>\n",
       "      <td>4.5</td>\n",
       "      <td>4.0</td>\n",
       "      <td>5.0</td>\n",
       "      <td>5.447802</td>\n",
       "      <td>0.034341</td>\n",
       "    </tr>\n",
       "    <tr>\n",
       "      <th>4</th>\n",
       "      <td>0049B1DF5CCC</td>\n",
       "      <td>Small act of kindness can impact in other peop...</td>\n",
       "      <td>2.5</td>\n",
       "      <td>3.0</td>\n",
       "      <td>3.0</td>\n",
       "      <td>3.0</td>\n",
       "      <td>2.5</td>\n",
       "      <td>2.5</td>\n",
       "      <td>5.089744</td>\n",
       "      <td>0.085470</td>\n",
       "    </tr>\n",
       "    <tr>\n",
       "      <th>...</th>\n",
       "      <td>...</td>\n",
       "      <td>...</td>\n",
       "      <td>...</td>\n",
       "      <td>...</td>\n",
       "      <td>...</td>\n",
       "      <td>...</td>\n",
       "      <td>...</td>\n",
       "      <td>...</td>\n",
       "      <td>...</td>\n",
       "      <td>...</td>\n",
       "    </tr>\n",
       "    <tr>\n",
       "      <th>3906</th>\n",
       "      <td>FFD29828A873</td>\n",
       "      <td>I believe using cellphones in class for educat...</td>\n",
       "      <td>2.5</td>\n",
       "      <td>3.0</td>\n",
       "      <td>3.0</td>\n",
       "      <td>3.5</td>\n",
       "      <td>2.5</td>\n",
       "      <td>2.5</td>\n",
       "      <td>5.435754</td>\n",
       "      <td>0.039106</td>\n",
       "    </tr>\n",
       "    <tr>\n",
       "      <th>3907</th>\n",
       "      <td>FFD9A83B0849</td>\n",
       "      <td>Working alone, students do not have to argue w...</td>\n",
       "      <td>4.0</td>\n",
       "      <td>4.0</td>\n",
       "      <td>4.0</td>\n",
       "      <td>4.0</td>\n",
       "      <td>3.5</td>\n",
       "      <td>3.0</td>\n",
       "      <td>5.596983</td>\n",
       "      <td>0.060345</td>\n",
       "    </tr>\n",
       "    <tr>\n",
       "      <th>3908</th>\n",
       "      <td>FFDC4011AC9C</td>\n",
       "      <td>\"A problem is a chance for you to do your best...</td>\n",
       "      <td>2.5</td>\n",
       "      <td>3.0</td>\n",
       "      <td>3.0</td>\n",
       "      <td>3.0</td>\n",
       "      <td>3.5</td>\n",
       "      <td>3.0</td>\n",
       "      <td>5.050584</td>\n",
       "      <td>0.042802</td>\n",
       "    </tr>\n",
       "    <tr>\n",
       "      <th>3909</th>\n",
       "      <td>FFE16D704B16</td>\n",
       "      <td>Many people disagree with Albert Schweitzer's ...</td>\n",
       "      <td>4.0</td>\n",
       "      <td>4.5</td>\n",
       "      <td>4.5</td>\n",
       "      <td>4.0</td>\n",
       "      <td>4.5</td>\n",
       "      <td>4.5</td>\n",
       "      <td>5.547059</td>\n",
       "      <td>0.043137</td>\n",
       "    </tr>\n",
       "    <tr>\n",
       "      <th>3910</th>\n",
       "      <td>FFED00D6E0BD</td>\n",
       "      <td>Do you think that failure is the main thing fo...</td>\n",
       "      <td>3.5</td>\n",
       "      <td>2.5</td>\n",
       "      <td>3.5</td>\n",
       "      <td>3.0</td>\n",
       "      <td>3.0</td>\n",
       "      <td>3.5</td>\n",
       "      <td>5.320251</td>\n",
       "      <td>0.048666</td>\n",
       "    </tr>\n",
       "  </tbody>\n",
       "</table>\n",
       "<p>3878 rows × 10 columns</p>\n",
       "</div>"
      ],
      "text/plain": [
       "           text_id                                          full_text  \\\n",
       "0     0016926B079C  I think that students would benefit from learn...   \n",
       "1     0022683E9EA5  When a problem is a change you have to let it ...   \n",
       "2     00299B378633  Dear, Principal If u change the school policy ...   \n",
       "3     003885A45F42  The best time in life is when you become yours...   \n",
       "4     0049B1DF5CCC  Small act of kindness can impact in other peop...   \n",
       "...            ...                                                ...   \n",
       "3906  FFD29828A873  I believe using cellphones in class for educat...   \n",
       "3907  FFD9A83B0849  Working alone, students do not have to argue w...   \n",
       "3908  FFDC4011AC9C  \"A problem is a chance for you to do your best...   \n",
       "3909  FFE16D704B16  Many people disagree with Albert Schweitzer's ...   \n",
       "3910  FFED00D6E0BD  Do you think that failure is the main thing fo...   \n",
       "\n",
       "      cohesion  syntax  vocabulary  phraseology  grammar  conventions  \\\n",
       "0          3.5     3.5         3.0          3.0      4.0          3.0   \n",
       "1          2.5     2.5         3.0          2.0      2.0          2.5   \n",
       "2          3.0     3.5         3.0          3.0      3.0          2.5   \n",
       "3          4.5     4.5         4.5          4.5      4.0          5.0   \n",
       "4          2.5     3.0         3.0          3.0      2.5          2.5   \n",
       "...        ...     ...         ...          ...      ...          ...   \n",
       "3906       2.5     3.0         3.0          3.5      2.5          2.5   \n",
       "3907       4.0     4.0         4.0          4.0      3.5          3.0   \n",
       "3908       2.5     3.0         3.0          3.0      3.5          3.0   \n",
       "3909       4.0     4.5         4.5          4.0      4.5          4.5   \n",
       "3910       3.5     2.5         3.5          3.0      3.0          3.5   \n",
       "\n",
       "      avg_word_length  avg_article  \n",
       "0            5.252874     0.038314  \n",
       "1            4.943609     0.054511  \n",
       "2            5.210031     0.056426  \n",
       "3            5.447802     0.034341  \n",
       "4            5.089744     0.085470  \n",
       "...               ...          ...  \n",
       "3906         5.435754     0.039106  \n",
       "3907         5.596983     0.060345  \n",
       "3908         5.050584     0.042802  \n",
       "3909         5.547059     0.043137  \n",
       "3910         5.320251     0.048666  \n",
       "\n",
       "[3878 rows x 10 columns]"
      ]
     },
     "execution_count": 26,
     "metadata": {},
     "output_type": "execute_result"
    }
   ],
   "source": [
    "df_train_syntax"
   ]
  },
  {
   "cell_type": "code",
   "execution_count": 27,
   "id": "5da8c856",
   "metadata": {
    "execution": {
     "iopub.execute_input": "2022-11-29T07:29:07.356379Z",
     "iopub.status.busy": "2022-11-29T07:29:07.355899Z",
     "iopub.status.idle": "2022-11-29T07:29:07.370579Z",
     "shell.execute_reply": "2022-11-29T07:29:07.369887Z"
    },
    "papermill": {
     "duration": 0.035077,
     "end_time": "2022-11-29T07:29:07.372184",
     "exception": false,
     "start_time": "2022-11-29T07:29:07.337107",
     "status": "completed"
    },
    "tags": []
   },
   "outputs": [
    {
     "name": "stdout",
     "output_type": "stream",
     "text": [
      "cohesion\n",
      "-0.002755519329873396\n",
      "0.25480430968169177\n",
      "syntax\n",
      "-0.021506274784119355\n",
      "0.251115909511291\n",
      "vocabulary\n",
      "-0.009234240682587668\n",
      "0.25308625366371007\n",
      "phraseology\n",
      "-0.04929393190724378\n",
      "0.1898887657793914\n",
      "grammar\n",
      "-0.05116955476490018\n",
      "0.1842336495395668\n",
      "conventions\n",
      "-0.011908760749145608\n",
      "0.2607739146360167\n"
     ]
    }
   ],
   "source": [
    "for column in df_train_res:\n",
    "    print(column)\n",
    "    print(df_train[['avg_article', column]].corr().values[0][1])\n",
    "    print(df_train[['avg_word_length', column]].corr().values[0][1])"
   ]
  },
  {
   "cell_type": "code",
   "execution_count": 28,
   "id": "33f38d1a",
   "metadata": {
    "execution": {
     "iopub.execute_input": "2022-11-29T07:29:07.408350Z",
     "iopub.status.busy": "2022-11-29T07:29:07.408050Z",
     "iopub.status.idle": "2022-11-29T07:29:07.529572Z",
     "shell.execute_reply": "2022-11-29T07:29:07.528713Z"
    },
    "papermill": {
     "duration": 0.142073,
     "end_time": "2022-11-29T07:29:07.531823",
     "exception": false,
     "start_time": "2022-11-29T07:29:07.389750",
     "status": "completed"
    },
    "tags": []
   },
   "outputs": [],
   "source": [
    "df_train_syntax[['full_text', 'syntax']].to_csv('syntax.csv', index=None)"
   ]
  },
  {
   "cell_type": "code",
   "execution_count": 29,
   "id": "801e0178",
   "metadata": {
    "execution": {
     "iopub.execute_input": "2022-11-29T07:29:07.568580Z",
     "iopub.status.busy": "2022-11-29T07:29:07.568109Z",
     "iopub.status.idle": "2022-11-29T07:29:07.572345Z",
     "shell.execute_reply": "2022-11-29T07:29:07.571644Z"
    },
    "papermill": {
     "duration": 0.024303,
     "end_time": "2022-11-29T07:29:07.573918",
     "exception": false,
     "start_time": "2022-11-29T07:29:07.549615",
     "status": "completed"
    },
    "tags": []
   },
   "outputs": [],
   "source": [
    "df_train_cohesion = df_train.copy(deep=True)"
   ]
  },
  {
   "cell_type": "code",
   "execution_count": 30,
   "id": "2d1790cb",
   "metadata": {
    "execution": {
     "iopub.execute_input": "2022-11-29T07:29:07.612986Z",
     "iopub.status.busy": "2022-11-29T07:29:07.611817Z",
     "iopub.status.idle": "2022-11-29T07:29:07.891044Z",
     "shell.execute_reply": "2022-11-29T07:29:07.890064Z"
    },
    "papermill": {
     "duration": 0.300052,
     "end_time": "2022-11-29T07:29:07.892848",
     "exception": false,
     "start_time": "2022-11-29T07:29:07.592796",
     "status": "completed"
    },
    "tags": []
   },
   "outputs": [
    {
     "data": {
      "image/png": "[encoded data removed]",
      "text/plain": [
       "<Figure size 432x288 with 1 Axes>"
      ]
     },
     "metadata": {
      "needs_background": "light"
     },
     "output_type": "display_data"
    }
   ],
   "source": [
    "plt.scatter(df_train_cohesion['cohesion'], df_train_cohesion['avg_word_length'])\n",
    "plt.show()"
   ]
  },
  {
   "cell_type": "code",
   "execution_count": 31,
   "id": "998f256d",
   "metadata": {
    "execution": {
     "iopub.execute_input": "2022-11-29T07:29:07.932511Z",
     "iopub.status.busy": "2022-11-29T07:29:07.931995Z",
     "iopub.status.idle": "2022-11-29T07:29:07.943187Z",
     "shell.execute_reply": "2022-11-29T07:29:07.942554Z"
    },
    "papermill": {
     "duration": 0.033976,
     "end_time": "2022-11-29T07:29:07.945055",
     "exception": false,
     "start_time": "2022-11-29T07:29:07.911079",
     "status": "completed"
    },
    "tags": []
   },
   "outputs": [],
   "source": [
    "df_train_cohesion = df_train_cohesion.drop(df_train_cohesion[(df_train_cohesion.avg_word_length >= 6.5) & (df_train_cohesion.cohesion == 5.0)].index)\n",
    "df_train_cohesion = df_train_cohesion.drop(df_train_cohesion[(df_train_cohesion.avg_word_length <= 4.8) & (df_train_cohesion.cohesion == 5.0)].index)\n",
    "df_train_cohesion = df_train_cohesion.drop(df_train_cohesion[(df_train_cohesion.avg_word_length >= 5.5) & (df_train_cohesion.cohesion == 1.0)].index)\n",
    "df_train_cohesion = df_train_cohesion.drop(df_train_cohesion[(df_train_cohesion.avg_word_length <= 4.5) & (df_train_cohesion.cohesion == 1.0)].index)"
   ]
  },
  {
   "cell_type": "code",
   "execution_count": 32,
   "id": "06cb5787",
   "metadata": {
    "execution": {
     "iopub.execute_input": "2022-11-29T07:29:07.985389Z",
     "iopub.status.busy": "2022-11-29T07:29:07.985041Z",
     "iopub.status.idle": "2022-11-29T07:29:08.129673Z",
     "shell.execute_reply": "2022-11-29T07:29:08.128648Z"
    },
    "papermill": {
     "duration": 0.167638,
     "end_time": "2022-11-29T07:29:08.131990",
     "exception": false,
     "start_time": "2022-11-29T07:29:07.964352",
     "status": "completed"
    },
    "tags": []
   },
   "outputs": [
    {
     "data": {
      "image/png": "[encoded data removed]",
      "text/plain": [
       "<Figure size 432x288 with 1 Axes>"
      ]
     },
     "metadata": {
      "needs_background": "light"
     },
     "output_type": "display_data"
    }
   ],
   "source": [
    "plt.scatter(df_train_cohesion['cohesion'], df_train_cohesion['avg_word_length'])\n",
    "plt.show()"
   ]
  },
  {
   "cell_type": "code",
   "execution_count": 33,
   "id": "87a57b9a",
   "metadata": {
    "execution": {
     "iopub.execute_input": "2022-11-29T07:29:08.172011Z",
     "iopub.status.busy": "2022-11-29T07:29:08.170866Z",
     "iopub.status.idle": "2022-11-29T07:29:08.323169Z",
     "shell.execute_reply": "2022-11-29T07:29:08.322505Z"
    },
    "papermill": {
     "duration": 0.173908,
     "end_time": "2022-11-29T07:29:08.325030",
     "exception": false,
     "start_time": "2022-11-29T07:29:08.151122",
     "status": "completed"
    },
    "tags": []
   },
   "outputs": [
    {
     "data": {
      "image/png": "[encoded data removed]",
      "text/plain": [
       "<Figure size 432x288 with 1 Axes>"
      ]
     },
     "metadata": {
      "needs_background": "light"
     },
     "output_type": "display_data"
    }
   ],
   "source": [
    "plt.scatter(df_train_cohesion['cohesion'], df_train_cohesion['avg_article'])\n",
    "plt.show()"
   ]
  },
  {
   "cell_type": "code",
   "execution_count": 34,
   "id": "57a1a3fa",
   "metadata": {
    "execution": {
     "iopub.execute_input": "2022-11-29T07:29:08.364508Z",
     "iopub.status.busy": "2022-11-29T07:29:08.363491Z",
     "iopub.status.idle": "2022-11-29T07:29:08.379462Z",
     "shell.execute_reply": "2022-11-29T07:29:08.378498Z"
    },
    "papermill": {
     "duration": 0.03775,
     "end_time": "2022-11-29T07:29:08.381351",
     "exception": false,
     "start_time": "2022-11-29T07:29:08.343601",
     "status": "completed"
    },
    "tags": []
   },
   "outputs": [
    {
     "data": {
      "text/html": [
       "<div>\n",
       "<style scoped>\n",
       "    .dataframe tbody tr th:only-of-type {\n",
       "        vertical-align: middle;\n",
       "    }\n",
       "\n",
       "    .dataframe tbody tr th {\n",
       "        vertical-align: top;\n",
       "    }\n",
       "\n",
       "    .dataframe thead th {\n",
       "        text-align: right;\n",
       "    }\n",
       "</style>\n",
       "<table border=\"1\" class=\"dataframe\">\n",
       "  <thead>\n",
       "    <tr style=\"text-align: right;\">\n",
       "      <th></th>\n",
       "      <th>text_id</th>\n",
       "      <th>full_text</th>\n",
       "      <th>cohesion</th>\n",
       "      <th>syntax</th>\n",
       "      <th>vocabulary</th>\n",
       "      <th>phraseology</th>\n",
       "      <th>grammar</th>\n",
       "      <th>conventions</th>\n",
       "      <th>avg_word_length</th>\n",
       "      <th>avg_article</th>\n",
       "    </tr>\n",
       "  </thead>\n",
       "  <tbody>\n",
       "    <tr>\n",
       "      <th>1327</th>\n",
       "      <td>65B7FDE783F2</td>\n",
       "      <td>I am student for Generic_School,I have work af...</td>\n",
       "      <td>1.5</td>\n",
       "      <td>2.0</td>\n",
       "      <td>1.5</td>\n",
       "      <td>1.0</td>\n",
       "      <td>1.5</td>\n",
       "      <td>2.0</td>\n",
       "      <td>5.115942</td>\n",
       "      <td>0.004141</td>\n",
       "    </tr>\n",
       "    <tr>\n",
       "      <th>3257</th>\n",
       "      <td>E2E3D86A8CF8</td>\n",
       "      <td>based on you experience , do you agree or disa...</td>\n",
       "      <td>1.5</td>\n",
       "      <td>1.5</td>\n",
       "      <td>2.0</td>\n",
       "      <td>2.0</td>\n",
       "      <td>1.5</td>\n",
       "      <td>1.5</td>\n",
       "      <td>5.310056</td>\n",
       "      <td>0.000000</td>\n",
       "    </tr>\n",
       "  </tbody>\n",
       "</table>\n",
       "</div>"
      ],
      "text/plain": [
       "           text_id                                          full_text  \\\n",
       "1327  65B7FDE783F2  I am student for Generic_School,I have work af...   \n",
       "3257  E2E3D86A8CF8  based on you experience , do you agree or disa...   \n",
       "\n",
       "      cohesion  syntax  vocabulary  phraseology  grammar  conventions  \\\n",
       "1327       1.5     2.0         1.5          1.0      1.5          2.0   \n",
       "3257       1.5     1.5         2.0          2.0      1.5          1.5   \n",
       "\n",
       "      avg_word_length  avg_article  \n",
       "1327         5.115942     0.004141  \n",
       "3257         5.310056     0.000000  "
      ]
     },
     "execution_count": 34,
     "metadata": {},
     "output_type": "execute_result"
    }
   ],
   "source": [
    "df_train_cohesion[(df_train_cohesion.avg_article <= 0.015) & (df_train_cohesion.cohesion == 1.5)]"
   ]
  },
  {
   "cell_type": "code",
   "execution_count": 35,
   "id": "f640600a",
   "metadata": {
    "execution": {
     "iopub.execute_input": "2022-11-29T07:29:08.421614Z",
     "iopub.status.busy": "2022-11-29T07:29:08.421229Z",
     "iopub.status.idle": "2022-11-29T07:29:08.435980Z",
     "shell.execute_reply": "2022-11-29T07:29:08.434782Z"
    },
    "papermill": {
     "duration": 0.037633,
     "end_time": "2022-11-29T07:29:08.438192",
     "exception": false,
     "start_time": "2022-11-29T07:29:08.400559",
     "status": "completed"
    },
    "tags": []
   },
   "outputs": [],
   "source": [
    "df_train_cohesion = df_train_cohesion.drop(df_train_cohesion[(df_train_cohesion.avg_article >= 0.15) & (df_train_cohesion.cohesion == 1.0)].index)\n",
    "df_train_cohesion = df_train_cohesion.drop(df_train_cohesion[(df_train_cohesion.avg_article <= 0.015) & (df_train_cohesion.cohesion == 1.5)].index)\n",
    "df_train_cohesion = df_train_cohesion.drop(df_train_cohesion[(df_train_cohesion.avg_article >= 0.125) & (df_train_cohesion.cohesion == 1.5)].index)\n",
    "df_train_cohesion = df_train_cohesion.drop(df_train_cohesion[(df_train_cohesion.avg_article >= 0.175) & (df_train_cohesion.cohesion == 2.5)].index)\n",
    "df_train_cohesion = df_train_cohesion.drop(df_train_cohesion[(df_train_cohesion.avg_article >= 0.11) & (df_train_cohesion.cohesion == 4.5)].index)"
   ]
  },
  {
   "cell_type": "code",
   "execution_count": 36,
   "id": "8a36b6f0",
   "metadata": {
    "execution": {
     "iopub.execute_input": "2022-11-29T07:29:08.479438Z",
     "iopub.status.busy": "2022-11-29T07:29:08.479076Z",
     "iopub.status.idle": "2022-11-29T07:29:08.632045Z",
     "shell.execute_reply": "2022-11-29T07:29:08.631160Z"
    },
    "papermill": {
     "duration": 0.177198,
     "end_time": "2022-11-29T07:29:08.635548",
     "exception": false,
     "start_time": "2022-11-29T07:29:08.458350",
     "status": "completed"
    },
    "tags": []
   },
   "outputs": [
    {
     "data": {
      "image/png": "[encoded data removed]",
      "text/plain": [
       "<Figure size 432x288 with 1 Axes>"
      ]
     },
     "metadata": {
      "needs_background": "light"
     },
     "output_type": "display_data"
    }
   ],
   "source": [
    "plt.scatter(df_train_cohesion['cohesion'], df_train_cohesion['avg_article'])\n",
    "plt.show()"
   ]
  },
  {
   "cell_type": "code",
   "execution_count": 37,
   "id": "834d78a8",
   "metadata": {
    "execution": {
     "iopub.execute_input": "2022-11-29T07:29:08.677121Z",
     "iopub.status.busy": "2022-11-29T07:29:08.676223Z",
     "iopub.status.idle": "2022-11-29T07:29:08.797238Z",
     "shell.execute_reply": "2022-11-29T07:29:08.796462Z"
    },
    "papermill": {
     "duration": 0.14394,
     "end_time": "2022-11-29T07:29:08.799417",
     "exception": false,
     "start_time": "2022-11-29T07:29:08.655477",
     "status": "completed"
    },
    "tags": []
   },
   "outputs": [],
   "source": [
    "df_train_cohesion[['full_text', 'cohesion']].to_csv('cohesion.csv', index=None)"
   ]
  },
  {
   "cell_type": "code",
   "execution_count": 38,
   "id": "f344fecc",
   "metadata": {
    "execution": {
     "iopub.execute_input": "2022-11-29T07:29:08.841113Z",
     "iopub.status.busy": "2022-11-29T07:29:08.839885Z",
     "iopub.status.idle": "2022-11-29T07:29:08.845956Z",
     "shell.execute_reply": "2022-11-29T07:29:08.844648Z"
    },
    "papermill": {
     "duration": 0.029014,
     "end_time": "2022-11-29T07:29:08.848350",
     "exception": false,
     "start_time": "2022-11-29T07:29:08.819336",
     "status": "completed"
    },
    "tags": []
   },
   "outputs": [],
   "source": [
    "df_train_vocabulary = df_train.copy(deep=True)"
   ]
  },
  {
   "cell_type": "code",
   "execution_count": 39,
   "id": "6d36a90a",
   "metadata": {
    "execution": {
     "iopub.execute_input": "2022-11-29T07:29:08.888375Z",
     "iopub.status.busy": "2022-11-29T07:29:08.888038Z",
     "iopub.status.idle": "2022-11-29T07:29:09.034742Z",
     "shell.execute_reply": "2022-11-29T07:29:09.033579Z"
    },
    "papermill": {
     "duration": 0.169561,
     "end_time": "2022-11-29T07:29:09.037231",
     "exception": false,
     "start_time": "2022-11-29T07:29:08.867670",
     "status": "completed"
    },
    "tags": []
   },
   "outputs": [
    {
     "data": {
      "image/png": "[encoded data removed]",
      "text/plain": [
       "<Figure size 432x288 with 1 Axes>"
      ]
     },
     "metadata": {
      "needs_background": "light"
     },
     "output_type": "display_data"
    }
   ],
   "source": [
    "plt.scatter(df_train_vocabulary['vocabulary'], df_train_vocabulary['avg_word_length'])\n",
    "plt.show()"
   ]
  },
  {
   "cell_type": "code",
   "execution_count": 40,
   "id": "056acc53",
   "metadata": {
    "execution": {
     "iopub.execute_input": "2022-11-29T07:29:09.078204Z",
     "iopub.status.busy": "2022-11-29T07:29:09.077850Z",
     "iopub.status.idle": "2022-11-29T07:29:09.103143Z",
     "shell.execute_reply": "2022-11-29T07:29:09.102260Z"
    },
    "papermill": {
     "duration": 0.048047,
     "end_time": "2022-11-29T07:29:09.105306",
     "exception": false,
     "start_time": "2022-11-29T07:29:09.057259",
     "status": "completed"
    },
    "tags": []
   },
   "outputs": [],
   "source": [
    "df_train_vocabulary = df_train_vocabulary.drop(df_train_vocabulary[(df_train_vocabulary.avg_word_length >= 6.0) & (df_train_vocabulary.vocabulary == 1.0)].index)\n",
    "df_train_vocabulary = df_train_vocabulary.drop(df_train_vocabulary[(df_train_vocabulary.avg_word_length >= 6.5) & (df_train_vocabulary.vocabulary == 5.0)].index)\n",
    "df_train_vocabulary = df_train_vocabulary.drop(df_train_vocabulary[(df_train_vocabulary.avg_word_length <= 5.0) & (df_train_vocabulary.vocabulary == 5.0)].index)\n",
    "df_train_vocabulary = df_train_vocabulary.drop(df_train_vocabulary[(df_train_vocabulary.avg_word_length >= 6.5) & (df_train_vocabulary.vocabulary == 2.0)].index)\n",
    "df_train_vocabulary = df_train_vocabulary.drop(df_train_vocabulary[(df_train_vocabulary.avg_word_length <= 4.4) & (df_train_vocabulary.vocabulary == 2.0)].index)\n",
    "df_train_vocabulary = df_train_vocabulary.drop(df_train_vocabulary[(df_train_vocabulary.avg_word_length >= 6.2) & (df_train_vocabulary.vocabulary == 4.5)].index)\n",
    "df_train_vocabulary = df_train_vocabulary.drop(df_train_vocabulary[(df_train_vocabulary.avg_word_length <= 5.0) & (df_train_vocabulary.vocabulary == 4.5)].index)\n",
    "df_train_vocabulary = df_train_vocabulary.drop(df_train_vocabulary[(df_train_vocabulary.avg_word_length >= 5.3) & (df_train_vocabulary.vocabulary == 1.5)].index)\n",
    "df_train_vocabulary = df_train_vocabulary.drop(df_train_vocabulary[(df_train_vocabulary.avg_word_length <= 4.8) & (df_train_vocabulary.vocabulary == 1.5)].index)\n",
    "df_train_vocabulary = df_train_vocabulary.drop(df_train_vocabulary[(df_train_vocabulary.avg_word_length >= 6.4) & (df_train_vocabulary.vocabulary == 3.0)].index)"
   ]
  },
  {
   "cell_type": "code",
   "execution_count": 41,
   "id": "6e39a384",
   "metadata": {
    "execution": {
     "iopub.execute_input": "2022-11-29T07:29:09.144797Z",
     "iopub.status.busy": "2022-11-29T07:29:09.144199Z",
     "iopub.status.idle": "2022-11-29T07:29:09.154204Z",
     "shell.execute_reply": "2022-11-29T07:29:09.153565Z"
    },
    "papermill": {
     "duration": 0.03161,
     "end_time": "2022-11-29T07:29:09.155898",
     "exception": false,
     "start_time": "2022-11-29T07:29:09.124288",
     "status": "completed"
    },
    "tags": []
   },
   "outputs": [
    {
     "data": {
      "text/html": [
       "<div>\n",
       "<style scoped>\n",
       "    .dataframe tbody tr th:only-of-type {\n",
       "        vertical-align: middle;\n",
       "    }\n",
       "\n",
       "    .dataframe tbody tr th {\n",
       "        vertical-align: top;\n",
       "    }\n",
       "\n",
       "    .dataframe thead th {\n",
       "        text-align: right;\n",
       "    }\n",
       "</style>\n",
       "<table border=\"1\" class=\"dataframe\">\n",
       "  <thead>\n",
       "    <tr style=\"text-align: right;\">\n",
       "      <th></th>\n",
       "      <th>text_id</th>\n",
       "      <th>full_text</th>\n",
       "      <th>cohesion</th>\n",
       "      <th>syntax</th>\n",
       "      <th>vocabulary</th>\n",
       "      <th>phraseology</th>\n",
       "      <th>grammar</th>\n",
       "      <th>conventions</th>\n",
       "      <th>avg_word_length</th>\n",
       "      <th>avg_article</th>\n",
       "    </tr>\n",
       "  </thead>\n",
       "  <tbody>\n",
       "  </tbody>\n",
       "</table>\n",
       "</div>"
      ],
      "text/plain": [
       "Empty DataFrame\n",
       "Columns: [text_id, full_text, cohesion, syntax, vocabulary, phraseology, grammar, conventions, avg_word_length, avg_article]\n",
       "Index: []"
      ]
     },
     "execution_count": 41,
     "metadata": {},
     "output_type": "execute_result"
    }
   ],
   "source": [
    "df_train_vocabulary[(df_train_vocabulary.avg_word_length >= 6.4) & (df_train_vocabulary.vocabulary == 4.5)]"
   ]
  },
  {
   "cell_type": "code",
   "execution_count": 42,
   "id": "6266df12",
   "metadata": {
    "execution": {
     "iopub.execute_input": "2022-11-29T07:29:09.195580Z",
     "iopub.status.busy": "2022-11-29T07:29:09.195230Z",
     "iopub.status.idle": "2022-11-29T07:29:09.341735Z",
     "shell.execute_reply": "2022-11-29T07:29:09.340762Z"
    },
    "papermill": {
     "duration": 0.168451,
     "end_time": "2022-11-29T07:29:09.343478",
     "exception": false,
     "start_time": "2022-11-29T07:29:09.175027",
     "status": "completed"
    },
    "tags": []
   },
   "outputs": [
    {
     "data": {
      "image/png": "[encoded data removed]",
      "text/plain": [
       "<Figure size 432x288 with 1 Axes>"
      ]
     },
     "metadata": {
      "needs_background": "light"
     },
     "output_type": "display_data"
    }
   ],
   "source": [
    "plt.scatter(df_train_vocabulary['vocabulary'], df_train_vocabulary['avg_word_length'])\n",
    "plt.show()"
   ]
  },
  {
   "cell_type": "code",
   "execution_count": 43,
   "id": "f0dcb2da",
   "metadata": {
    "execution": {
     "iopub.execute_input": "2022-11-29T07:29:09.383070Z",
     "iopub.status.busy": "2022-11-29T07:29:09.382752Z",
     "iopub.status.idle": "2022-11-29T07:29:09.539576Z",
     "shell.execute_reply": "2022-11-29T07:29:09.538311Z"
    },
    "papermill": {
     "duration": 0.178759,
     "end_time": "2022-11-29T07:29:09.541654",
     "exception": false,
     "start_time": "2022-11-29T07:29:09.362895",
     "status": "completed"
    },
    "tags": []
   },
   "outputs": [
    {
     "data": {
      "image/png": "[encoded data removed]",
      "text/plain": [
       "<Figure size 432x288 with 1 Axes>"
      ]
     },
     "metadata": {
      "needs_background": "light"
     },
     "output_type": "display_data"
    }
   ],
   "source": [
    "plt.scatter(df_train_vocabulary['vocabulary'], df_train_vocabulary['avg_article'])\n",
    "plt.show()"
   ]
  },
  {
   "cell_type": "code",
   "execution_count": 44,
   "id": "b0c3c31d",
   "metadata": {
    "execution": {
     "iopub.execute_input": "2022-11-29T07:29:09.583552Z",
     "iopub.status.busy": "2022-11-29T07:29:09.583161Z",
     "iopub.status.idle": "2022-11-29T07:29:09.599760Z",
     "shell.execute_reply": "2022-11-29T07:29:09.598807Z"
    },
    "papermill": {
     "duration": 0.040299,
     "end_time": "2022-11-29T07:29:09.602084",
     "exception": false,
     "start_time": "2022-11-29T07:29:09.561785",
     "status": "completed"
    },
    "tags": []
   },
   "outputs": [],
   "source": [
    "df_train_vocabulary = df_train_vocabulary.drop(df_train_vocabulary[(df_train_vocabulary.avg_article >= 0.15) & (df_train_vocabulary.vocabulary == 1.0)].index)\n",
    "df_train_vocabulary = df_train_vocabulary.drop(df_train_vocabulary[(df_train_vocabulary.avg_article >= 0.17) & (df_train_vocabulary.vocabulary == 2.5)].index)\n",
    "df_train_vocabulary = df_train_vocabulary.drop(df_train_vocabulary[(df_train_vocabulary.avg_article >= 0.135) & (df_train_vocabulary.vocabulary == 3.5)].index)\n",
    "df_train_vocabulary = df_train_vocabulary.drop(df_train_vocabulary[(df_train_vocabulary.avg_article >= 0.13) & (df_train_vocabulary.vocabulary == 4.0)].index)\n",
    "df_train_vocabulary = df_train_vocabulary.drop(df_train_vocabulary[(df_train_vocabulary.avg_article >= 0.105) & (df_train_vocabulary.vocabulary == 4.5)].index)\n",
    "df_train_vocabulary = df_train_vocabulary.drop(df_train_vocabulary[(df_train_vocabulary.avg_article >= 0.1) & (df_train_vocabulary.vocabulary == 5.0)].index)"
   ]
  },
  {
   "cell_type": "code",
   "execution_count": 45,
   "id": "2123e69e",
   "metadata": {
    "execution": {
     "iopub.execute_input": "2022-11-29T07:29:09.644190Z",
     "iopub.status.busy": "2022-11-29T07:29:09.643270Z",
     "iopub.status.idle": "2022-11-29T07:29:09.787864Z",
     "shell.execute_reply": "2022-11-29T07:29:09.786928Z"
    },
    "papermill": {
     "duration": 0.167586,
     "end_time": "2022-11-29T07:29:09.789841",
     "exception": false,
     "start_time": "2022-11-29T07:29:09.622255",
     "status": "completed"
    },
    "tags": []
   },
   "outputs": [
    {
     "data": {
      "image/png": "[encoded data removed]",
      "text/plain": [
       "<Figure size 432x288 with 1 Axes>"
      ]
     },
     "metadata": {
      "needs_background": "light"
     },
     "output_type": "display_data"
    }
   ],
   "source": [
    "plt.scatter(df_train_vocabulary['vocabulary'], df_train_vocabulary['avg_article'])\n",
    "plt.show()"
   ]
  },
  {
   "cell_type": "code",
   "execution_count": 46,
   "id": "958e35ab",
   "metadata": {
    "execution": {
     "iopub.execute_input": "2022-11-29T07:29:09.831649Z",
     "iopub.status.busy": "2022-11-29T07:29:09.831278Z",
     "iopub.status.idle": "2022-11-29T07:29:09.952009Z",
     "shell.execute_reply": "2022-11-29T07:29:09.950533Z"
    },
    "papermill": {
     "duration": 0.144198,
     "end_time": "2022-11-29T07:29:09.954508",
     "exception": false,
     "start_time": "2022-11-29T07:29:09.810310",
     "status": "completed"
    },
    "tags": []
   },
   "outputs": [],
   "source": [
    "df_train_vocabulary[['full_text', 'vocabulary']].to_csv('vocabulary.csv', index=None)"
   ]
  },
  {
   "cell_type": "code",
   "execution_count": 47,
   "id": "3e557379",
   "metadata": {
    "execution": {
     "iopub.execute_input": "2022-11-29T07:29:09.995643Z",
     "iopub.status.busy": "2022-11-29T07:29:09.995298Z",
     "iopub.status.idle": "2022-11-29T07:29:09.999920Z",
     "shell.execute_reply": "2022-11-29T07:29:09.998932Z"
    },
    "papermill": {
     "duration": 0.027469,
     "end_time": "2022-11-29T07:29:10.001944",
     "exception": false,
     "start_time": "2022-11-29T07:29:09.974475",
     "status": "completed"
    },
    "tags": []
   },
   "outputs": [],
   "source": [
    "df_train_phraseology = df_train.copy(deep=True)"
   ]
  },
  {
   "cell_type": "code",
   "execution_count": 48,
   "id": "033fc674",
   "metadata": {
    "execution": {
     "iopub.execute_input": "2022-11-29T07:29:10.043783Z",
     "iopub.status.busy": "2022-11-29T07:29:10.042935Z",
     "iopub.status.idle": "2022-11-29T07:29:10.175539Z",
     "shell.execute_reply": "2022-11-29T07:29:10.174788Z"
    },
    "papermill": {
     "duration": 0.155242,
     "end_time": "2022-11-29T07:29:10.177604",
     "exception": false,
     "start_time": "2022-11-29T07:29:10.022362",
     "status": "completed"
    },
    "tags": []
   },
   "outputs": [
    {
     "data": {
      "image/png": "[encoded data removed]",
      "text/plain": [
       "<Figure size 432x288 with 1 Axes>"
      ]
     },
     "metadata": {
      "needs_background": "light"
     },
     "output_type": "display_data"
    }
   ],
   "source": [
    "plt.scatter(df_train_phraseology['phraseology'], df_train_phraseology['avg_word_length'])\n",
    "plt.show()"
   ]
  },
  {
   "cell_type": "code",
   "execution_count": 49,
   "id": "317b6212",
   "metadata": {
    "execution": {
     "iopub.execute_input": "2022-11-29T07:29:10.222198Z",
     "iopub.status.busy": "2022-11-29T07:29:10.221099Z",
     "iopub.status.idle": "2022-11-29T07:29:10.248372Z",
     "shell.execute_reply": "2022-11-29T07:29:10.247667Z"
    },
    "papermill": {
     "duration": 0.05167,
     "end_time": "2022-11-29T07:29:10.250386",
     "exception": false,
     "start_time": "2022-11-29T07:29:10.198716",
     "status": "completed"
    },
    "tags": []
   },
   "outputs": [],
   "source": [
    "df_train_phraseology = df_train_phraseology.drop(df_train_phraseology[(df_train_phraseology.avg_word_length >= 5.5) & (df_train_phraseology.phraseology == 1.0)].index)\n",
    "df_train_phraseology = df_train_phraseology.drop(df_train_phraseology[(df_train_phraseology.avg_word_length <= 5.0) & (df_train_phraseology.phraseology == 1.0)].index)\n",
    "df_train_phraseology = df_train_phraseology.drop(df_train_phraseology[(df_train_phraseology.avg_word_length >= 5.5) & (df_train_phraseology.phraseology == 1.5)].index)\n",
    "df_train_phraseology = df_train_phraseology.drop(df_train_phraseology[(df_train_phraseology.avg_word_length <= 4.5) & (df_train_phraseology.phraseology == 1.5)].index)\n",
    "df_train_phraseology = df_train_phraseology.drop(df_train_phraseology[(df_train_phraseology.avg_word_length >= 6.3) & (df_train_phraseology.phraseology == 2.0)].index)\n",
    "df_train_phraseology = df_train_phraseology.drop(df_train_phraseology[(df_train_phraseology.avg_word_length <= 4.5) & (df_train_phraseology.phraseology == 2.0)].index)\n",
    "df_train_phraseology = df_train_phraseology.drop(df_train_phraseology[(df_train_phraseology.avg_word_length >= 6.3) & (df_train_phraseology.phraseology == 2.5)].index)\n",
    "df_train_phraseology = df_train_phraseology.drop(df_train_phraseology[(df_train_phraseology.avg_word_length <= 4.8) & (df_train_phraseology.phraseology == 4.0)].index)\n",
    "df_train_phraseology = df_train_phraseology.drop(df_train_phraseology[(df_train_phraseology.avg_word_length >= 6.0) & (df_train_phraseology.phraseology == 4.5)].index)\n",
    "df_train_phraseology = df_train_phraseology.drop(df_train_phraseology[(df_train_phraseology.avg_word_length <= 4.8) & (df_train_phraseology.phraseology == 4.5)].index)\n",
    "df_train_phraseology = df_train_phraseology.drop(df_train_phraseology[(df_train_phraseology.avg_word_length >= 6.0) & (df_train_phraseology.phraseology == 5.0)].index)\n",
    "df_train_phraseology = df_train_phraseology.drop(df_train_phraseology[(df_train_phraseology.avg_word_length <= 5.3) & (df_train_phraseology.phraseology == 5.0)].index)"
   ]
  },
  {
   "cell_type": "code",
   "execution_count": 50,
   "id": "1f20acfe",
   "metadata": {
    "execution": {
     "iopub.execute_input": "2022-11-29T07:29:10.292852Z",
     "iopub.status.busy": "2022-11-29T07:29:10.292509Z",
     "iopub.status.idle": "2022-11-29T07:29:10.439010Z",
     "shell.execute_reply": "2022-11-29T07:29:10.438062Z"
    },
    "papermill": {
     "duration": 0.170376,
     "end_time": "2022-11-29T07:29:10.440995",
     "exception": false,
     "start_time": "2022-11-29T07:29:10.270619",
     "status": "completed"
    },
    "tags": []
   },
   "outputs": [
    {
     "data": {
      "image/png": "[encoded data removed]",
      "text/plain": [
       "<Figure size 432x288 with 1 Axes>"
      ]
     },
     "metadata": {
      "needs_background": "light"
     },
     "output_type": "display_data"
    }
   ],
   "source": [
    "plt.scatter(df_train_phraseology['phraseology'], df_train_phraseology['avg_word_length'])\n",
    "plt.show()"
   ]
  },
  {
   "cell_type": "code",
   "execution_count": 51,
   "id": "5cf0568a",
   "metadata": {
    "execution": {
     "iopub.execute_input": "2022-11-29T07:29:10.482914Z",
     "iopub.status.busy": "2022-11-29T07:29:10.482323Z",
     "iopub.status.idle": "2022-11-29T07:29:10.634242Z",
     "shell.execute_reply": "2022-11-29T07:29:10.633045Z"
    },
    "papermill": {
     "duration": 0.175133,
     "end_time": "2022-11-29T07:29:10.636472",
     "exception": false,
     "start_time": "2022-11-29T07:29:10.461339",
     "status": "completed"
    },
    "tags": []
   },
   "outputs": [
    {
     "data": {
      "image/png": "[encoded data removed]",
      "text/plain": [
       "<Figure size 432x288 with 1 Axes>"
      ]
     },
     "metadata": {
      "needs_background": "light"
     },
     "output_type": "display_data"
    }
   ],
   "source": [
    "plt.scatter(df_train_phraseology['phraseology'], df_train_phraseology['avg_article'])\n",
    "plt.show()"
   ]
  },
  {
   "cell_type": "code",
   "execution_count": 52,
   "id": "fb69a961",
   "metadata": {
    "execution": {
     "iopub.execute_input": "2022-11-29T07:29:10.680324Z",
     "iopub.status.busy": "2022-11-29T07:29:10.679937Z",
     "iopub.status.idle": "2022-11-29T07:29:10.698343Z",
     "shell.execute_reply": "2022-11-29T07:29:10.697736Z"
    },
    "papermill": {
     "duration": 0.043012,
     "end_time": "2022-11-29T07:29:10.700196",
     "exception": false,
     "start_time": "2022-11-29T07:29:10.657184",
     "status": "completed"
    },
    "tags": []
   },
   "outputs": [],
   "source": [
    "df_train_phraseology = df_train_phraseology.drop(df_train_phraseology[(df_train_phraseology.avg_article >= 0.025) & (df_train_phraseology.phraseology == 1.0)].index)\n",
    "df_train_phraseology = df_train_phraseology.drop(df_train_phraseology[(df_train_phraseology.avg_article <= 0.05) & (df_train_phraseology.phraseology == 1.5)].index)\n",
    "df_train_phraseology = df_train_phraseology.drop(df_train_phraseology[(df_train_phraseology.avg_article >= 0.1) & (df_train_phraseology.phraseology == 1.5)].index)\n",
    "df_train_phraseology = df_train_phraseology.drop(df_train_phraseology[(df_train_phraseology.avg_article >= 0.175) & (df_train_phraseology.phraseology == 2.5)].index)\n",
    "df_train_phraseology = df_train_phraseology.drop(df_train_phraseology[(df_train_phraseology.avg_article >= 0.15) & (df_train_phraseology.phraseology == 3.0)].index)\n",
    "df_train_phraseology = df_train_phraseology.drop(df_train_phraseology[(df_train_phraseology.avg_article >= 0.13) & (df_train_phraseology.phraseology == 3.5)].index)\n",
    "df_train_phraseology = df_train_phraseology.drop(df_train_phraseology[(df_train_phraseology.avg_article >= 0.12) & (df_train_phraseology.phraseology == 4.0)].index)\n",
    "df_train_phraseology = df_train_phraseology.drop(df_train_phraseology[(df_train_phraseology.avg_article >= 0.11) & (df_train_phraseology.phraseology == 4.5)].index)"
   ]
  },
  {
   "cell_type": "code",
   "execution_count": 53,
   "id": "dcb0f6ab",
   "metadata": {
    "execution": {
     "iopub.execute_input": "2022-11-29T07:29:10.743350Z",
     "iopub.status.busy": "2022-11-29T07:29:10.742998Z",
     "iopub.status.idle": "2022-11-29T07:29:10.894957Z",
     "shell.execute_reply": "2022-11-29T07:29:10.893721Z"
    },
    "papermill": {
     "duration": 0.175577,
     "end_time": "2022-11-29T07:29:10.896894",
     "exception": false,
     "start_time": "2022-11-29T07:29:10.721317",
     "status": "completed"
    },
    "tags": []
   },
   "outputs": [
    {
     "data": {
      "image/png": "[encoded data removed]",
      "text/plain": [
       "<Figure size 432x288 with 1 Axes>"
      ]
     },
     "metadata": {
      "needs_background": "light"
     },
     "output_type": "display_data"
    }
   ],
   "source": [
    "plt.scatter(df_train_phraseology['phraseology'], df_train_phraseology['avg_article'])\n",
    "plt.show()"
   ]
  },
  {
   "cell_type": "code",
   "execution_count": 54,
   "id": "472f634a",
   "metadata": {
    "execution": {
     "iopub.execute_input": "2022-11-29T07:29:10.940470Z",
     "iopub.status.busy": "2022-11-29T07:29:10.939661Z",
     "iopub.status.idle": "2022-11-29T07:29:11.059319Z",
     "shell.execute_reply": "2022-11-29T07:29:11.058251Z"
    },
    "papermill": {
     "duration": 0.144053,
     "end_time": "2022-11-29T07:29:11.061840",
     "exception": false,
     "start_time": "2022-11-29T07:29:10.917787",
     "status": "completed"
    },
    "tags": []
   },
   "outputs": [],
   "source": [
    "df_train_phraseology[['full_text', 'phraseology']].to_csv('phraseology.csv', index=None)"
   ]
  },
  {
   "cell_type": "code",
   "execution_count": 55,
   "id": "e92622e5",
   "metadata": {
    "execution": {
     "iopub.execute_input": "2022-11-29T07:29:11.107312Z",
     "iopub.status.busy": "2022-11-29T07:29:11.106780Z",
     "iopub.status.idle": "2022-11-29T07:29:11.110570Z",
     "shell.execute_reply": "2022-11-29T07:29:11.109952Z"
    },
    "papermill": {
     "duration": 0.028861,
     "end_time": "2022-11-29T07:29:11.112804",
     "exception": false,
     "start_time": "2022-11-29T07:29:11.083943",
     "status": "completed"
    },
    "tags": []
   },
   "outputs": [],
   "source": [
    "df_train_grammar = df_train.copy(deep=True)"
   ]
  },
  {
   "cell_type": "code",
   "execution_count": 56,
   "id": "e8f05bb4",
   "metadata": {
    "execution": {
     "iopub.execute_input": "2022-11-29T07:29:11.156288Z",
     "iopub.status.busy": "2022-11-29T07:29:11.155778Z",
     "iopub.status.idle": "2022-11-29T07:29:11.290881Z",
     "shell.execute_reply": "2022-11-29T07:29:11.290154Z"
    },
    "papermill": {
     "duration": 0.158942,
     "end_time": "2022-11-29T07:29:11.292787",
     "exception": false,
     "start_time": "2022-11-29T07:29:11.133845",
     "status": "completed"
    },
    "tags": []
   },
   "outputs": [
    {
     "data": {
      "image/png": "[encoded data removed]",
      "text/plain": [
       "<Figure size 432x288 with 1 Axes>"
      ]
     },
     "metadata": {
      "needs_background": "light"
     },
     "output_type": "display_data"
    }
   ],
   "source": [
    "plt.scatter(df_train_grammar['grammar'], df_train_grammar['avg_word_length'])\n",
    "plt.show()"
   ]
  },
  {
   "cell_type": "code",
   "execution_count": 57,
   "id": "ab510c7d",
   "metadata": {
    "execution": {
     "iopub.execute_input": "2022-11-29T07:29:11.336171Z",
     "iopub.status.busy": "2022-11-29T07:29:11.335635Z",
     "iopub.status.idle": "2022-11-29T07:29:11.363514Z",
     "shell.execute_reply": "2022-11-29T07:29:11.362578Z"
    },
    "papermill": {
     "duration": 0.052006,
     "end_time": "2022-11-29T07:29:11.365623",
     "exception": false,
     "start_time": "2022-11-29T07:29:11.313617",
     "status": "completed"
    },
    "tags": []
   },
   "outputs": [],
   "source": [
    "df_train_grammar = df_train_grammar.drop(df_train_grammar[(df_train_grammar.avg_word_length <= 5.0) & (df_train_grammar.grammar == 5.0)].index)\n",
    "df_train_grammar = df_train_grammar.drop(df_train_grammar[(df_train_grammar.avg_word_length >= 6.0) & (df_train_grammar.grammar == 5.0)].index)\n",
    "df_train_grammar = df_train_grammar.drop(df_train_grammar[(df_train_grammar.avg_word_length >= 6.5) & (df_train_grammar.grammar == 4.0)].index)\n",
    "df_train_grammar = df_train_grammar.drop(df_train_grammar[(df_train_grammar.avg_word_length >= 6.3) & (df_train_grammar.grammar == 3.5)].index)\n",
    "df_train_grammar = df_train_grammar.drop(df_train_grammar[(df_train_grammar.avg_word_length <= 4.5) & (df_train_grammar.grammar == 3.5)].index)\n",
    "df_train_grammar = df_train_grammar.drop(df_train_grammar[(df_train_grammar.avg_word_length <= 4.5) & (df_train_grammar.grammar == 3.0)].index)\n",
    "df_train_grammar = df_train_grammar.drop(df_train_grammar[(df_train_grammar.avg_word_length <= 4.5) & (df_train_grammar.grammar == 2.5)].index)\n",
    "df_train_grammar = df_train_grammar.drop(df_train_grammar[(df_train_grammar.avg_word_length >= 6.3) & (df_train_grammar.grammar == 2.5)].index)\n",
    "df_train_grammar = df_train_grammar.drop(df_train_grammar[(df_train_grammar.avg_word_length <= 4.5) & (df_train_grammar.grammar == 2.0)].index)\n",
    "df_train_grammar = df_train_grammar.drop(df_train_grammar[(df_train_grammar.avg_word_length >= 6.2) & (df_train_grammar.grammar == 2.0)].index)\n",
    "df_train_grammar = df_train_grammar.drop(df_train_grammar[(df_train_grammar.avg_word_length <= 4.5) & (df_train_grammar.grammar == 1.5)].index)\n",
    "df_train_grammar = df_train_grammar.drop(df_train_grammar[(df_train_grammar.avg_word_length >= 5.2) & (df_train_grammar.grammar == 1.5)].index)\n",
    "df_train_grammar = df_train_grammar.drop(df_train_grammar[(df_train_grammar.avg_word_length <= 4.7) & (df_train_grammar.grammar == 1.0)].index)\n",
    "df_train_grammar = df_train_grammar.drop(df_train_grammar[(df_train_grammar.avg_word_length >= 5.2) & (df_train_grammar.grammar == 1.0)].index)"
   ]
  },
  {
   "cell_type": "code",
   "execution_count": 58,
   "id": "c0b98f42",
   "metadata": {
    "execution": {
     "iopub.execute_input": "2022-11-29T07:29:11.408178Z",
     "iopub.status.busy": "2022-11-29T07:29:11.407694Z",
     "iopub.status.idle": "2022-11-29T07:29:11.555972Z",
     "shell.execute_reply": "2022-11-29T07:29:11.555220Z"
    },
    "papermill": {
     "duration": 0.171555,
     "end_time": "2022-11-29T07:29:11.557762",
     "exception": false,
     "start_time": "2022-11-29T07:29:11.386207",
     "status": "completed"
    },
    "tags": []
   },
   "outputs": [
    {
     "data": {
      "image/png": "[encoded data removed]",
      "text/plain": [
       "<Figure size 432x288 with 1 Axes>"
      ]
     },
     "metadata": {
      "needs_background": "light"
     },
     "output_type": "display_data"
    }
   ],
   "source": [
    "plt.scatter(df_train_grammar['grammar'], df_train_grammar['avg_word_length'])\n",
    "plt.show()"
   ]
  },
  {
   "cell_type": "code",
   "execution_count": 59,
   "id": "6f4a01e1",
   "metadata": {
    "execution": {
     "iopub.execute_input": "2022-11-29T07:29:11.603698Z",
     "iopub.status.busy": "2022-11-29T07:29:11.602560Z",
     "iopub.status.idle": "2022-11-29T07:29:11.749777Z",
     "shell.execute_reply": "2022-11-29T07:29:11.749096Z"
    },
    "papermill": {
     "duration": 0.171394,
     "end_time": "2022-11-29T07:29:11.751499",
     "exception": false,
     "start_time": "2022-11-29T07:29:11.580105",
     "status": "completed"
    },
    "tags": []
   },
   "outputs": [
    {
     "data": {
      "image/png": "[encoded data removed]",
      "text/plain": [
       "<Figure size 432x288 with 1 Axes>"
      ]
     },
     "metadata": {
      "needs_background": "light"
     },
     "output_type": "display_data"
    }
   ],
   "source": [
    "plt.scatter(df_train_grammar['grammar'], df_train_grammar['avg_article'])\n",
    "plt.show()"
   ]
  },
  {
   "cell_type": "code",
   "execution_count": 60,
   "id": "f348cb19",
   "metadata": {
    "execution": {
     "iopub.execute_input": "2022-11-29T07:29:11.795471Z",
     "iopub.status.busy": "2022-11-29T07:29:11.794891Z",
     "iopub.status.idle": "2022-11-29T07:29:11.804103Z",
     "shell.execute_reply": "2022-11-29T07:29:11.803527Z"
    },
    "papermill": {
     "duration": 0.033162,
     "end_time": "2022-11-29T07:29:11.805963",
     "exception": false,
     "start_time": "2022-11-29T07:29:11.772801",
     "status": "completed"
    },
    "tags": []
   },
   "outputs": [],
   "source": [
    "df_train_grammar = df_train_grammar.drop(df_train_grammar[(df_train_grammar.avg_article >= 0.17) & (df_train_grammar.grammar == 2.5)].index)\n",
    "df_train_grammar = df_train_grammar.drop(df_train_grammar[(df_train_grammar.avg_article >= 0.16) & (df_train_grammar.grammar == 3.0)].index)\n",
    "df_train_grammar = df_train_grammar.drop(df_train_grammar[(df_train_grammar.avg_article >= 0.16) & (df_train_grammar.grammar == 1.0)].index)"
   ]
  },
  {
   "cell_type": "code",
   "execution_count": 61,
   "id": "1f1d4bcb",
   "metadata": {
    "execution": {
     "iopub.execute_input": "2022-11-29T07:29:11.852235Z",
     "iopub.status.busy": "2022-11-29T07:29:11.851879Z",
     "iopub.status.idle": "2022-11-29T07:29:12.007197Z",
     "shell.execute_reply": "2022-11-29T07:29:12.005592Z"
    },
    "papermill": {
     "duration": 0.180907,
     "end_time": "2022-11-29T07:29:12.009795",
     "exception": false,
     "start_time": "2022-11-29T07:29:11.828888",
     "status": "completed"
    },
    "tags": []
   },
   "outputs": [
    {
     "data": {
      "image/png": "[encoded data removed]",
      "text/plain": [
       "<Figure size 432x288 with 1 Axes>"
      ]
     },
     "metadata": {
      "needs_background": "light"
     },
     "output_type": "display_data"
    }
   ],
   "source": [
    "plt.scatter(df_train_grammar['grammar'], df_train_grammar['avg_article'])\n",
    "plt.show()"
   ]
  },
  {
   "cell_type": "code",
   "execution_count": 62,
   "id": "8bf4cb9c",
   "metadata": {
    "execution": {
     "iopub.execute_input": "2022-11-29T07:29:12.055574Z",
     "iopub.status.busy": "2022-11-29T07:29:12.055210Z",
     "iopub.status.idle": "2022-11-29T07:29:12.174289Z",
     "shell.execute_reply": "2022-11-29T07:29:12.173310Z"
    },
    "papermill": {
     "duration": 0.144674,
     "end_time": "2022-11-29T07:29:12.176746",
     "exception": false,
     "start_time": "2022-11-29T07:29:12.032072",
     "status": "completed"
    },
    "tags": []
   },
   "outputs": [],
   "source": [
    "df_train_grammar[['full_text', 'grammar']].to_csv('grammar.csv', index=None)"
   ]
  },
  {
   "cell_type": "code",
   "execution_count": 63,
   "id": "3067fd04",
   "metadata": {
    "execution": {
     "iopub.execute_input": "2022-11-29T07:29:12.222417Z",
     "iopub.status.busy": "2022-11-29T07:29:12.222049Z",
     "iopub.status.idle": "2022-11-29T07:29:12.225989Z",
     "shell.execute_reply": "2022-11-29T07:29:12.225280Z"
    },
    "papermill": {
     "duration": 0.029046,
     "end_time": "2022-11-29T07:29:12.227777",
     "exception": false,
     "start_time": "2022-11-29T07:29:12.198731",
     "status": "completed"
    },
    "tags": []
   },
   "outputs": [],
   "source": [
    "df_train_conventions = df_train.copy(deep=True)"
   ]
  },
  {
   "cell_type": "code",
   "execution_count": 64,
   "id": "7f7d3f48",
   "metadata": {
    "execution": {
     "iopub.execute_input": "2022-11-29T07:29:12.271906Z",
     "iopub.status.busy": "2022-11-29T07:29:12.271512Z",
     "iopub.status.idle": "2022-11-29T07:29:12.408647Z",
     "shell.execute_reply": "2022-11-29T07:29:12.407857Z"
    },
    "papermill": {
     "duration": 0.161235,
     "end_time": "2022-11-29T07:29:12.410682",
     "exception": false,
     "start_time": "2022-11-29T07:29:12.249447",
     "status": "completed"
    },
    "tags": []
   },
   "outputs": [
    {
     "data": {
      "image/png": "[encoded data removed]",
      "text/plain": [
       "<Figure size 432x288 with 1 Axes>"
      ]
     },
     "metadata": {
      "needs_background": "light"
     },
     "output_type": "display_data"
    }
   ],
   "source": [
    "plt.scatter(df_train_conventions['conventions'], df_train_conventions['avg_word_length'])\n",
    "plt.show()"
   ]
  },
  {
   "cell_type": "code",
   "execution_count": 65,
   "id": "28703bde",
   "metadata": {
    "execution": {
     "iopub.execute_input": "2022-11-29T07:29:12.460048Z",
     "iopub.status.busy": "2022-11-29T07:29:12.458940Z",
     "iopub.status.idle": "2022-11-29T07:29:12.474592Z",
     "shell.execute_reply": "2022-11-29T07:29:12.473750Z"
    },
    "papermill": {
     "duration": 0.043424,
     "end_time": "2022-11-29T07:29:12.476664",
     "exception": false,
     "start_time": "2022-11-29T07:29:12.433240",
     "status": "completed"
    },
    "tags": []
   },
   "outputs": [],
   "source": [
    "df_train_conventions = df_train_conventions.drop(df_train_conventions[(df_train_conventions.avg_word_length >= 5.4) & (df_train_conventions.conventions == 1.0)].index)\n",
    "df_train_conventions = df_train_conventions.drop(df_train_conventions[(df_train_conventions.avg_word_length >= 6.4) & (df_train_conventions.conventions == 2.5)].index)\n",
    "df_train_conventions = df_train_conventions.drop(df_train_conventions[(df_train_conventions.avg_word_length >= 6.4) & (df_train_conventions.conventions == 4.5)].index)\n",
    "df_train_conventions = df_train_conventions.drop(df_train_conventions[(df_train_conventions.avg_word_length <= 4.5) & (df_train_conventions.conventions == 3.5)].index)\n",
    "df_train_conventions = df_train_conventions.drop(df_train_conventions[(df_train_conventions.avg_word_length <= 5.0) & (df_train_conventions.conventions == 5.0)].index)"
   ]
  },
  {
   "cell_type": "code",
   "execution_count": 66,
   "id": "9e348ec6",
   "metadata": {
    "execution": {
     "iopub.execute_input": "2022-11-29T07:29:12.520935Z",
     "iopub.status.busy": "2022-11-29T07:29:12.520604Z",
     "iopub.status.idle": "2022-11-29T07:29:12.656873Z",
     "shell.execute_reply": "2022-11-29T07:29:12.656131Z"
    },
    "papermill": {
     "duration": 0.16058,
     "end_time": "2022-11-29T07:29:12.658873",
     "exception": false,
     "start_time": "2022-11-29T07:29:12.498293",
     "status": "completed"
    },
    "tags": []
   },
   "outputs": [
    {
     "data": {
      "image/png": "[encoded data removed]",
      "text/plain": [
       "<Figure size 432x288 with 1 Axes>"
      ]
     },
     "metadata": {
      "needs_background": "light"
     },
     "output_type": "display_data"
    }
   ],
   "source": [
    "plt.scatter(df_train_conventions['conventions'], df_train_conventions['avg_word_length'])\n",
    "plt.show()"
   ]
  },
  {
   "cell_type": "code",
   "execution_count": 67,
   "id": "762682f0",
   "metadata": {
    "execution": {
     "iopub.execute_input": "2022-11-29T07:29:12.706033Z",
     "iopub.status.busy": "2022-11-29T07:29:12.705456Z",
     "iopub.status.idle": "2022-11-29T07:29:12.866473Z",
     "shell.execute_reply": "2022-11-29T07:29:12.865286Z"
    },
    "papermill": {
     "duration": 0.187182,
     "end_time": "2022-11-29T07:29:12.868495",
     "exception": false,
     "start_time": "2022-11-29T07:29:12.681313",
     "status": "completed"
    },
    "tags": []
   },
   "outputs": [
    {
     "data": {
      "image/png": "[encoded data removed]",
      "text/plain": [
       "<Figure size 432x288 with 1 Axes>"
      ]
     },
     "metadata": {
      "needs_background": "light"
     },
     "output_type": "display_data"
    }
   ],
   "source": [
    "plt.scatter(df_train_conventions['conventions'], df_train_conventions['avg_article'])\n",
    "plt.show()"
   ]
  },
  {
   "cell_type": "code",
   "execution_count": 68,
   "id": "b0cb1304",
   "metadata": {
    "execution": {
     "iopub.execute_input": "2022-11-29T07:29:12.914226Z",
     "iopub.status.busy": "2022-11-29T07:29:12.913888Z",
     "iopub.status.idle": "2022-11-29T07:29:12.925255Z",
     "shell.execute_reply": "2022-11-29T07:29:12.924672Z"
    },
    "papermill": {
     "duration": 0.036487,
     "end_time": "2022-11-29T07:29:12.927298",
     "exception": false,
     "start_time": "2022-11-29T07:29:12.890811",
     "status": "completed"
    },
    "tags": []
   },
   "outputs": [],
   "source": [
    "df_train_conventions = df_train_conventions.drop(df_train_conventions[(df_train_conventions.avg_article >= 0.15) & (df_train_conventions.conventions == 1.0)].index)\n",
    "df_train_conventions = df_train_conventions.drop(df_train_conventions[(df_train_conventions.avg_article >= 0.16) & (df_train_conventions.conventions == 3.0)].index)\n",
    "df_train_conventions = df_train_conventions.drop(df_train_conventions[(df_train_conventions.avg_article >= 0.12) & (df_train_conventions.conventions == 4.5)].index)\n",
    "df_train_conventions = df_train_conventions.drop(df_train_conventions[(df_train_conventions.avg_article <= 0.01) & (df_train_conventions.conventions == 1.5)].index)"
   ]
  },
  {
   "cell_type": "code",
   "execution_count": 69,
   "id": "18621216",
   "metadata": {
    "execution": {
     "iopub.execute_input": "2022-11-29T07:29:12.972810Z",
     "iopub.status.busy": "2022-11-29T07:29:12.971868Z",
     "iopub.status.idle": "2022-11-29T07:29:13.122906Z",
     "shell.execute_reply": "2022-11-29T07:29:13.121957Z"
    },
    "papermill": {
     "duration": 0.176302,
     "end_time": "2022-11-29T07:29:13.125567",
     "exception": false,
     "start_time": "2022-11-29T07:29:12.949265",
     "status": "completed"
    },
    "tags": []
   },
   "outputs": [
    {
     "data": {
      "image/png": "[encoded data removed]",
      "text/plain": [
       "<Figure size 432x288 with 1 Axes>"
      ]
     },
     "metadata": {
      "needs_background": "light"
     },
     "output_type": "display_data"
    }
   ],
   "source": [
    "plt.scatter(df_train_conventions['conventions'], df_train_conventions['avg_article'])\n",
    "plt.show()"
   ]
  },
  {
   "cell_type": "code",
   "execution_count": 70,
   "id": "26bf5869",
   "metadata": {
    "execution": {
     "iopub.execute_input": "2022-11-29T07:29:13.172179Z",
     "iopub.status.busy": "2022-11-29T07:29:13.171214Z",
     "iopub.status.idle": "2022-11-29T07:29:13.291554Z",
     "shell.execute_reply": "2022-11-29T07:29:13.290867Z"
    },
    "papermill": {
     "duration": 0.14584,
     "end_time": "2022-11-29T07:29:13.293653",
     "exception": false,
     "start_time": "2022-11-29T07:29:13.147813",
     "status": "completed"
    },
    "tags": []
   },
   "outputs": [],
   "source": [
    "df_train_conventions[['full_text', 'conventions']].to_csv('conventions.csv', index=None)"
   ]
  }
 ],
 "metadata": {
  "kernelspec": {
   "display_name": "Python 3",
   "language": "python",
   "name": "python3"
  },
  "language_info": {
   "codemirror_mode": {
    "name": "ipython",
    "version": 3
   },
   "file_extension": ".py",
   "mimetype": "text/x-python",
   "name": "python",
   "nbconvert_exporter": "python",
   "pygments_lexer": "ipython3",
   "version": "3.7.12"
  },
  "papermill": {
   "default_parameters": {},
   "duration": 18.65719,
   "end_time": "2022-11-29T07:29:14.036896",
   "environment_variables": {},
   "exception": null,
   "input_path": "__notebook__.ipynb",
   "output_path": "__notebook__.ipynb",
   "parameters": {},
   "start_time": "2022-11-29T07:28:55.379706",
   "version": "2.3.4"
  }
 },
 "nbformat": 4,
 "nbformat_minor": 5
}
