{
 "cells": [
  {
   "cell_type": "code",
   "execution_count": 1,
   "id": "80ff322d",
   "metadata": {
    "execution": {
     "iopub.execute_input": "2022-11-29T09:19:29.950937Z",
     "iopub.status.busy": "2022-11-29T09:19:29.949859Z",
     "iopub.status.idle": "2022-11-29T09:19:35.411987Z",
     "shell.execute_reply": "2022-11-29T09:19:35.411042Z"
    },
    "papermill": {
     "duration": 5.473428,
     "end_time": "2022-11-29T09:19:35.417980",
     "exception": false,
     "start_time": "2022-11-29T09:19:29.944552",
     "status": "completed"
    },
    "tags": []
   },
   "outputs": [],
   "source": [
    "import numpy as np\n",
    "import pandas as pd\n",
    "import matplotlib.pyplot as plt\n",
    "import seaborn as sns\n",
    "import tensorflow as tf\n",
    "import transformers\n",
    "from sklearn.model_selection import KFold\n",
    "from sklearn.metrics import mean_squared_error\n",
    "import json\n",
    "from math import log10, floor"
   ]
  },
  {
   "cell_type": "code",
   "execution_count": 2,
   "id": "c0e22c60",
   "metadata": {
    "execution": {
     "iopub.execute_input": "2022-11-29T09:19:35.430110Z",
     "iopub.status.busy": "2022-11-29T09:19:35.429414Z",
     "iopub.status.idle": "2022-11-29T09:19:35.702772Z",
     "shell.execute_reply": "2022-11-29T09:19:35.701820Z"
    },
    "papermill": {
     "duration": 0.282028,
     "end_time": "2022-11-29T09:19:35.705769",
     "exception": false,
     "start_time": "2022-11-29T09:19:35.423741",
     "status": "completed"
    },
    "tags": []
   },
   "outputs": [
    {
     "data": {
      "text/html": [
       "<div>\n",
       "<style scoped>\n",
       "    .dataframe tbody tr th:only-of-type {\n",
       "        vertical-align: middle;\n",
       "    }\n",
       "\n",
       "    .dataframe tbody tr th {\n",
       "        vertical-align: top;\n",
       "    }\n",
       "\n",
       "    .dataframe thead th {\n",
       "        text-align: right;\n",
       "    }\n",
       "</style>\n",
       "<table border=\"1\" class=\"dataframe\">\n",
       "  <thead>\n",
       "    <tr style=\"text-align: right;\">\n",
       "      <th></th>\n",
       "      <th>full_text</th>\n",
       "      <th>phraseology</th>\n",
       "    </tr>\n",
       "  </thead>\n",
       "  <tbody>\n",
       "    <tr>\n",
       "      <th>0</th>\n",
       "      <td>I think that students would benefit from learn...</td>\n",
       "      <td>3.0</td>\n",
       "    </tr>\n",
       "    <tr>\n",
       "      <th>1</th>\n",
       "      <td>When a problem is a change you have to let it ...</td>\n",
       "      <td>2.0</td>\n",
       "    </tr>\n",
       "    <tr>\n",
       "      <th>2</th>\n",
       "      <td>Dear, Principal If u change the school policy ...</td>\n",
       "      <td>3.0</td>\n",
       "    </tr>\n",
       "    <tr>\n",
       "      <th>3</th>\n",
       "      <td>The best time in life is when you become yours...</td>\n",
       "      <td>4.5</td>\n",
       "    </tr>\n",
       "    <tr>\n",
       "      <th>4</th>\n",
       "      <td>Small act of kindness can impact in other peop...</td>\n",
       "      <td>3.0</td>\n",
       "    </tr>\n",
       "  </tbody>\n",
       "</table>\n",
       "</div>"
      ],
      "text/plain": [
       "                                           full_text  phraseology\n",
       "0  I think that students would benefit from learn...          3.0\n",
       "1  When a problem is a change you have to let it ...          2.0\n",
       "2  Dear, Principal If u change the school policy ...          3.0\n",
       "3  The best time in life is when you become yours...          4.5\n",
       "4  Small act of kindness can impact in other peop...          3.0"
      ]
     },
     "execution_count": 2,
     "metadata": {},
     "output_type": "execute_result"
    }
   ],
   "source": [
    "df_train = pd.read_csv('/kaggle/input/data-cleaning/phraseology.csv')\n",
    "df_test = pd.read_csv('../input/feedback-prize-english-language-learning/test.csv')\n",
    "df_train.head()"
   ]
  },
  {
   "cell_type": "code",
   "execution_count": 3,
   "id": "aa513a88",
   "metadata": {
    "execution": {
     "iopub.execute_input": "2022-11-29T09:19:35.716837Z",
     "iopub.status.busy": "2022-11-29T09:19:35.716414Z",
     "iopub.status.idle": "2022-11-29T09:19:36.471272Z",
     "shell.execute_reply": "2022-11-29T09:19:36.470250Z"
    },
    "papermill": {
     "duration": 0.762839,
     "end_time": "2022-11-29T09:19:36.473687",
     "exception": false,
     "start_time": "2022-11-29T09:19:35.710848",
     "status": "completed"
    },
    "tags": []
   },
   "outputs": [],
   "source": [
    "df_train['full_text'].replace(r'\\s+|\\\\n', ' ', regex=True, inplace=True) \n",
    "df_test['full_text'].replace(r'\\s+|\\\\n', ' ', regex=True, inplace=True)"
   ]
  },
  {
   "cell_type": "code",
   "execution_count": 4,
   "id": "919c35db",
   "metadata": {
    "execution": {
     "iopub.execute_input": "2022-11-29T09:19:36.481818Z",
     "iopub.status.busy": "2022-11-29T09:19:36.481251Z",
     "iopub.status.idle": "2022-11-29T09:19:36.490030Z",
     "shell.execute_reply": "2022-11-29T09:19:36.489036Z"
    },
    "papermill": {
     "duration": 0.015034,
     "end_time": "2022-11-29T09:19:36.492231",
     "exception": false,
     "start_time": "2022-11-29T09:19:36.477197",
     "status": "completed"
    },
    "tags": []
   },
   "outputs": [
    {
     "data": {
      "text/plain": [
       "0    I think that students would benefit from learn...\n",
       "1    When a problem is a change you have to let it ...\n",
       "2    Dear, Principal If u change the school policy ...\n",
       "3    The best time in life is when you become yours...\n",
       "4    Small act of kindness can impact in other peop...\n",
       "Name: full_text, dtype: object"
      ]
     },
     "execution_count": 4,
     "metadata": {},
     "output_type": "execute_result"
    }
   ],
   "source": [
    "df_train['full_text'].head()"
   ]
  },
  {
   "cell_type": "code",
   "execution_count": 5,
   "id": "87118a75",
   "metadata": {
    "execution": {
     "iopub.execute_input": "2022-11-29T09:19:36.501554Z",
     "iopub.status.busy": "2022-11-29T09:19:36.499928Z",
     "iopub.status.idle": "2022-11-29T09:19:36.883919Z",
     "shell.execute_reply": "2022-11-29T09:19:36.882914Z"
    },
    "papermill": {
     "duration": 0.391191,
     "end_time": "2022-11-29T09:19:36.886620",
     "exception": false,
     "start_time": "2022-11-29T09:19:36.495429",
     "status": "completed"
    },
    "tags": []
   },
   "outputs": [],
   "source": [
    "tokenizer = transformers.DistilBertTokenizerFast.from_pretrained('../input/huggingface-bert-variants/distilbert-base-uncased/distilbert-base-uncased')"
   ]
  },
  {
   "cell_type": "code",
   "execution_count": 6,
   "id": "d8e19198",
   "metadata": {
    "execution": {
     "iopub.execute_input": "2022-11-29T09:19:36.894329Z",
     "iopub.status.busy": "2022-11-29T09:19:36.893997Z",
     "iopub.status.idle": "2022-11-29T09:19:55.778253Z",
     "shell.execute_reply": "2022-11-29T09:19:55.777190Z"
    },
    "papermill": {
     "duration": 18.891277,
     "end_time": "2022-11-29T09:19:55.781209",
     "exception": false,
     "start_time": "2022-11-29T09:19:36.889932",
     "status": "completed"
    },
    "tags": []
   },
   "outputs": [
    {
     "name": "stderr",
     "output_type": "stream",
     "text": [
      "2022-11-29 09:19:39.197175: I tensorflow/stream_executor/cuda/cuda_gpu_executor.cc:937] successful NUMA node read from SysFS had negative value (-1), but there must be at least one NUMA node, so returning NUMA node zero\n",
      "2022-11-29 09:19:39.198353: I tensorflow/stream_executor/cuda/cuda_gpu_executor.cc:937] successful NUMA node read from SysFS had negative value (-1), but there must be at least one NUMA node, so returning NUMA node zero\n",
      "2022-11-29 09:19:39.199018: I tensorflow/stream_executor/cuda/cuda_gpu_executor.cc:937] successful NUMA node read from SysFS had negative value (-1), but there must be at least one NUMA node, so returning NUMA node zero\n",
      "2022-11-29 09:19:39.199889: I tensorflow/core/platform/cpu_feature_guard.cc:142] This TensorFlow binary is optimized with oneAPI Deep Neural Network Library (oneDNN) to use the following CPU instructions in performance-critical operations:  AVX2 AVX512F FMA\n",
      "To enable them in other operations, rebuild TensorFlow with the appropriate compiler flags.\n",
      "2022-11-29 09:19:39.200246: I tensorflow/stream_executor/cuda/cuda_gpu_executor.cc:937] successful NUMA node read from SysFS had negative value (-1), but there must be at least one NUMA node, so returning NUMA node zero\n",
      "2022-11-29 09:19:39.200937: I tensorflow/stream_executor/cuda/cuda_gpu_executor.cc:937] successful NUMA node read from SysFS had negative value (-1), but there must be at least one NUMA node, so returning NUMA node zero\n",
      "2022-11-29 09:19:39.201585: I tensorflow/stream_executor/cuda/cuda_gpu_executor.cc:937] successful NUMA node read from SysFS had negative value (-1), but there must be at least one NUMA node, so returning NUMA node zero\n",
      "2022-11-29 09:19:43.890874: I tensorflow/stream_executor/cuda/cuda_gpu_executor.cc:937] successful NUMA node read from SysFS had negative value (-1), but there must be at least one NUMA node, so returning NUMA node zero\n",
      "2022-11-29 09:19:43.891793: I tensorflow/stream_executor/cuda/cuda_gpu_executor.cc:937] successful NUMA node read from SysFS had negative value (-1), but there must be at least one NUMA node, so returning NUMA node zero\n",
      "2022-11-29 09:19:43.892477: I tensorflow/stream_executor/cuda/cuda_gpu_executor.cc:937] successful NUMA node read from SysFS had negative value (-1), but there must be at least one NUMA node, so returning NUMA node zero\n",
      "2022-11-29 09:19:43.893060: I tensorflow/core/common_runtime/gpu/gpu_device.cc:1510] Created device /job:localhost/replica:0/task:0/device:GPU:0 with 15043 MB memory:  -> device: 0, name: Tesla P100-PCIE-16GB, pci bus id: 0000:00:04.0, compute capability: 6.0\n",
      "2022-11-29 09:19:44.284131: W tensorflow/python/util/util.cc:348] Sets are not currently considered sequences, but this may change in the future, so consider avoiding using them.\n",
      "Some layers from the model checkpoint at ../input/huggingface-bert-variants/distilbert-base-uncased/distilbert-base-uncased were not used when initializing TFDistilBertModel: ['activation_13', 'vocab_layer_norm', 'vocab_projector', 'vocab_transform']\n",
      "- This IS expected if you are initializing TFDistilBertModel from the checkpoint of a model trained on another task or with another architecture (e.g. initializing a BertForSequenceClassification model from a BertForPreTraining model).\n",
      "- This IS NOT expected if you are initializing TFDistilBertModel from the checkpoint of a model that you expect to be exactly identical (initializing a BertForSequenceClassification model from a BertForSequenceClassification model).\n",
      "All the layers of TFDistilBertModel were initialized from the model checkpoint at ../input/huggingface-bert-variants/distilbert-base-uncased/distilbert-base-uncased.\n",
      "If your task is similar to the task the model of the checkpoint was trained on, you can already use TFDistilBertModel for predictions without further training.\n"
     ]
    }
   ],
   "source": [
    "input_ids_layer = tf.keras.Input(shape=512, dtype=tf.int32)\n",
    "attention_mask_layer = tf.keras.Input(shape=512, dtype=tf.int32)\n",
    "base_model = transformers.TFDistilBertModel.from_pretrained('../input/huggingface-bert-variants/distilbert-base-uncased/distilbert-base-uncased')\n",
    "base_model.trainable = False\n",
    "base_model_output = base_model(input_ids=input_ids_layer, attention_mask = attention_mask_layer)\n",
    "pooling = tf.keras.layers.GlobalAveragePooling1D()(base_model_output.last_hidden_state)\n",
    "output = tf.keras.layers.Dense(1, activation=\"linear\")(pooling)\n",
    "model = tf.keras.Model(inputs=[input_ids_layer, attention_mask_layer], outputs=output)\n",
    "model.compile(\n",
    "    optimizer=tf.keras.optimizers.Adam(learning_rate=0.003), \n",
    "    loss='mse',\n",
    ")"
   ]
  },
  {
   "cell_type": "code",
   "execution_count": 7,
   "id": "f4a4f820",
   "metadata": {
    "execution": {
     "iopub.execute_input": "2022-11-29T09:19:55.790269Z",
     "iopub.status.busy": "2022-11-29T09:19:55.789819Z",
     "iopub.status.idle": "2022-11-29T09:19:55.800273Z",
     "shell.execute_reply": "2022-11-29T09:19:55.799076Z"
    },
    "papermill": {
     "duration": 0.01688,
     "end_time": "2022-11-29T09:19:55.802208",
     "exception": false,
     "start_time": "2022-11-29T09:19:55.785328",
     "status": "completed"
    },
    "tags": []
   },
   "outputs": [
    {
     "name": "stdout",
     "output_type": "stream",
     "text": [
      "Model: \"model\"\n",
      "__________________________________________________________________________________________________\n",
      "Layer (type)                    Output Shape         Param #     Connected to                     \n",
      "==================================================================================================\n",
      "input_1 (InputLayer)            [(None, 512)]        0                                            \n",
      "__________________________________________________________________________________________________\n",
      "input_2 (InputLayer)            [(None, 512)]        0                                            \n",
      "__________________________________________________________________________________________________\n",
      "tf_distil_bert_model (TFDistilB TFBaseModelOutput(la 66362880    input_1[0][0]                    \n",
      "                                                                 input_2[0][0]                    \n",
      "__________________________________________________________________________________________________\n",
      "global_average_pooling1d (Globa (None, 768)          0           tf_distil_bert_model[0][0]       \n",
      "__________________________________________________________________________________________________\n",
      "dense (Dense)                   (None, 1)            769         global_average_pooling1d[0][0]   \n",
      "==================================================================================================\n",
      "Total params: 66,363,649\n",
      "Trainable params: 769\n",
      "Non-trainable params: 66,362,880\n",
      "__________________________________________________________________________________________________\n"
     ]
    }
   ],
   "source": [
    "model.summary()"
   ]
  },
  {
   "cell_type": "code",
   "execution_count": 8,
   "id": "3bfeee2c",
   "metadata": {
    "execution": {
     "iopub.execute_input": "2022-11-29T09:19:55.809700Z",
     "iopub.status.busy": "2022-11-29T09:19:55.809431Z",
     "iopub.status.idle": "2022-11-29T09:19:59.819947Z",
     "shell.execute_reply": "2022-11-29T09:19:59.818951Z"
    },
    "papermill": {
     "duration": 4.01718,
     "end_time": "2022-11-29T09:19:59.822443",
     "exception": false,
     "start_time": "2022-11-29T09:19:55.805263",
     "status": "completed"
    },
    "tags": []
   },
   "outputs": [],
   "source": [
    "encoded = tokenizer.batch_encode_plus(\n",
    "    df_train['full_text'].tolist(),\n",
    "    add_special_tokens=False,\n",
    "    max_length=512,\n",
    "    padding='max_length',\n",
    "    truncation=True,\n",
    "    return_attention_mask=True,)\n",
    "\n",
    "encoded_test = tokenizer.batch_encode_plus(\n",
    "    df_test['full_text'].tolist(),\n",
    "    add_special_tokens=False,\n",
    "    max_length=512,\n",
    "    padding='max_length',\n",
    "    truncation=True,\n",
    "    return_attention_mask=True,)\n",
    "\n",
    "input_ids = pd.Series(encoded['input_ids'])\n",
    "attention_mask = pd.Series(encoded['attention_mask'])\n",
    "\n",
    "input_ids_test = tf.convert_to_tensor(encoded_test['input_ids'])\n",
    "attention_mask_test = tf.convert_to_tensor(encoded_test['attention_mask'])"
   ]
  },
  {
   "cell_type": "code",
   "execution_count": 9,
   "id": "aefbd792",
   "metadata": {
    "execution": {
     "iopub.execute_input": "2022-11-29T09:19:59.832189Z",
     "iopub.status.busy": "2022-11-29T09:19:59.830483Z",
     "iopub.status.idle": "2022-11-29T09:54:15.267509Z",
     "shell.execute_reply": "2022-11-29T09:54:15.266243Z"
    },
    "papermill": {
     "duration": 2055.443864,
     "end_time": "2022-11-29T09:54:15.269722",
     "exception": false,
     "start_time": "2022-11-29T09:19:59.825858",
     "status": "completed"
    },
    "tags": []
   },
   "outputs": [
    {
     "name": "stderr",
     "output_type": "stream",
     "text": [
      "2022-11-29 09:20:01.057414: I tensorflow/compiler/mlir/mlir_graph_optimization_pass.cc:185] None of the MLIR Optimization Passes are enabled (registered 2)\n"
     ]
    },
    {
     "name": "stdout",
     "output_type": "stream",
     "text": [
      "Epoch 1/10\n",
      "194/194 [==============================] - 45s 200ms/step - loss: 0.5198\n",
      "Epoch 2/10\n",
      "194/194 [==============================] - 39s 201ms/step - loss: 0.2646\n",
      "Epoch 3/10\n",
      "194/194 [==============================] - 39s 201ms/step - loss: 0.2573\n",
      "Epoch 4/10\n",
      "194/194 [==============================] - 39s 200ms/step - loss: 0.2487\n",
      "Epoch 5/10\n",
      "194/194 [==============================] - 39s 201ms/step - loss: 0.2410\n",
      "Epoch 6/10\n",
      "194/194 [==============================] - 39s 200ms/step - loss: 0.2481\n",
      "Epoch 7/10\n",
      "194/194 [==============================] - 39s 200ms/step - loss: 0.2437\n",
      "Epoch 8/10\n",
      "194/194 [==============================] - 39s 201ms/step - loss: 0.2367\n",
      "Epoch 9/10\n",
      "194/194 [==============================] - 39s 201ms/step - loss: 0.2341\n",
      "Epoch 10/10\n",
      "194/194 [==============================] - 39s 200ms/step - loss: 0.2290\n",
      "0.5056422744187369\n",
      "Epoch 1/10\n",
      "194/194 [==============================] - 39s 201ms/step - loss: 0.2202\n",
      "Epoch 2/10\n",
      "194/194 [==============================] - 39s 201ms/step - loss: 0.2223\n",
      "Epoch 3/10\n",
      "194/194 [==============================] - 39s 201ms/step - loss: 0.2195\n",
      "Epoch 4/10\n",
      "194/194 [==============================] - 39s 200ms/step - loss: 0.2184\n",
      "Epoch 5/10\n",
      "194/194 [==============================] - 39s 200ms/step - loss: 0.2203\n",
      "Epoch 6/10\n",
      "194/194 [==============================] - 39s 201ms/step - loss: 0.2191\n",
      "Epoch 7/10\n",
      "194/194 [==============================] - 39s 200ms/step - loss: 0.2196\n",
      "Epoch 8/10\n",
      "194/194 [==============================] - 39s 200ms/step - loss: 0.2201\n",
      "Epoch 9/10\n",
      "194/194 [==============================] - 39s 200ms/step - loss: 0.2166\n",
      "Epoch 10/10\n",
      "194/194 [==============================] - 39s 200ms/step - loss: 0.2137\n",
      "0.47150350549993886\n",
      "Epoch 1/10\n",
      "194/194 [==============================] - 39s 200ms/step - loss: 0.2170\n",
      "Epoch 2/10\n",
      "194/194 [==============================] - 39s 200ms/step - loss: 0.2174\n",
      "Epoch 3/10\n",
      "194/194 [==============================] - 39s 200ms/step - loss: 0.2202\n",
      "Epoch 4/10\n",
      "194/194 [==============================] - 39s 200ms/step - loss: 0.2140\n",
      "Epoch 5/10\n",
      "194/194 [==============================] - 39s 200ms/step - loss: 0.2158\n",
      "Epoch 6/10\n",
      "194/194 [==============================] - 39s 200ms/step - loss: 0.2111\n",
      "Epoch 7/10\n",
      "194/194 [==============================] - 39s 200ms/step - loss: 0.2154\n",
      "Epoch 8/10\n",
      "194/194 [==============================] - 39s 200ms/step - loss: 0.2125\n",
      "Epoch 9/10\n",
      "194/194 [==============================] - 39s 200ms/step - loss: 0.2097\n",
      "Epoch 10/10\n",
      "194/194 [==============================] - 39s 200ms/step - loss: 0.2091\n",
      "0.5225217377768644\n",
      "Epoch 1/10\n",
      "194/194 [==============================] - 39s 200ms/step - loss: 0.2062\n",
      "Epoch 2/10\n",
      "194/194 [==============================] - 39s 200ms/step - loss: 0.2058\n",
      "Epoch 3/10\n",
      "194/194 [==============================] - 39s 200ms/step - loss: 0.2050\n",
      "Epoch 4/10\n",
      "194/194 [==============================] - 39s 200ms/step - loss: 0.2053\n",
      "Epoch 5/10\n",
      "194/194 [==============================] - 39s 200ms/step - loss: 0.2059\n",
      "Epoch 6/10\n",
      "194/194 [==============================] - 39s 200ms/step - loss: 0.2049\n",
      "Epoch 7/10\n",
      "194/194 [==============================] - 39s 200ms/step - loss: 0.2048\n",
      "Epoch 8/10\n",
      "194/194 [==============================] - 39s 200ms/step - loss: 0.2050\n",
      "Epoch 9/10\n",
      "194/194 [==============================] - 39s 200ms/step - loss: 0.2044\n",
      "Epoch 10/10\n",
      "194/194 [==============================] - 39s 201ms/step - loss: 0.2048\n",
      "0.4679675670827789\n",
      "Epoch 1/10\n",
      "194/194 [==============================] - 39s 200ms/step - loss: 0.2061\n",
      "Epoch 2/10\n",
      "194/194 [==============================] - 39s 200ms/step - loss: 0.2061\n",
      "Epoch 3/10\n",
      "194/194 [==============================] - 39s 200ms/step - loss: 0.2063\n",
      "Epoch 4/10\n",
      "194/194 [==============================] - 39s 200ms/step - loss: 0.2049\n",
      "Epoch 5/10\n",
      "194/194 [==============================] - 39s 200ms/step - loss: 0.2041\n",
      "Epoch 6/10\n",
      "194/194 [==============================] - 39s 200ms/step - loss: 0.2063\n",
      "Epoch 7/10\n",
      "194/194 [==============================] - 39s 200ms/step - loss: 0.2045\n",
      "Epoch 8/10\n",
      "194/194 [==============================] - 39s 200ms/step - loss: 0.2052\n",
      "Epoch 9/10\n",
      "194/194 [==============================] - 39s 199ms/step - loss: 0.2061\n",
      "Epoch 10/10\n",
      "194/194 [==============================] - 39s 200ms/step - loss: 0.2049\n",
      "0.4795999453548113\n"
     ]
    }
   ],
   "source": [
    "kf = KFold(n_splits=5, shuffle=True)\n",
    "for fold, (train_id, test_id) in enumerate(kf.split(df_train['phraseology'])):\n",
    "    input_ids_train, attention_mask_train = input_ids.iloc[train_id], attention_mask.iloc[train_id]\n",
    "    input_ids_val, attention_mask_val = input_ids.iloc[test_id], attention_mask.iloc[test_id]\n",
    "    y_train, y_test = df_train['phraseology'].iloc[train_id], df_train['phraseology'].iloc[test_id]\n",
    "    \n",
    "    input_ids_train_tensor = tf.convert_to_tensor([x for x in input_ids_train.tolist()])\n",
    "    attention_mask_train_tensor = tf.convert_to_tensor([x for x in attention_mask_train.tolist()])\n",
    "    input_ids_val_tensor = tf.convert_to_tensor([x for x in input_ids_val.tolist()])\n",
    "    attention_mask_val_tensor = tf.convert_to_tensor([x for x in attention_mask_val.tolist()])\n",
    "\n",
    "    if fold == 1:\n",
    "        tf.keras.backend.set_value(model.optimizer.learning_rate, 0.001)\n",
    "    if fold == 3:\n",
    "        tf.keras.backend.set_value(model.optimizer.learning_rate, 0.0001)\n",
    "    model.fit(\n",
    "        x=(input_ids_train_tensor, attention_mask_train_tensor),\n",
    "        y=tf.convert_to_tensor([np.array([x]) for x in y_train.tolist()]),\n",
    "        epochs=10,\n",
    "        shuffle=True,\n",
    "        batch_size=16,)\n",
    "    \n",
    "    pred = model.predict((input_ids_val_tensor, attention_mask_val_tensor))\n",
    "    print(mean_squared_error(y_test, pred, squared=False))"
   ]
  },
  {
   "cell_type": "code",
   "execution_count": 10,
   "id": "41719aa6",
   "metadata": {
    "execution": {
     "iopub.execute_input": "2022-11-29T09:54:16.398726Z",
     "iopub.status.busy": "2022-11-29T09:54:16.398328Z",
     "iopub.status.idle": "2022-11-29T09:54:16.942710Z",
     "shell.execute_reply": "2022-11-29T09:54:16.941694Z"
    },
    "papermill": {
     "duration": 1.111068,
     "end_time": "2022-11-29T09:54:16.945166",
     "exception": false,
     "start_time": "2022-11-29T09:54:15.834098",
     "status": "completed"
    },
    "tags": []
   },
   "outputs": [],
   "source": [
    "model.save('phraseology.h5')"
   ]
  }
 ],
 "metadata": {
  "kernelspec": {
   "display_name": "Python 3",
   "language": "python",
   "name": "python3"
  },
  "language_info": {
   "codemirror_mode": {
    "name": "ipython",
    "version": 3
   },
   "file_extension": ".py",
   "mimetype": "text/x-python",
   "name": "python",
   "nbconvert_exporter": "python",
   "pygments_lexer": "ipython3",
   "version": "3.7.12"
  },
  "papermill": {
   "default_parameters": {},
   "duration": 2098.352767,
   "end_time": "2022-11-29T09:54:20.567123",
   "environment_variables": {},
   "exception": null,
   "input_path": "__notebook__.ipynb",
   "output_path": "__notebook__.ipynb",
   "parameters": {},
   "start_time": "2022-11-29T09:19:22.214356",
   "version": "2.3.4"
  }
 },
 "nbformat": 4,
 "nbformat_minor": 5
}
