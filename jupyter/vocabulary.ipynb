{
 "cells": [
  {
   "cell_type": "code",
   "execution_count": 1,
   "id": "ad89cda8",
   "metadata": {
    "execution": {
     "iopub.execute_input": "2022-11-29T09:11:42.312647Z",
     "iopub.status.busy": "2022-11-29T09:11:42.311780Z",
     "iopub.status.idle": "2022-11-29T09:11:47.455244Z",
     "shell.execute_reply": "2022-11-29T09:11:47.454282Z"
    },
    "papermill": {
     "duration": 5.151335,
     "end_time": "2022-11-29T09:11:47.457725",
     "exception": false,
     "start_time": "2022-11-29T09:11:42.306390",
     "status": "completed"
    },
    "tags": []
   },
   "outputs": [],
   "source": [
    "import numpy as np\n",
    "import pandas as pd\n",
    "import matplotlib.pyplot as plt\n",
    "import seaborn as sns\n",
    "import tensorflow as tf\n",
    "import transformers\n",
    "from sklearn.model_selection import KFold\n",
    "from sklearn.metrics import mean_squared_error\n",
    "import json\n",
    "from math import log10, floor"
   ]
  },
  {
   "cell_type": "code",
   "execution_count": 2,
   "id": "3665dc43",
   "metadata": {
    "execution": {
     "iopub.execute_input": "2022-11-29T09:11:47.468348Z",
     "iopub.status.busy": "2022-11-29T09:11:47.466755Z",
     "iopub.status.idle": "2022-11-29T09:11:47.707020Z",
     "shell.execute_reply": "2022-11-29T09:11:47.706067Z"
    },
    "papermill": {
     "duration": 0.246532,
     "end_time": "2022-11-29T09:11:47.709237",
     "exception": false,
     "start_time": "2022-11-29T09:11:47.462705",
     "status": "completed"
    },
    "tags": []
   },
   "outputs": [
    {
     "data": {
      "text/html": [
       "<div>\n",
       "<style scoped>\n",
       "    .dataframe tbody tr th:only-of-type {\n",
       "        vertical-align: middle;\n",
       "    }\n",
       "\n",
       "    .dataframe tbody tr th {\n",
       "        vertical-align: top;\n",
       "    }\n",
       "\n",
       "    .dataframe thead th {\n",
       "        text-align: right;\n",
       "    }\n",
       "</style>\n",
       "<table border=\"1\" class=\"dataframe\">\n",
       "  <thead>\n",
       "    <tr style=\"text-align: right;\">\n",
       "      <th></th>\n",
       "      <th>full_text</th>\n",
       "      <th>vocabulary</th>\n",
       "    </tr>\n",
       "  </thead>\n",
       "  <tbody>\n",
       "    <tr>\n",
       "      <th>0</th>\n",
       "      <td>I think that students would benefit from learn...</td>\n",
       "      <td>3.0</td>\n",
       "    </tr>\n",
       "    <tr>\n",
       "      <th>1</th>\n",
       "      <td>When a problem is a change you have to let it ...</td>\n",
       "      <td>3.0</td>\n",
       "    </tr>\n",
       "    <tr>\n",
       "      <th>2</th>\n",
       "      <td>Dear, Principal If u change the school policy ...</td>\n",
       "      <td>3.0</td>\n",
       "    </tr>\n",
       "    <tr>\n",
       "      <th>3</th>\n",
       "      <td>The best time in life is when you become yours...</td>\n",
       "      <td>4.5</td>\n",
       "    </tr>\n",
       "    <tr>\n",
       "      <th>4</th>\n",
       "      <td>Small act of kindness can impact in other peop...</td>\n",
       "      <td>3.0</td>\n",
       "    </tr>\n",
       "  </tbody>\n",
       "</table>\n",
       "</div>"
      ],
      "text/plain": [
       "                                           full_text  vocabulary\n",
       "0  I think that students would benefit from learn...         3.0\n",
       "1  When a problem is a change you have to let it ...         3.0\n",
       "2  Dear, Principal If u change the school policy ...         3.0\n",
       "3  The best time in life is when you become yours...         4.5\n",
       "4  Small act of kindness can impact in other peop...         3.0"
      ]
     },
     "execution_count": 2,
     "metadata": {},
     "output_type": "execute_result"
    }
   ],
   "source": [
    "df_train = pd.read_csv('/kaggle/input/data-cleaning/vocabulary.csv')\n",
    "df_test = pd.read_csv('../input/feedback-prize-english-language-learning/test.csv')\n",
    "df_train.head()"
   ]
  },
  {
   "cell_type": "code",
   "execution_count": 3,
   "id": "a89a54e7",
   "metadata": {
    "execution": {
     "iopub.execute_input": "2022-11-29T09:11:47.716235Z",
     "iopub.status.busy": "2022-11-29T09:11:47.715895Z",
     "iopub.status.idle": "2022-11-29T09:11:48.331438Z",
     "shell.execute_reply": "2022-11-29T09:11:48.330361Z"
    },
    "papermill": {
     "duration": 0.621654,
     "end_time": "2022-11-29T09:11:48.333880",
     "exception": false,
     "start_time": "2022-11-29T09:11:47.712226",
     "status": "completed"
    },
    "tags": []
   },
   "outputs": [],
   "source": [
    "df_train['full_text'].replace(r'\\s+|\\\\n', ' ', regex=True, inplace=True) \n",
    "df_test['full_text'].replace(r'\\s+|\\\\n', ' ', regex=True, inplace=True)"
   ]
  },
  {
   "cell_type": "code",
   "execution_count": 4,
   "id": "ff1dfb0a",
   "metadata": {
    "execution": {
     "iopub.execute_input": "2022-11-29T09:11:48.341468Z",
     "iopub.status.busy": "2022-11-29T09:11:48.340824Z",
     "iopub.status.idle": "2022-11-29T09:11:48.349681Z",
     "shell.execute_reply": "2022-11-29T09:11:48.348712Z"
    },
    "papermill": {
     "duration": 0.014685,
     "end_time": "2022-11-29T09:11:48.351648",
     "exception": false,
     "start_time": "2022-11-29T09:11:48.336963",
     "status": "completed"
    },
    "tags": []
   },
   "outputs": [
    {
     "data": {
      "text/plain": [
       "0    I think that students would benefit from learn...\n",
       "1    When a problem is a change you have to let it ...\n",
       "2    Dear, Principal If u change the school policy ...\n",
       "3    The best time in life is when you become yours...\n",
       "4    Small act of kindness can impact in other peop...\n",
       "Name: full_text, dtype: object"
      ]
     },
     "execution_count": 4,
     "metadata": {},
     "output_type": "execute_result"
    }
   ],
   "source": [
    "df_train['full_text'].head()"
   ]
  },
  {
   "cell_type": "code",
   "execution_count": 5,
   "id": "57f5e5c7",
   "metadata": {
    "execution": {
     "iopub.execute_input": "2022-11-29T09:11:48.358832Z",
     "iopub.status.busy": "2022-11-29T09:11:48.358575Z",
     "iopub.status.idle": "2022-11-29T09:11:48.720260Z",
     "shell.execute_reply": "2022-11-29T09:11:48.719291Z"
    },
    "papermill": {
     "duration": 0.368108,
     "end_time": "2022-11-29T09:11:48.722648",
     "exception": false,
     "start_time": "2022-11-29T09:11:48.354540",
     "status": "completed"
    },
    "tags": []
   },
   "outputs": [],
   "source": [
    "tokenizer = transformers.DistilBertTokenizerFast.from_pretrained('../input/huggingface-bert-variants/distilbert-base-uncased/distilbert-base-uncased')"
   ]
  },
  {
   "cell_type": "code",
   "execution_count": 6,
   "id": "9b4d3211",
   "metadata": {
    "execution": {
     "iopub.execute_input": "2022-11-29T09:11:48.730838Z",
     "iopub.status.busy": "2022-11-29T09:11:48.729931Z",
     "iopub.status.idle": "2022-11-29T09:12:05.730422Z",
     "shell.execute_reply": "2022-11-29T09:12:05.729463Z"
    },
    "papermill": {
     "duration": 17.006966,
     "end_time": "2022-11-29T09:12:05.732839",
     "exception": false,
     "start_time": "2022-11-29T09:11:48.725873",
     "status": "completed"
    },
    "tags": []
   },
   "outputs": [
    {
     "name": "stderr",
     "output_type": "stream",
     "text": [
      "2022-11-29 09:11:50.903953: I tensorflow/stream_executor/cuda/cuda_gpu_executor.cc:937] successful NUMA node read from SysFS had negative value (-1), but there must be at least one NUMA node, so returning NUMA node zero\n",
      "2022-11-29 09:11:50.905050: I tensorflow/stream_executor/cuda/cuda_gpu_executor.cc:937] successful NUMA node read from SysFS had negative value (-1), but there must be at least one NUMA node, so returning NUMA node zero\n",
      "2022-11-29 09:11:50.905725: I tensorflow/stream_executor/cuda/cuda_gpu_executor.cc:937] successful NUMA node read from SysFS had negative value (-1), but there must be at least one NUMA node, so returning NUMA node zero\n",
      "2022-11-29 09:11:50.906731: I tensorflow/core/platform/cpu_feature_guard.cc:142] This TensorFlow binary is optimized with oneAPI Deep Neural Network Library (oneDNN) to use the following CPU instructions in performance-critical operations:  AVX2 AVX512F FMA\n",
      "To enable them in other operations, rebuild TensorFlow with the appropriate compiler flags.\n",
      "2022-11-29 09:11:50.907101: I tensorflow/stream_executor/cuda/cuda_gpu_executor.cc:937] successful NUMA node read from SysFS had negative value (-1), but there must be at least one NUMA node, so returning NUMA node zero\n",
      "2022-11-29 09:11:50.907791: I tensorflow/stream_executor/cuda/cuda_gpu_executor.cc:937] successful NUMA node read from SysFS had negative value (-1), but there must be at least one NUMA node, so returning NUMA node zero\n",
      "2022-11-29 09:11:50.908484: I tensorflow/stream_executor/cuda/cuda_gpu_executor.cc:937] successful NUMA node read from SysFS had negative value (-1), but there must be at least one NUMA node, so returning NUMA node zero\n",
      "2022-11-29 09:11:55.287720: I tensorflow/stream_executor/cuda/cuda_gpu_executor.cc:937] successful NUMA node read from SysFS had negative value (-1), but there must be at least one NUMA node, so returning NUMA node zero\n",
      "2022-11-29 09:11:55.288596: I tensorflow/stream_executor/cuda/cuda_gpu_executor.cc:937] successful NUMA node read from SysFS had negative value (-1), but there must be at least one NUMA node, so returning NUMA node zero\n",
      "2022-11-29 09:11:55.289258: I tensorflow/stream_executor/cuda/cuda_gpu_executor.cc:937] successful NUMA node read from SysFS had negative value (-1), but there must be at least one NUMA node, so returning NUMA node zero\n",
      "2022-11-29 09:11:55.289833: I tensorflow/core/common_runtime/gpu/gpu_device.cc:1510] Created device /job:localhost/replica:0/task:0/device:GPU:0 with 15043 MB memory:  -> device: 0, name: Tesla P100-PCIE-16GB, pci bus id: 0000:00:04.0, compute capability: 6.0\n",
      "2022-11-29 09:11:55.667110: W tensorflow/python/util/util.cc:348] Sets are not currently considered sequences, but this may change in the future, so consider avoiding using them.\n",
      "Some layers from the model checkpoint at ../input/huggingface-bert-variants/distilbert-base-uncased/distilbert-base-uncased were not used when initializing TFDistilBertModel: ['vocab_projector', 'vocab_layer_norm', 'vocab_transform', 'activation_13']\n",
      "- This IS expected if you are initializing TFDistilBertModel from the checkpoint of a model trained on another task or with another architecture (e.g. initializing a BertForSequenceClassification model from a BertForPreTraining model).\n",
      "- This IS NOT expected if you are initializing TFDistilBertModel from the checkpoint of a model that you expect to be exactly identical (initializing a BertForSequenceClassification model from a BertForSequenceClassification model).\n",
      "All the layers of TFDistilBertModel were initialized from the model checkpoint at ../input/huggingface-bert-variants/distilbert-base-uncased/distilbert-base-uncased.\n",
      "If your task is similar to the task the model of the checkpoint was trained on, you can already use TFDistilBertModel for predictions without further training.\n"
     ]
    }
   ],
   "source": [
    "input_ids_layer = tf.keras.Input(shape=512, dtype=tf.int32)\n",
    "attention_mask_layer = tf.keras.Input(shape=512, dtype=tf.int32)\n",
    "base_model = transformers.TFDistilBertModel.from_pretrained('../input/huggingface-bert-variants/distilbert-base-uncased/distilbert-base-uncased')\n",
    "base_model.trainable = False\n",
    "base_model_output = base_model(input_ids=input_ids_layer, attention_mask = attention_mask_layer)\n",
    "pooling = tf.keras.layers.GlobalAveragePooling1D()(base_model_output.last_hidden_state)\n",
    "output = tf.keras.layers.Dense(1, activation=\"linear\")(pooling)\n",
    "model = tf.keras.Model(inputs=[input_ids_layer, attention_mask_layer], outputs=output)\n",
    "model.compile(\n",
    "    optimizer=tf.keras.optimizers.Adam(learning_rate=0.003), \n",
    "    loss='mse',\n",
    ")"
   ]
  },
  {
   "cell_type": "code",
   "execution_count": 7,
   "id": "c65ada46",
   "metadata": {
    "execution": {
     "iopub.execute_input": "2022-11-29T09:12:05.741872Z",
     "iopub.status.busy": "2022-11-29T09:12:05.740731Z",
     "iopub.status.idle": "2022-11-29T09:12:05.750781Z",
     "shell.execute_reply": "2022-11-29T09:12:05.749748Z"
    },
    "papermill": {
     "duration": 0.017518,
     "end_time": "2022-11-29T09:12:05.754091",
     "exception": false,
     "start_time": "2022-11-29T09:12:05.736573",
     "status": "completed"
    },
    "tags": []
   },
   "outputs": [
    {
     "name": "stdout",
     "output_type": "stream",
     "text": [
      "Model: \"model\"\n",
      "__________________________________________________________________________________________________\n",
      "Layer (type)                    Output Shape         Param #     Connected to                     \n",
      "==================================================================================================\n",
      "input_1 (InputLayer)            [(None, 512)]        0                                            \n",
      "__________________________________________________________________________________________________\n",
      "input_2 (InputLayer)            [(None, 512)]        0                                            \n",
      "__________________________________________________________________________________________________\n",
      "tf_distil_bert_model (TFDistilB TFBaseModelOutput(la 66362880    input_1[0][0]                    \n",
      "                                                                 input_2[0][0]                    \n",
      "__________________________________________________________________________________________________\n",
      "global_average_pooling1d (Globa (None, 768)          0           tf_distil_bert_model[0][0]       \n",
      "__________________________________________________________________________________________________\n",
      "dense (Dense)                   (None, 1)            769         global_average_pooling1d[0][0]   \n",
      "==================================================================================================\n",
      "Total params: 66,363,649\n",
      "Trainable params: 769\n",
      "Non-trainable params: 66,362,880\n",
      "__________________________________________________________________________________________________\n"
     ]
    }
   ],
   "source": [
    "model.summary()"
   ]
  },
  {
   "cell_type": "code",
   "execution_count": 8,
   "id": "32d8a9fd",
   "metadata": {
    "execution": {
     "iopub.execute_input": "2022-11-29T09:12:05.761484Z",
     "iopub.status.busy": "2022-11-29T09:12:05.761225Z",
     "iopub.status.idle": "2022-11-29T09:12:10.748727Z",
     "shell.execute_reply": "2022-11-29T09:12:10.747755Z"
    },
    "papermill": {
     "duration": 4.993878,
     "end_time": "2022-11-29T09:12:10.751143",
     "exception": false,
     "start_time": "2022-11-29T09:12:05.757265",
     "status": "completed"
    },
    "tags": []
   },
   "outputs": [],
   "source": [
    "encoded = tokenizer.batch_encode_plus(\n",
    "    df_train['full_text'].tolist(),\n",
    "    add_special_tokens=False,\n",
    "    max_length=512,\n",
    "    padding='max_length',\n",
    "    truncation=True,\n",
    "    return_attention_mask=True,)\n",
    "\n",
    "encoded_test = tokenizer.batch_encode_plus(\n",
    "    df_test['full_text'].tolist(),\n",
    "    add_special_tokens=False,\n",
    "    max_length=512,\n",
    "    padding='max_length',\n",
    "    truncation=True,\n",
    "    return_attention_mask=True,)\n",
    "\n",
    "input_ids = pd.Series(encoded['input_ids'])\n",
    "attention_mask = pd.Series(encoded['attention_mask'])\n",
    "\n",
    "input_ids_test = tf.convert_to_tensor(encoded_test['input_ids'])\n",
    "attention_mask_test = tf.convert_to_tensor(encoded_test['attention_mask'])"
   ]
  },
  {
   "cell_type": "code",
   "execution_count": 9,
   "id": "31762e97",
   "metadata": {
    "execution": {
     "iopub.execute_input": "2022-11-29T09:12:10.759878Z",
     "iopub.status.busy": "2022-11-29T09:12:10.759578Z",
     "iopub.status.idle": "2022-11-29T09:29:21.066120Z",
     "shell.execute_reply": "2022-11-29T09:29:21.063878Z"
    },
    "papermill": {
     "duration": 1030.315793,
     "end_time": "2022-11-29T09:29:21.070727",
     "exception": false,
     "start_time": "2022-11-29T09:12:10.754934",
     "status": "completed"
    },
    "tags": []
   },
   "outputs": [
    {
     "name": "stderr",
     "output_type": "stream",
     "text": [
      "2022-11-29 09:12:12.010068: I tensorflow/compiler/mlir/mlir_graph_optimization_pass.cc:185] None of the MLIR Optimization Passes are enabled (registered 2)\n"
     ]
    },
    {
     "name": "stdout",
     "output_type": "stream",
     "text": [
      "Epoch 1/5\n",
      "195/195 [==============================] - 44s 199ms/step - loss: 0.4825\n",
      "Epoch 2/5\n",
      "195/195 [==============================] - 39s 199ms/step - loss: 0.2128\n",
      "Epoch 3/5\n",
      "195/195 [==============================] - 39s 199ms/step - loss: 0.2039\n",
      "Epoch 4/5\n",
      "195/195 [==============================] - 39s 200ms/step - loss: 0.1993\n",
      "Epoch 5/5\n",
      "195/195 [==============================] - 39s 199ms/step - loss: 0.1973\n",
      "0.44396388108566465\n",
      "Epoch 1/5\n",
      "195/195 [==============================] - 39s 199ms/step - loss: 0.1895\n",
      "Epoch 2/5\n",
      "195/195 [==============================] - 39s 199ms/step - loss: 0.1879\n",
      "Epoch 3/5\n",
      "195/195 [==============================] - 39s 200ms/step - loss: 0.1879\n",
      "Epoch 4/5\n",
      "195/195 [==============================] - 39s 199ms/step - loss: 0.1860\n",
      "Epoch 5/5\n",
      "195/195 [==============================] - 39s 199ms/step - loss: 0.1871\n",
      "0.46192535417835257\n",
      "Epoch 1/5\n",
      "195/195 [==============================] - 39s 200ms/step - loss: 0.1829\n",
      "Epoch 2/5\n",
      "195/195 [==============================] - 39s 199ms/step - loss: 0.1823\n",
      "Epoch 3/5\n",
      "195/195 [==============================] - 39s 199ms/step - loss: 0.1794\n",
      "Epoch 4/5\n",
      "195/195 [==============================] - 39s 200ms/step - loss: 0.1836\n",
      "Epoch 5/5\n",
      "195/195 [==============================] - 39s 199ms/step - loss: 0.1839\n",
      "0.44039286615345374\n",
      "Epoch 1/5\n",
      "195/195 [==============================] - 39s 199ms/step - loss: 0.1755\n",
      "Epoch 2/5\n",
      "195/195 [==============================] - 39s 200ms/step - loss: 0.1756\n",
      "Epoch 3/5\n",
      "195/195 [==============================] - 39s 199ms/step - loss: 0.1747\n",
      "Epoch 4/5\n",
      "195/195 [==============================] - 39s 199ms/step - loss: 0.1739\n",
      "Epoch 5/5\n",
      "195/195 [==============================] - 39s 199ms/step - loss: 0.1745\n",
      "0.43726735859507454\n",
      "Epoch 1/5\n",
      "195/195 [==============================] - 39s 199ms/step - loss: 0.1779\n",
      "Epoch 2/5\n",
      "195/195 [==============================] - 39s 199ms/step - loss: 0.1776\n",
      "Epoch 3/5\n",
      "195/195 [==============================] - 39s 199ms/step - loss: 0.1764\n",
      "Epoch 4/5\n",
      "195/195 [==============================] - 39s 199ms/step - loss: 0.1779\n",
      "Epoch 5/5\n",
      "195/195 [==============================] - 39s 199ms/step - loss: 0.1770\n",
      "0.4066165524026658\n"
     ]
    }
   ],
   "source": [
    "kf = KFold(n_splits=5, shuffle=True)\n",
    "for fold, (train_id, test_id) in enumerate(kf.split(df_train['vocabulary'])):\n",
    "    input_ids_train, attention_mask_train = input_ids.iloc[train_id], attention_mask.iloc[train_id]\n",
    "    input_ids_val, attention_mask_val = input_ids.iloc[test_id], attention_mask.iloc[test_id]\n",
    "    y_train, y_test = df_train['vocabulary'].iloc[train_id], df_train['vocabulary'].iloc[test_id]\n",
    "    \n",
    "    input_ids_train_tensor = tf.convert_to_tensor([x for x in input_ids_train.tolist()])\n",
    "    attention_mask_train_tensor = tf.convert_to_tensor([x for x in attention_mask_train.tolist()])\n",
    "    input_ids_val_tensor = tf.convert_to_tensor([x for x in input_ids_val.tolist()])\n",
    "    attention_mask_val_tensor = tf.convert_to_tensor([x for x in attention_mask_val.tolist()])\n",
    "\n",
    "    if fold == 1:\n",
    "        tf.keras.backend.set_value(model.optimizer.learning_rate, 0.001)\n",
    "    if fold == 3:\n",
    "        tf.keras.backend.set_value(model.optimizer.learning_rate, 0.0001)\n",
    "\n",
    "    model.fit(\n",
    "        x=(input_ids_train_tensor, attention_mask_train_tensor),\n",
    "        y=tf.convert_to_tensor([np.array([x]) for x in y_train.tolist()]),\n",
    "        epochs=5,\n",
    "        shuffle=True,\n",
    "        batch_size=16,)\n",
    "    \n",
    "    pred = model.predict((input_ids_val_tensor, attention_mask_val_tensor))\n",
    "    print(mean_squared_error(y_test, pred, squared=False))"
   ]
  },
  {
   "cell_type": "code",
   "execution_count": 10,
   "id": "f83a85f2",
   "metadata": {
    "execution": {
     "iopub.execute_input": "2022-11-29T09:29:21.769636Z",
     "iopub.status.busy": "2022-11-29T09:29:21.769288Z",
     "iopub.status.idle": "2022-11-29T09:29:22.309922Z",
     "shell.execute_reply": "2022-11-29T09:29:22.308938Z"
    },
    "papermill": {
     "duration": 0.83718,
     "end_time": "2022-11-29T09:29:22.312371",
     "exception": false,
     "start_time": "2022-11-29T09:29:21.475191",
     "status": "completed"
    },
    "tags": []
   },
   "outputs": [],
   "source": [
    "model.save('vocabulary.h5')"
   ]
  }
 ],
 "metadata": {
  "kernelspec": {
   "display_name": "Python 3",
   "language": "python",
   "name": "python3"
  },
  "language_info": {
   "codemirror_mode": {
    "name": "ipython",
    "version": 3
   },
   "file_extension": ".py",
   "mimetype": "text/x-python",
   "name": "python",
   "nbconvert_exporter": "python",
   "pygments_lexer": "ipython3",
   "version": "3.7.12"
  },
  "papermill": {
   "default_parameters": {},
   "duration": 1071.75443,
   "end_time": "2022-11-29T09:29:26.044858",
   "environment_variables": {},
   "exception": null,
   "input_path": "__notebook__.ipynb",
   "output_path": "__notebook__.ipynb",
   "parameters": {},
   "start_time": "2022-11-29T09:11:34.290428",
   "version": "2.3.4"
  }
 },
 "nbformat": 4,
 "nbformat_minor": 5
}
