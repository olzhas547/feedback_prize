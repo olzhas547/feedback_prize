{
 "cells": [
  {
   "cell_type": "code",
   "execution_count": 1,
   "id": "41202b68",
   "metadata": {
    "execution": {
     "iopub.execute_input": "2022-11-29T08:13:16.298173Z",
     "iopub.status.busy": "2022-11-29T08:13:16.297458Z",
     "iopub.status.idle": "2022-11-29T08:13:21.565282Z",
     "shell.execute_reply": "2022-11-29T08:13:21.564197Z"
    },
    "papermill": {
     "duration": 5.276046,
     "end_time": "2022-11-29T08:13:21.568297",
     "exception": false,
     "start_time": "2022-11-29T08:13:16.292251",
     "status": "completed"
    },
    "tags": []
   },
   "outputs": [],
   "source": [
    "import numpy as np\n",
    "import pandas as pd\n",
    "import matplotlib.pyplot as plt\n",
    "import seaborn as sns\n",
    "import tensorflow as tf\n",
    "import transformers\n",
    "from sklearn.model_selection import KFold\n",
    "from sklearn.metrics import mean_squared_error\n",
    "import json\n",
    "from math import log10, floor"
   ]
  },
  {
   "cell_type": "code",
   "execution_count": 2,
   "id": "b32e2109",
   "metadata": {
    "execution": {
     "iopub.execute_input": "2022-11-29T08:13:21.579810Z",
     "iopub.status.busy": "2022-11-29T08:13:21.578130Z",
     "iopub.status.idle": "2022-11-29T08:13:21.789644Z",
     "shell.execute_reply": "2022-11-29T08:13:21.788466Z"
    },
    "papermill": {
     "duration": 0.218449,
     "end_time": "2022-11-29T08:13:21.792625",
     "exception": false,
     "start_time": "2022-11-29T08:13:21.574176",
     "status": "completed"
    },
    "tags": []
   },
   "outputs": [
    {
     "data": {
      "text/html": [
       "<div>\n",
       "<style scoped>\n",
       "    .dataframe tbody tr th:only-of-type {\n",
       "        vertical-align: middle;\n",
       "    }\n",
       "\n",
       "    .dataframe tbody tr th {\n",
       "        vertical-align: top;\n",
       "    }\n",
       "\n",
       "    .dataframe thead th {\n",
       "        text-align: right;\n",
       "    }\n",
       "</style>\n",
       "<table border=\"1\" class=\"dataframe\">\n",
       "  <thead>\n",
       "    <tr style=\"text-align: right;\">\n",
       "      <th></th>\n",
       "      <th>full_text</th>\n",
       "      <th>syntax</th>\n",
       "    </tr>\n",
       "  </thead>\n",
       "  <tbody>\n",
       "    <tr>\n",
       "      <th>0</th>\n",
       "      <td>I think that students would benefit from learn...</td>\n",
       "      <td>3.5</td>\n",
       "    </tr>\n",
       "    <tr>\n",
       "      <th>1</th>\n",
       "      <td>When a problem is a change you have to let it ...</td>\n",
       "      <td>2.5</td>\n",
       "    </tr>\n",
       "    <tr>\n",
       "      <th>2</th>\n",
       "      <td>Dear, Principal If u change the school policy ...</td>\n",
       "      <td>3.5</td>\n",
       "    </tr>\n",
       "    <tr>\n",
       "      <th>3</th>\n",
       "      <td>The best time in life is when you become yours...</td>\n",
       "      <td>4.5</td>\n",
       "    </tr>\n",
       "    <tr>\n",
       "      <th>4</th>\n",
       "      <td>Small act of kindness can impact in other peop...</td>\n",
       "      <td>3.0</td>\n",
       "    </tr>\n",
       "  </tbody>\n",
       "</table>\n",
       "</div>"
      ],
      "text/plain": [
       "                                           full_text  syntax\n",
       "0  I think that students would benefit from learn...     3.5\n",
       "1  When a problem is a change you have to let it ...     2.5\n",
       "2  Dear, Principal If u change the school policy ...     3.5\n",
       "3  The best time in life is when you become yours...     4.5\n",
       "4  Small act of kindness can impact in other peop...     3.0"
      ]
     },
     "execution_count": 2,
     "metadata": {},
     "output_type": "execute_result"
    }
   ],
   "source": [
    "df_train = pd.read_csv('/kaggle/input/data-cleaning/syntax.csv')\n",
    "df_test = pd.read_csv('../input/feedback-prize-english-language-learning/test.csv')\n",
    "df_train.head()"
   ]
  },
  {
   "cell_type": "code",
   "execution_count": 3,
   "id": "b5f5c5b3",
   "metadata": {
    "execution": {
     "iopub.execute_input": "2022-11-29T08:13:21.801601Z",
     "iopub.status.busy": "2022-11-29T08:13:21.801222Z",
     "iopub.status.idle": "2022-11-29T08:13:22.347181Z",
     "shell.execute_reply": "2022-11-29T08:13:22.346239Z"
    },
    "papermill": {
     "duration": 0.552976,
     "end_time": "2022-11-29T08:13:22.349468",
     "exception": false,
     "start_time": "2022-11-29T08:13:21.796492",
     "status": "completed"
    },
    "tags": []
   },
   "outputs": [],
   "source": [
    "df_train['full_text'].replace(r'\\s+|\\\\n', ' ', regex=True, inplace=True) \n",
    "df_test['full_text'].replace(r'\\s+|\\\\n', ' ', regex=True, inplace=True)"
   ]
  },
  {
   "cell_type": "code",
   "execution_count": 4,
   "id": "f9051e08",
   "metadata": {
    "execution": {
     "iopub.execute_input": "2022-11-29T08:13:22.357133Z",
     "iopub.status.busy": "2022-11-29T08:13:22.356275Z",
     "iopub.status.idle": "2022-11-29T08:13:22.364101Z",
     "shell.execute_reply": "2022-11-29T08:13:22.362954Z"
    },
    "papermill": {
     "duration": 0.014192,
     "end_time": "2022-11-29T08:13:22.366666",
     "exception": false,
     "start_time": "2022-11-29T08:13:22.352474",
     "status": "completed"
    },
    "tags": []
   },
   "outputs": [
    {
     "data": {
      "text/plain": [
       "0    I think that students would benefit from learn...\n",
       "1    When a problem is a change you have to let it ...\n",
       "2    Dear, Principal If u change the school policy ...\n",
       "3    The best time in life is when you become yours...\n",
       "4    Small act of kindness can impact in other peop...\n",
       "Name: full_text, dtype: object"
      ]
     },
     "execution_count": 4,
     "metadata": {},
     "output_type": "execute_result"
    }
   ],
   "source": [
    "df_train['full_text'].head()"
   ]
  },
  {
   "cell_type": "code",
   "execution_count": 5,
   "id": "35a0cce5",
   "metadata": {
    "execution": {
     "iopub.execute_input": "2022-11-29T08:13:22.373442Z",
     "iopub.status.busy": "2022-11-29T08:13:22.373130Z",
     "iopub.status.idle": "2022-11-29T08:13:22.722941Z",
     "shell.execute_reply": "2022-11-29T08:13:22.722001Z"
    },
    "papermill": {
     "duration": 0.355849,
     "end_time": "2022-11-29T08:13:22.725319",
     "exception": false,
     "start_time": "2022-11-29T08:13:22.369470",
     "status": "completed"
    },
    "tags": []
   },
   "outputs": [],
   "source": [
    "tokenizer = transformers.DistilBertTokenizerFast.from_pretrained('../input/huggingface-bert-variants/distilbert-base-uncased/distilbert-base-uncased')"
   ]
  },
  {
   "cell_type": "code",
   "execution_count": 6,
   "id": "cec26b16",
   "metadata": {
    "execution": {
     "iopub.execute_input": "2022-11-29T08:13:22.732446Z",
     "iopub.status.busy": "2022-11-29T08:13:22.732147Z",
     "iopub.status.idle": "2022-11-29T08:13:40.800311Z",
     "shell.execute_reply": "2022-11-29T08:13:40.799357Z"
    },
    "papermill": {
     "duration": 18.074334,
     "end_time": "2022-11-29T08:13:40.802697",
     "exception": false,
     "start_time": "2022-11-29T08:13:22.728363",
     "status": "completed"
    },
    "tags": []
   },
   "outputs": [
    {
     "name": "stderr",
     "output_type": "stream",
     "text": [
      "2022-11-29 08:13:25.058159: I tensorflow/stream_executor/cuda/cuda_gpu_executor.cc:937] successful NUMA node read from SysFS had negative value (-1), but there must be at least one NUMA node, so returning NUMA node zero\n",
      "2022-11-29 08:13:25.059347: I tensorflow/stream_executor/cuda/cuda_gpu_executor.cc:937] successful NUMA node read from SysFS had negative value (-1), but there must be at least one NUMA node, so returning NUMA node zero\n",
      "2022-11-29 08:13:25.060034: I tensorflow/stream_executor/cuda/cuda_gpu_executor.cc:937] successful NUMA node read from SysFS had negative value (-1), but there must be at least one NUMA node, so returning NUMA node zero\n",
      "2022-11-29 08:13:25.060863: I tensorflow/core/platform/cpu_feature_guard.cc:142] This TensorFlow binary is optimized with oneAPI Deep Neural Network Library (oneDNN) to use the following CPU instructions in performance-critical operations:  AVX2 AVX512F FMA\n",
      "To enable them in other operations, rebuild TensorFlow with the appropriate compiler flags.\n",
      "2022-11-29 08:13:25.061182: I tensorflow/stream_executor/cuda/cuda_gpu_executor.cc:937] successful NUMA node read from SysFS had negative value (-1), but there must be at least one NUMA node, so returning NUMA node zero\n",
      "2022-11-29 08:13:25.061928: I tensorflow/stream_executor/cuda/cuda_gpu_executor.cc:937] successful NUMA node read from SysFS had negative value (-1), but there must be at least one NUMA node, so returning NUMA node zero\n",
      "2022-11-29 08:13:25.062607: I tensorflow/stream_executor/cuda/cuda_gpu_executor.cc:937] successful NUMA node read from SysFS had negative value (-1), but there must be at least one NUMA node, so returning NUMA node zero\n",
      "2022-11-29 08:13:29.720230: I tensorflow/stream_executor/cuda/cuda_gpu_executor.cc:937] successful NUMA node read from SysFS had negative value (-1), but there must be at least one NUMA node, so returning NUMA node zero\n",
      "2022-11-29 08:13:29.721147: I tensorflow/stream_executor/cuda/cuda_gpu_executor.cc:937] successful NUMA node read from SysFS had negative value (-1), but there must be at least one NUMA node, so returning NUMA node zero\n",
      "2022-11-29 08:13:29.721825: I tensorflow/stream_executor/cuda/cuda_gpu_executor.cc:937] successful NUMA node read from SysFS had negative value (-1), but there must be at least one NUMA node, so returning NUMA node zero\n",
      "2022-11-29 08:13:29.722404: I tensorflow/core/common_runtime/gpu/gpu_device.cc:1510] Created device /job:localhost/replica:0/task:0/device:GPU:0 with 15043 MB memory:  -> device: 0, name: Tesla P100-PCIE-16GB, pci bus id: 0000:00:04.0, compute capability: 6.0\n",
      "2022-11-29 08:13:30.098508: W tensorflow/python/util/util.cc:348] Sets are not currently considered sequences, but this may change in the future, so consider avoiding using them.\n",
      "Some layers from the model checkpoint at ../input/huggingface-bert-variants/distilbert-base-uncased/distilbert-base-uncased were not used when initializing TFDistilBertModel: ['vocab_layer_norm', 'vocab_transform', 'activation_13', 'vocab_projector']\n",
      "- This IS expected if you are initializing TFDistilBertModel from the checkpoint of a model trained on another task or with another architecture (e.g. initializing a BertForSequenceClassification model from a BertForPreTraining model).\n",
      "- This IS NOT expected if you are initializing TFDistilBertModel from the checkpoint of a model that you expect to be exactly identical (initializing a BertForSequenceClassification model from a BertForSequenceClassification model).\n",
      "All the layers of TFDistilBertModel were initialized from the model checkpoint at ../input/huggingface-bert-variants/distilbert-base-uncased/distilbert-base-uncased.\n",
      "If your task is similar to the task the model of the checkpoint was trained on, you can already use TFDistilBertModel for predictions without further training.\n"
     ]
    }
   ],
   "source": [
    "input_ids_layer = tf.keras.Input(shape=512, dtype=tf.int32)\n",
    "attention_mask_layer = tf.keras.Input(shape=512, dtype=tf.int32)\n",
    "base_model = transformers.TFDistilBertModel.from_pretrained('../input/huggingface-bert-variants/distilbert-base-uncased/distilbert-base-uncased')\n",
    "base_model.trainable = False\n",
    "base_model_output = base_model(input_ids=input_ids_layer, attention_mask = attention_mask_layer)\n",
    "pooling = tf.keras.layers.GlobalAveragePooling1D()(base_model_output.last_hidden_state)\n",
    "output = tf.keras.layers.Dense(1, activation=\"linear\")(pooling)\n",
    "model = tf.keras.Model(inputs=[input_ids_layer, attention_mask_layer], outputs=output)\n",
    "model.compile(\n",
    "    optimizer=tf.keras.optimizers.Adam(learning_rate=0.003), \n",
    "    loss='mse',\n",
    ")"
   ]
  },
  {
   "cell_type": "code",
   "execution_count": 7,
   "id": "cd3c00e6",
   "metadata": {
    "execution": {
     "iopub.execute_input": "2022-11-29T08:13:40.814628Z",
     "iopub.status.busy": "2022-11-29T08:13:40.814117Z",
     "iopub.status.idle": "2022-11-29T08:13:40.825889Z",
     "shell.execute_reply": "2022-11-29T08:13:40.824054Z"
    },
    "papermill": {
     "duration": 0.019066,
     "end_time": "2022-11-29T08:13:40.828430",
     "exception": false,
     "start_time": "2022-11-29T08:13:40.809364",
     "status": "completed"
    },
    "tags": []
   },
   "outputs": [
    {
     "name": "stdout",
     "output_type": "stream",
     "text": [
      "Model: \"model\"\n",
      "__________________________________________________________________________________________________\n",
      "Layer (type)                    Output Shape         Param #     Connected to                     \n",
      "==================================================================================================\n",
      "input_1 (InputLayer)            [(None, 512)]        0                                            \n",
      "__________________________________________________________________________________________________\n",
      "input_2 (InputLayer)            [(None, 512)]        0                                            \n",
      "__________________________________________________________________________________________________\n",
      "tf_distil_bert_model (TFDistilB TFBaseModelOutput(la 66362880    input_1[0][0]                    \n",
      "                                                                 input_2[0][0]                    \n",
      "__________________________________________________________________________________________________\n",
      "global_average_pooling1d (Globa (None, 768)          0           tf_distil_bert_model[0][0]       \n",
      "__________________________________________________________________________________________________\n",
      "dense (Dense)                   (None, 1)            769         global_average_pooling1d[0][0]   \n",
      "==================================================================================================\n",
      "Total params: 66,363,649\n",
      "Trainable params: 769\n",
      "Non-trainable params: 66,362,880\n",
      "__________________________________________________________________________________________________\n"
     ]
    }
   ],
   "source": [
    "model.summary()"
   ]
  },
  {
   "cell_type": "code",
   "execution_count": 8,
   "id": "979c92b4",
   "metadata": {
    "execution": {
     "iopub.execute_input": "2022-11-29T08:13:40.836252Z",
     "iopub.status.busy": "2022-11-29T08:13:40.835982Z",
     "iopub.status.idle": "2022-11-29T08:13:45.044417Z",
     "shell.execute_reply": "2022-11-29T08:13:45.043429Z"
    },
    "papermill": {
     "duration": 4.215002,
     "end_time": "2022-11-29T08:13:45.046805",
     "exception": false,
     "start_time": "2022-11-29T08:13:40.831803",
     "status": "completed"
    },
    "tags": []
   },
   "outputs": [],
   "source": [
    "encoded = tokenizer.batch_encode_plus(\n",
    "    df_train['full_text'].tolist(),\n",
    "    add_special_tokens=False,\n",
    "    max_length=512,\n",
    "    padding='max_length',\n",
    "    truncation=True,\n",
    "    return_attention_mask=True,)\n",
    "\n",
    "encoded_test = tokenizer.batch_encode_plus(\n",
    "    df_test['full_text'].tolist(),\n",
    "    add_special_tokens=False,\n",
    "    max_length=512,\n",
    "    padding='max_length',\n",
    "    truncation=True,\n",
    "    return_attention_mask=True,)\n",
    "\n",
    "input_ids = pd.Series(encoded['input_ids'])\n",
    "attention_mask = pd.Series(encoded['attention_mask'])\n",
    "\n",
    "input_ids_test = tf.convert_to_tensor(encoded_test['input_ids'])\n",
    "attention_mask_test = tf.convert_to_tensor(encoded_test['attention_mask'])\n"
   ]
  },
  {
   "cell_type": "code",
   "execution_count": 9,
   "id": "376710e5",
   "metadata": {
    "execution": {
     "iopub.execute_input": "2022-11-29T08:13:45.056452Z",
     "iopub.status.busy": "2022-11-29T08:13:45.054792Z",
     "iopub.status.idle": "2022-11-29T08:30:55.195647Z",
     "shell.execute_reply": "2022-11-29T08:30:55.194268Z"
    },
    "papermill": {
     "duration": 1030.147481,
     "end_time": "2022-11-29T08:30:55.197798",
     "exception": false,
     "start_time": "2022-11-29T08:13:45.050317",
     "status": "completed"
    },
    "tags": []
   },
   "outputs": [
    {
     "name": "stderr",
     "output_type": "stream",
     "text": [
      "2022-11-29 08:13:46.318138: I tensorflow/compiler/mlir/mlir_graph_optimization_pass.cc:185] None of the MLIR Optimization Passes are enabled (registered 2)\n"
     ]
    },
    {
     "name": "stdout",
     "output_type": "stream",
     "text": [
      "Epoch 1/5\n",
      "194/194 [==============================] - 44s 200ms/step - loss: 0.5236\n",
      "Epoch 2/5\n",
      "194/194 [==============================] - 39s 200ms/step - loss: 0.2476\n",
      "Epoch 3/5\n",
      "194/194 [==============================] - 39s 200ms/step - loss: 0.2400\n",
      "Epoch 4/5\n",
      "194/194 [==============================] - 39s 200ms/step - loss: 0.2339\n",
      "Epoch 5/5\n",
      "194/194 [==============================] - 39s 200ms/step - loss: 0.2369\n",
      "0.5763060183220815\n",
      "Epoch 1/5\n",
      "194/194 [==============================] - 39s 200ms/step - loss: 0.2246\n",
      "Epoch 2/5\n",
      "194/194 [==============================] - 39s 200ms/step - loss: 0.2302\n",
      "Epoch 3/5\n",
      "194/194 [==============================] - 39s 200ms/step - loss: 0.2235\n",
      "Epoch 4/5\n",
      "194/194 [==============================] - 39s 200ms/step - loss: 0.2215\n",
      "Epoch 5/5\n",
      "194/194 [==============================] - 39s 200ms/step - loss: 0.2237\n",
      "0.5575005085124367\n",
      "Epoch 1/5\n",
      "194/194 [==============================] - 39s 200ms/step - loss: 0.2171\n",
      "Epoch 2/5\n",
      "194/194 [==============================] - 39s 200ms/step - loss: 0.2215\n",
      "Epoch 3/5\n",
      "194/194 [==============================] - 39s 199ms/step - loss: 0.2165\n",
      "Epoch 4/5\n",
      "194/194 [==============================] - 39s 200ms/step - loss: 0.2141\n",
      "Epoch 5/5\n",
      "194/194 [==============================] - 39s 199ms/step - loss: 0.2130\n",
      "0.5304110508879378\n",
      "Epoch 1/5\n",
      "194/194 [==============================] - 39s 200ms/step - loss: 0.2059\n",
      "Epoch 2/5\n",
      "194/194 [==============================] - 39s 199ms/step - loss: 0.2074\n",
      "Epoch 3/5\n",
      "194/194 [==============================] - 39s 200ms/step - loss: 0.2065\n",
      "Epoch 4/5\n",
      "194/194 [==============================] - 39s 200ms/step - loss: 0.2063\n",
      "Epoch 5/5\n",
      "194/194 [==============================] - 39s 200ms/step - loss: 0.2056\n",
      "0.48075930471041545\n",
      "Epoch 1/5\n",
      "194/194 [==============================] - 39s 199ms/step - loss: 0.2097\n",
      "Epoch 2/5\n",
      "194/194 [==============================] - 39s 200ms/step - loss: 0.2103\n",
      "Epoch 3/5\n",
      "194/194 [==============================] - 39s 199ms/step - loss: 0.2091\n",
      "Epoch 4/5\n",
      "194/194 [==============================] - 39s 200ms/step - loss: 0.2092\n",
      "Epoch 5/5\n",
      "194/194 [==============================] - 39s 200ms/step - loss: 0.2083\n",
      "0.4819679721017849\n"
     ]
    }
   ],
   "source": [
    "kf = KFold(n_splits=5, shuffle=True)\n",
    "for fold, (train_id, test_id) in enumerate(kf.split(df_train['syntax'])):\n",
    "    input_ids_train, attention_mask_train = input_ids.iloc[train_id], attention_mask.iloc[train_id]\n",
    "    input_ids_val, attention_mask_val = input_ids.iloc[test_id], attention_mask.iloc[test_id]\n",
    "    y_train, y_test = df_train['syntax'].iloc[train_id], df_train['syntax'].iloc[test_id]\n",
    "    \n",
    "    input_ids_train_tensor = tf.convert_to_tensor([x for x in input_ids_train.tolist()])\n",
    "    attention_mask_train_tensor = tf.convert_to_tensor([x for x in attention_mask_train.tolist()])\n",
    "    input_ids_val_tensor = tf.convert_to_tensor([x for x in input_ids_val.tolist()])\n",
    "    attention_mask_val_tensor = tf.convert_to_tensor([x for x in attention_mask_val.tolist()])\n",
    "    \n",
    "    if fold == 1:\n",
    "        tf.keras.backend.set_value(model.optimizer.learning_rate, 0.001)\n",
    "    if fold == 3:\n",
    "        tf.keras.backend.set_value(model.optimizer.learning_rate, 0.0001)\n",
    "    model.fit(\n",
    "        x=(input_ids_train_tensor, attention_mask_train_tensor),\n",
    "        y=tf.convert_to_tensor([np.array([x]) for x in y_train.tolist()]),\n",
    "        epochs=5,\n",
    "        shuffle=True,\n",
    "        batch_size=16,)\n",
    "    \n",
    "    pred = model.predict((input_ids_val_tensor, attention_mask_val_tensor))\n",
    "    print(mean_squared_error(y_test, pred, squared=False))\n"
   ]
  },
  {
   "cell_type": "code",
   "execution_count": 10,
   "id": "1d9119d4",
   "metadata": {
    "execution": {
     "iopub.execute_input": "2022-11-29T08:30:55.913917Z",
     "iopub.status.busy": "2022-11-29T08:30:55.913573Z",
     "iopub.status.idle": "2022-11-29T08:30:56.464137Z",
     "shell.execute_reply": "2022-11-29T08:30:56.463187Z"
    },
    "papermill": {
     "duration": 0.893843,
     "end_time": "2022-11-29T08:30:56.466543",
     "exception": false,
     "start_time": "2022-11-29T08:30:55.572700",
     "status": "completed"
    },
    "tags": []
   },
   "outputs": [],
   "source": [
    "model.save('syntax.h5')"
   ]
  }
 ],
 "metadata": {
  "kernelspec": {
   "display_name": "Python 3",
   "language": "python",
   "name": "python3"
  },
  "language_info": {
   "codemirror_mode": {
    "name": "ipython",
    "version": 3
   },
   "file_extension": ".py",
   "mimetype": "text/x-python",
   "name": "python",
   "nbconvert_exporter": "python",
   "pygments_lexer": "ipython3",
   "version": "3.7.12"
  },
  "papermill": {
   "default_parameters": {},
   "duration": 1071.698981,
   "end_time": "2022-11-29T08:31:00.395976",
   "environment_variables": {},
   "exception": null,
   "input_path": "__notebook__.ipynb",
   "output_path": "__notebook__.ipynb",
   "parameters": {},
   "start_time": "2022-11-29T08:13:08.696995",
   "version": "2.3.4"
  }
 },
 "nbformat": 4,
 "nbformat_minor": 5
}
